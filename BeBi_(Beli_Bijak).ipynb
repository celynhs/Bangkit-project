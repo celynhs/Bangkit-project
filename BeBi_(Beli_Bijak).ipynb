{
  "nbformat": 4,
  "nbformat_minor": 0,
  "metadata": {
    "colab": {
      "provenance": [],
      "collapsed_sections": [
        "IGFjjYoFrU0q",
        "Z-oVTn3WsNQW",
        "oqllnwyps3um",
        "Ti4c8jzttCsO",
        "TcYJNyUwu72S",
        "nznG3mA30fng",
        "j8hXv6oF52pF",
        "f4oc4uLD7jRY",
        "shl4VkaSurfq",
        "NatdHwV2Ale-",
        "IloX0DmUAuD5",
        "-DOzL06cA3kq"
      ],
      "machine_shape": "hm",
      "gpuType": "V100",
      "include_colab_link": true
    },
    "kernelspec": {
      "name": "python3",
      "display_name": "Python 3"
    },
    "language_info": {
      "name": "python"
    },
    "accelerator": "GPU"
  },
  "cells": [
    {
      "cell_type": "markdown",
      "metadata": {
        "id": "view-in-github",
        "colab_type": "text"
      },
      "source": [
        "<a href=\"https://colab.research.google.com/github/celynhs/Bangkit-project/blob/main/BeBi_(Beli_Bijak).ipynb\" target=\"_parent\"><img src=\"https://colab.research.google.com/assets/colab-badge.svg\" alt=\"Open In Colab\"/></a>"
      ]
    },
    {
      "cell_type": "markdown",
      "source": [
        "# **Upload Datasets**"
      ],
      "metadata": {
        "id": "IGFjjYoFrU0q"
      }
    },
    {
      "cell_type": "code",
      "source": [
        "from google.colab import drive\n",
        "drive.mount('/content/drive')"
      ],
      "metadata": {
        "id": "1dOvnVG54i_n",
        "colab": {
          "base_uri": "https://localhost:8080/"
        },
        "outputId": "94776ce9-61ba-4568-94e3-935554221cc6"
      },
      "execution_count": 55,
      "outputs": [
        {
          "output_type": "stream",
          "name": "stdout",
          "text": [
            "Drive already mounted at /content/drive; to attempt to forcibly remount, call drive.mount(\"/content/drive\", force_remount=True).\n"
          ]
        }
      ]
    },
    {
      "cell_type": "markdown",
      "source": [
        "import modules"
      ],
      "metadata": {
        "id": "mifpNcbDreEj"
      }
    },
    {
      "cell_type": "code",
      "source": [
        "import math\n",
        "import scipy\n",
        "import numpy as np\n",
        "import pandas as pd\n",
        "import seaborn as sns"
      ],
      "metadata": {
        "id": "IijeeW5q5-gb"
      },
      "execution_count": 56,
      "outputs": []
    },
    {
      "cell_type": "markdown",
      "source": [
        "read dataset and convert them to dataframe using pandas"
      ],
      "metadata": {
        "id": "JnU9sXRzrgie"
      }
    },
    {
      "cell_type": "code",
      "source": [
        "# instacart datasets\n",
        "df1 = pd.read_csv('/content/drive/MyDrive/New folder/products.csv')\n",
        "df2 = pd.read_csv('/content/drive/MyDrive/New folder/aisles.csv')\n",
        "df8= pd.read_csv('/content/drive/MyDrive/New folder/departments.csv')\n",
        "df9 = pd.read_csv('/content/drive/MyDrive/New folder/order_products__train.csv')\n",
        "df10 = pd.read_csv('/content/drive/MyDrive/New folder/orders.csv')"
      ],
      "metadata": {
        "id": "oYsiq3vIwgJG"
      },
      "execution_count": 57,
      "outputs": []
    },
    {
      "cell_type": "code",
      "source": [
        "# Amazon datasets\n",
        "df3 = pd.read_csv('/content/drive/MyDrive/New folder/All Grocery and Gourmet Foods.csv')\n",
        "df4 = pd.read_csv('/content/drive/MyDrive/New folder/Coffee Tea and Beverages.csv')\n",
        "df5 = pd.read_csv('/content/drive/MyDrive/New folder/Diet and Nutrition.csv')\n",
        "df6 = pd.read_csv('/content/drive/MyDrive/New folder/Snack Foods.csv')\n",
        "\n",
        "# Bigmarket dataset\n",
        "df7 = pd.read_csv('/content/drive/MyDrive/New folder/BigBasket Products.csv')"
      ],
      "metadata": {
        "id": "3pBIwt7R7IIo"
      },
      "execution_count": 58,
      "outputs": []
    },
    {
      "cell_type": "markdown",
      "source": [
        "# Data Exploratory"
      ],
      "metadata": {
        "id": "Z-oVTn3WsNQW"
      }
    },
    {
      "cell_type": "markdown",
      "source": [
        "## Get the shapes of all the dataframes"
      ],
      "metadata": {
        "id": "oqllnwyps3um"
      }
    },
    {
      "cell_type": "code",
      "source": [
        "# content based filtering\n",
        "print(df3.shape) \n",
        "print(df4.shape)\n",
        "print(df5.shape)\n",
        "print(df6.shape)\n",
        "print(df7.shape)"
      ],
      "metadata": {
        "colab": {
          "base_uri": "https://localhost:8080/"
        },
        "id": "jkmqCBu8s8L4",
        "outputId": "fa64eb4d-ebb5-47fc-b939-708c7c9a68d0"
      },
      "execution_count": 59,
      "outputs": [
        {
          "output_type": "stream",
          "name": "stdout",
          "text": [
            "(960, 9)\n",
            "(1296, 9)\n",
            "(1200, 9)\n",
            "(1056, 9)\n",
            "(27555, 10)\n"
          ]
        }
      ]
    },
    {
      "cell_type": "code",
      "source": [
        "# collaborative filtering\n",
        "print(df1.shape) # data of products\n",
        "print(df2.shape) # data of aisle\n",
        "print(df8.shape) # data of departments\n",
        "print(df9.shape) # data of orders and products\n",
        "print(df10.shape) # data of customer orders"
      ],
      "metadata": {
        "colab": {
          "base_uri": "https://localhost:8080/"
        },
        "id": "55RE9JZwx9i1",
        "outputId": "bbecc2d6-f2da-4251-8a2a-23ff1e580d8c"
      },
      "execution_count": 60,
      "outputs": [
        {
          "output_type": "stream",
          "name": "stdout",
          "text": [
            "(49688, 4)\n",
            "(134, 2)\n",
            "(21, 2)\n",
            "(1384617, 4)\n",
            "(3421083, 7)\n"
          ]
        }
      ]
    },
    {
      "cell_type": "markdown",
      "source": [
        "## Concat dataframes from the same company into 1 dataframe"
      ],
      "metadata": {
        "id": "ta5tK8b-r27d"
      }
    },
    {
      "cell_type": "code",
      "source": [
        "dataset_amazon = pd.concat([df3, df4, df5, df6], axis=0)\n",
        "dataset_bigmarket = df7"
      ],
      "metadata": {
        "id": "Mh5JrgOkr2It"
      },
      "execution_count": 61,
      "outputs": []
    },
    {
      "cell_type": "markdown",
      "source": [
        "## Get the shapes of the joined datasets"
      ],
      "metadata": {
        "id": "Ti4c8jzttCsO"
      }
    },
    {
      "cell_type": "code",
      "source": [
        "print(f\"Shape of amazon dataset : {dataset_amazon.shape} \")\n",
        "#print(f\"Shape of instacart dataset : {dataset_instacart.shape} \")\n",
        "print(f\"Shape of bigmarket dataset : {dataset_bigmarket.shape} \")"
      ],
      "metadata": {
        "colab": {
          "base_uri": "https://localhost:8080/"
        },
        "id": "QDJc4fU5tAar",
        "outputId": "f6a42a95-d2cb-43be-e267-981bb39329ad"
      },
      "execution_count": 62,
      "outputs": [
        {
          "output_type": "stream",
          "name": "stdout",
          "text": [
            "Shape of amazon dataset : (4512, 9) \n",
            "Shape of bigmarket dataset : (27555, 10) \n"
          ]
        }
      ]
    },
    {
      "cell_type": "markdown",
      "source": [
        "## Display the datasets"
      ],
      "metadata": {
        "id": "xLRZFwbMuKoZ"
      }
    },
    {
      "cell_type": "code",
      "source": [
        "dataset_amazon.head()"
      ],
      "metadata": {
        "colab": {
          "base_uri": "https://localhost:8080/",
          "height": 0
        },
        "id": "XXd5WcE07nGA",
        "outputId": "47cac633-7539-43cb-ba84-054d0e649cae"
      },
      "execution_count": 63,
      "outputs": [
        {
          "output_type": "execute_result",
          "data": {
            "text/plain": [
              "                                                name            main_category  \\\n",
              "0  Nutraj 100% Natural Dried Premium California W...  grocery & gourmet foods   \n",
              "1  Cadbury Bournvita 5 Star Magic Health Drink, 7...  grocery & gourmet foods   \n",
              "2         Sugar Free Green Natural Stevia Jar(200 g)  grocery & gourmet foods   \n",
              "3  Daawat Pulav, Long Grains, Fluffy Basmati for ...  grocery & gourmet foods   \n",
              "4  Tata Tea Gold | Assam teas with Gently Rolled ...  grocery & gourmet foods   \n",
              "\n",
              "                  sub_category  \\\n",
              "0  All Grocery & Gourmet Foods   \n",
              "1  All Grocery & Gourmet Foods   \n",
              "2  All Grocery & Gourmet Foods   \n",
              "3  All Grocery & Gourmet Foods   \n",
              "4  All Grocery & Gourmet Foods   \n",
              "\n",
              "                                               image  \\\n",
              "0  https://m.media-amazon.com/images/I/71f5UPOWDq...   \n",
              "1  https://m.media-amazon.com/images/I/614FIW5c6H...   \n",
              "2  https://m.media-amazon.com/images/I/61rBhkTJ6E...   \n",
              "3  https://m.media-amazon.com/images/I/71UO6eXC1Q...   \n",
              "4  https://m.media-amazon.com/images/I/51kEujuYlp...   \n",
              "\n",
              "                                                link ratings no_of_ratings  \\\n",
              "0  https://www.amazon.in/Nutraj-California-Walnut...     3.9         6,081   \n",
              "1  https://www.amazon.in/Bournvita-Magic-Chocolat...     4.3         8,481   \n",
              "2  https://www.amazon.in/Sugarfree-Green-100-Natu...     4.3         1,585   \n",
              "3  https://www.amazon.in/Daawat-Pulav-Basmati-Ric...     4.3         3,907   \n",
              "4  https://www.amazon.in/Tata-Tea-Gold-500g/dp/B0...     4.4        15,528   \n",
              "\n",
              "  discount_price actual_price  \n",
              "0           ₹686         ₹998  \n",
              "1            NaN         ₹353  \n",
              "2           ₹162         ₹170  \n",
              "3           ₹138         ₹139  \n",
              "4           ₹283         ₹295  "
            ],
            "text/html": [
              "\n",
              "  <div id=\"df-13582bd5-68dc-4067-9c0e-2e433ba26cab\">\n",
              "    <div class=\"colab-df-container\">\n",
              "      <div>\n",
              "<style scoped>\n",
              "    .dataframe tbody tr th:only-of-type {\n",
              "        vertical-align: middle;\n",
              "    }\n",
              "\n",
              "    .dataframe tbody tr th {\n",
              "        vertical-align: top;\n",
              "    }\n",
              "\n",
              "    .dataframe thead th {\n",
              "        text-align: right;\n",
              "    }\n",
              "</style>\n",
              "<table border=\"1\" class=\"dataframe\">\n",
              "  <thead>\n",
              "    <tr style=\"text-align: right;\">\n",
              "      <th></th>\n",
              "      <th>name</th>\n",
              "      <th>main_category</th>\n",
              "      <th>sub_category</th>\n",
              "      <th>image</th>\n",
              "      <th>link</th>\n",
              "      <th>ratings</th>\n",
              "      <th>no_of_ratings</th>\n",
              "      <th>discount_price</th>\n",
              "      <th>actual_price</th>\n",
              "    </tr>\n",
              "  </thead>\n",
              "  <tbody>\n",
              "    <tr>\n",
              "      <th>0</th>\n",
              "      <td>Nutraj 100% Natural Dried Premium California W...</td>\n",
              "      <td>grocery &amp; gourmet foods</td>\n",
              "      <td>All Grocery &amp; Gourmet Foods</td>\n",
              "      <td>https://m.media-amazon.com/images/I/71f5UPOWDq...</td>\n",
              "      <td>https://www.amazon.in/Nutraj-California-Walnut...</td>\n",
              "      <td>3.9</td>\n",
              "      <td>6,081</td>\n",
              "      <td>₹686</td>\n",
              "      <td>₹998</td>\n",
              "    </tr>\n",
              "    <tr>\n",
              "      <th>1</th>\n",
              "      <td>Cadbury Bournvita 5 Star Magic Health Drink, 7...</td>\n",
              "      <td>grocery &amp; gourmet foods</td>\n",
              "      <td>All Grocery &amp; Gourmet Foods</td>\n",
              "      <td>https://m.media-amazon.com/images/I/614FIW5c6H...</td>\n",
              "      <td>https://www.amazon.in/Bournvita-Magic-Chocolat...</td>\n",
              "      <td>4.3</td>\n",
              "      <td>8,481</td>\n",
              "      <td>NaN</td>\n",
              "      <td>₹353</td>\n",
              "    </tr>\n",
              "    <tr>\n",
              "      <th>2</th>\n",
              "      <td>Sugar Free Green Natural Stevia Jar(200 g)</td>\n",
              "      <td>grocery &amp; gourmet foods</td>\n",
              "      <td>All Grocery &amp; Gourmet Foods</td>\n",
              "      <td>https://m.media-amazon.com/images/I/61rBhkTJ6E...</td>\n",
              "      <td>https://www.amazon.in/Sugarfree-Green-100-Natu...</td>\n",
              "      <td>4.3</td>\n",
              "      <td>1,585</td>\n",
              "      <td>₹162</td>\n",
              "      <td>₹170</td>\n",
              "    </tr>\n",
              "    <tr>\n",
              "      <th>3</th>\n",
              "      <td>Daawat Pulav, Long Grains, Fluffy Basmati for ...</td>\n",
              "      <td>grocery &amp; gourmet foods</td>\n",
              "      <td>All Grocery &amp; Gourmet Foods</td>\n",
              "      <td>https://m.media-amazon.com/images/I/71UO6eXC1Q...</td>\n",
              "      <td>https://www.amazon.in/Daawat-Pulav-Basmati-Ric...</td>\n",
              "      <td>4.3</td>\n",
              "      <td>3,907</td>\n",
              "      <td>₹138</td>\n",
              "      <td>₹139</td>\n",
              "    </tr>\n",
              "    <tr>\n",
              "      <th>4</th>\n",
              "      <td>Tata Tea Gold | Assam teas with Gently Rolled ...</td>\n",
              "      <td>grocery &amp; gourmet foods</td>\n",
              "      <td>All Grocery &amp; Gourmet Foods</td>\n",
              "      <td>https://m.media-amazon.com/images/I/51kEujuYlp...</td>\n",
              "      <td>https://www.amazon.in/Tata-Tea-Gold-500g/dp/B0...</td>\n",
              "      <td>4.4</td>\n",
              "      <td>15,528</td>\n",
              "      <td>₹283</td>\n",
              "      <td>₹295</td>\n",
              "    </tr>\n",
              "  </tbody>\n",
              "</table>\n",
              "</div>\n",
              "      <button class=\"colab-df-convert\" onclick=\"convertToInteractive('df-13582bd5-68dc-4067-9c0e-2e433ba26cab')\"\n",
              "              title=\"Convert this dataframe to an interactive table.\"\n",
              "              style=\"display:none;\">\n",
              "        \n",
              "  <svg xmlns=\"http://www.w3.org/2000/svg\" height=\"24px\"viewBox=\"0 0 24 24\"\n",
              "       width=\"24px\">\n",
              "    <path d=\"M0 0h24v24H0V0z\" fill=\"none\"/>\n",
              "    <path d=\"M18.56 5.44l.94 2.06.94-2.06 2.06-.94-2.06-.94-.94-2.06-.94 2.06-2.06.94zm-11 1L8.5 8.5l.94-2.06 2.06-.94-2.06-.94L8.5 2.5l-.94 2.06-2.06.94zm10 10l.94 2.06.94-2.06 2.06-.94-2.06-.94-.94-2.06-.94 2.06-2.06.94z\"/><path d=\"M17.41 7.96l-1.37-1.37c-.4-.4-.92-.59-1.43-.59-.52 0-1.04.2-1.43.59L10.3 9.45l-7.72 7.72c-.78.78-.78 2.05 0 2.83L4 21.41c.39.39.9.59 1.41.59.51 0 1.02-.2 1.41-.59l7.78-7.78 2.81-2.81c.8-.78.8-2.07 0-2.86zM5.41 20L4 18.59l7.72-7.72 1.47 1.35L5.41 20z\"/>\n",
              "  </svg>\n",
              "      </button>\n",
              "      \n",
              "  <style>\n",
              "    .colab-df-container {\n",
              "      display:flex;\n",
              "      flex-wrap:wrap;\n",
              "      gap: 12px;\n",
              "    }\n",
              "\n",
              "    .colab-df-convert {\n",
              "      background-color: #E8F0FE;\n",
              "      border: none;\n",
              "      border-radius: 50%;\n",
              "      cursor: pointer;\n",
              "      display: none;\n",
              "      fill: #1967D2;\n",
              "      height: 32px;\n",
              "      padding: 0 0 0 0;\n",
              "      width: 32px;\n",
              "    }\n",
              "\n",
              "    .colab-df-convert:hover {\n",
              "      background-color: #E2EBFA;\n",
              "      box-shadow: 0px 1px 2px rgba(60, 64, 67, 0.3), 0px 1px 3px 1px rgba(60, 64, 67, 0.15);\n",
              "      fill: #174EA6;\n",
              "    }\n",
              "\n",
              "    [theme=dark] .colab-df-convert {\n",
              "      background-color: #3B4455;\n",
              "      fill: #D2E3FC;\n",
              "    }\n",
              "\n",
              "    [theme=dark] .colab-df-convert:hover {\n",
              "      background-color: #434B5C;\n",
              "      box-shadow: 0px 1px 3px 1px rgba(0, 0, 0, 0.15);\n",
              "      filter: drop-shadow(0px 1px 2px rgba(0, 0, 0, 0.3));\n",
              "      fill: #FFFFFF;\n",
              "    }\n",
              "  </style>\n",
              "\n",
              "      <script>\n",
              "        const buttonEl =\n",
              "          document.querySelector('#df-13582bd5-68dc-4067-9c0e-2e433ba26cab button.colab-df-convert');\n",
              "        buttonEl.style.display =\n",
              "          google.colab.kernel.accessAllowed ? 'block' : 'none';\n",
              "\n",
              "        async function convertToInteractive(key) {\n",
              "          const element = document.querySelector('#df-13582bd5-68dc-4067-9c0e-2e433ba26cab');\n",
              "          const dataTable =\n",
              "            await google.colab.kernel.invokeFunction('convertToInteractive',\n",
              "                                                     [key], {});\n",
              "          if (!dataTable) return;\n",
              "\n",
              "          const docLinkHtml = 'Like what you see? Visit the ' +\n",
              "            '<a target=\"_blank\" href=https://colab.research.google.com/notebooks/data_table.ipynb>data table notebook</a>'\n",
              "            + ' to learn more about interactive tables.';\n",
              "          element.innerHTML = '';\n",
              "          dataTable['output_type'] = 'display_data';\n",
              "          await google.colab.output.renderOutput(dataTable, element);\n",
              "          const docLink = document.createElement('div');\n",
              "          docLink.innerHTML = docLinkHtml;\n",
              "          element.appendChild(docLink);\n",
              "        }\n",
              "      </script>\n",
              "    </div>\n",
              "  </div>\n",
              "  "
            ]
          },
          "metadata": {},
          "execution_count": 63
        }
      ]
    },
    {
      "cell_type": "code",
      "source": [
        "dataset_bigmarket.head()"
      ],
      "metadata": {
        "colab": {
          "base_uri": "https://localhost:8080/",
          "height": 0
        },
        "id": "VRy_FAwC8RvX",
        "outputId": "337330a0-0a43-437f-d7aa-fd7cd4e4e195"
      },
      "execution_count": 64,
      "outputs": [
        {
          "output_type": "execute_result",
          "data": {
            "text/plain": [
              "   index                                            product  \\\n",
              "0      1             Garlic Oil - Vegetarian Capsule 500 mg   \n",
              "1      2                              Water Bottle - Orange   \n",
              "2      3                     Brass Angle Deep - Plain, No.2   \n",
              "3      4  Cereal Flip Lid Container/Storage Jar - Assort...   \n",
              "4      5                 Creme Soft Soap - For Hands & Body   \n",
              "\n",
              "                 category           sub_category              brand  \\\n",
              "0        Beauty & Hygiene              Hair Care  Sri Sri Ayurveda    \n",
              "1  Kitchen, Garden & Pets  Storage & Accessories         Mastercook   \n",
              "2    Cleaning & Household            Pooja Needs                Trm   \n",
              "3    Cleaning & Household   Bins & Bathroom Ware             Nakoda   \n",
              "4        Beauty & Hygiene       Bath & Hand Wash              Nivea   \n",
              "\n",
              "   sale_price  market_price                      type  rating  \\\n",
              "0       220.0         220.0          Hair Oil & Serum     4.1   \n",
              "1       180.0         180.0    Water & Fridge Bottles     2.3   \n",
              "2       119.0         250.0           Lamp & Lamp Oil     3.4   \n",
              "3       149.0         176.0  Laundry, Storage Baskets     3.7   \n",
              "4       162.0         162.0      Bathing Bars & Soaps     4.4   \n",
              "\n",
              "                                         description  \n",
              "0  This Product contains Garlic Oil that is known...  \n",
              "1  Each product is microwave safe (without lid), ...  \n",
              "2  A perfect gift for all occasions, be it your m...  \n",
              "3  Multipurpose container with an attractive desi...  \n",
              "4  Nivea Creme Soft Soap gives your skin the best...  "
            ],
            "text/html": [
              "\n",
              "  <div id=\"df-4250dd93-275a-43d5-8682-8b55d255ddcb\">\n",
              "    <div class=\"colab-df-container\">\n",
              "      <div>\n",
              "<style scoped>\n",
              "    .dataframe tbody tr th:only-of-type {\n",
              "        vertical-align: middle;\n",
              "    }\n",
              "\n",
              "    .dataframe tbody tr th {\n",
              "        vertical-align: top;\n",
              "    }\n",
              "\n",
              "    .dataframe thead th {\n",
              "        text-align: right;\n",
              "    }\n",
              "</style>\n",
              "<table border=\"1\" class=\"dataframe\">\n",
              "  <thead>\n",
              "    <tr style=\"text-align: right;\">\n",
              "      <th></th>\n",
              "      <th>index</th>\n",
              "      <th>product</th>\n",
              "      <th>category</th>\n",
              "      <th>sub_category</th>\n",
              "      <th>brand</th>\n",
              "      <th>sale_price</th>\n",
              "      <th>market_price</th>\n",
              "      <th>type</th>\n",
              "      <th>rating</th>\n",
              "      <th>description</th>\n",
              "    </tr>\n",
              "  </thead>\n",
              "  <tbody>\n",
              "    <tr>\n",
              "      <th>0</th>\n",
              "      <td>1</td>\n",
              "      <td>Garlic Oil - Vegetarian Capsule 500 mg</td>\n",
              "      <td>Beauty &amp; Hygiene</td>\n",
              "      <td>Hair Care</td>\n",
              "      <td>Sri Sri Ayurveda</td>\n",
              "      <td>220.0</td>\n",
              "      <td>220.0</td>\n",
              "      <td>Hair Oil &amp; Serum</td>\n",
              "      <td>4.1</td>\n",
              "      <td>This Product contains Garlic Oil that is known...</td>\n",
              "    </tr>\n",
              "    <tr>\n",
              "      <th>1</th>\n",
              "      <td>2</td>\n",
              "      <td>Water Bottle - Orange</td>\n",
              "      <td>Kitchen, Garden &amp; Pets</td>\n",
              "      <td>Storage &amp; Accessories</td>\n",
              "      <td>Mastercook</td>\n",
              "      <td>180.0</td>\n",
              "      <td>180.0</td>\n",
              "      <td>Water &amp; Fridge Bottles</td>\n",
              "      <td>2.3</td>\n",
              "      <td>Each product is microwave safe (without lid), ...</td>\n",
              "    </tr>\n",
              "    <tr>\n",
              "      <th>2</th>\n",
              "      <td>3</td>\n",
              "      <td>Brass Angle Deep - Plain, No.2</td>\n",
              "      <td>Cleaning &amp; Household</td>\n",
              "      <td>Pooja Needs</td>\n",
              "      <td>Trm</td>\n",
              "      <td>119.0</td>\n",
              "      <td>250.0</td>\n",
              "      <td>Lamp &amp; Lamp Oil</td>\n",
              "      <td>3.4</td>\n",
              "      <td>A perfect gift for all occasions, be it your m...</td>\n",
              "    </tr>\n",
              "    <tr>\n",
              "      <th>3</th>\n",
              "      <td>4</td>\n",
              "      <td>Cereal Flip Lid Container/Storage Jar - Assort...</td>\n",
              "      <td>Cleaning &amp; Household</td>\n",
              "      <td>Bins &amp; Bathroom Ware</td>\n",
              "      <td>Nakoda</td>\n",
              "      <td>149.0</td>\n",
              "      <td>176.0</td>\n",
              "      <td>Laundry, Storage Baskets</td>\n",
              "      <td>3.7</td>\n",
              "      <td>Multipurpose container with an attractive desi...</td>\n",
              "    </tr>\n",
              "    <tr>\n",
              "      <th>4</th>\n",
              "      <td>5</td>\n",
              "      <td>Creme Soft Soap - For Hands &amp; Body</td>\n",
              "      <td>Beauty &amp; Hygiene</td>\n",
              "      <td>Bath &amp; Hand Wash</td>\n",
              "      <td>Nivea</td>\n",
              "      <td>162.0</td>\n",
              "      <td>162.0</td>\n",
              "      <td>Bathing Bars &amp; Soaps</td>\n",
              "      <td>4.4</td>\n",
              "      <td>Nivea Creme Soft Soap gives your skin the best...</td>\n",
              "    </tr>\n",
              "  </tbody>\n",
              "</table>\n",
              "</div>\n",
              "      <button class=\"colab-df-convert\" onclick=\"convertToInteractive('df-4250dd93-275a-43d5-8682-8b55d255ddcb')\"\n",
              "              title=\"Convert this dataframe to an interactive table.\"\n",
              "              style=\"display:none;\">\n",
              "        \n",
              "  <svg xmlns=\"http://www.w3.org/2000/svg\" height=\"24px\"viewBox=\"0 0 24 24\"\n",
              "       width=\"24px\">\n",
              "    <path d=\"M0 0h24v24H0V0z\" fill=\"none\"/>\n",
              "    <path d=\"M18.56 5.44l.94 2.06.94-2.06 2.06-.94-2.06-.94-.94-2.06-.94 2.06-2.06.94zm-11 1L8.5 8.5l.94-2.06 2.06-.94-2.06-.94L8.5 2.5l-.94 2.06-2.06.94zm10 10l.94 2.06.94-2.06 2.06-.94-2.06-.94-.94-2.06-.94 2.06-2.06.94z\"/><path d=\"M17.41 7.96l-1.37-1.37c-.4-.4-.92-.59-1.43-.59-.52 0-1.04.2-1.43.59L10.3 9.45l-7.72 7.72c-.78.78-.78 2.05 0 2.83L4 21.41c.39.39.9.59 1.41.59.51 0 1.02-.2 1.41-.59l7.78-7.78 2.81-2.81c.8-.78.8-2.07 0-2.86zM5.41 20L4 18.59l7.72-7.72 1.47 1.35L5.41 20z\"/>\n",
              "  </svg>\n",
              "      </button>\n",
              "      \n",
              "  <style>\n",
              "    .colab-df-container {\n",
              "      display:flex;\n",
              "      flex-wrap:wrap;\n",
              "      gap: 12px;\n",
              "    }\n",
              "\n",
              "    .colab-df-convert {\n",
              "      background-color: #E8F0FE;\n",
              "      border: none;\n",
              "      border-radius: 50%;\n",
              "      cursor: pointer;\n",
              "      display: none;\n",
              "      fill: #1967D2;\n",
              "      height: 32px;\n",
              "      padding: 0 0 0 0;\n",
              "      width: 32px;\n",
              "    }\n",
              "\n",
              "    .colab-df-convert:hover {\n",
              "      background-color: #E2EBFA;\n",
              "      box-shadow: 0px 1px 2px rgba(60, 64, 67, 0.3), 0px 1px 3px 1px rgba(60, 64, 67, 0.15);\n",
              "      fill: #174EA6;\n",
              "    }\n",
              "\n",
              "    [theme=dark] .colab-df-convert {\n",
              "      background-color: #3B4455;\n",
              "      fill: #D2E3FC;\n",
              "    }\n",
              "\n",
              "    [theme=dark] .colab-df-convert:hover {\n",
              "      background-color: #434B5C;\n",
              "      box-shadow: 0px 1px 3px 1px rgba(0, 0, 0, 0.15);\n",
              "      filter: drop-shadow(0px 1px 2px rgba(0, 0, 0, 0.3));\n",
              "      fill: #FFFFFF;\n",
              "    }\n",
              "  </style>\n",
              "\n",
              "      <script>\n",
              "        const buttonEl =\n",
              "          document.querySelector('#df-4250dd93-275a-43d5-8682-8b55d255ddcb button.colab-df-convert');\n",
              "        buttonEl.style.display =\n",
              "          google.colab.kernel.accessAllowed ? 'block' : 'none';\n",
              "\n",
              "        async function convertToInteractive(key) {\n",
              "          const element = document.querySelector('#df-4250dd93-275a-43d5-8682-8b55d255ddcb');\n",
              "          const dataTable =\n",
              "            await google.colab.kernel.invokeFunction('convertToInteractive',\n",
              "                                                     [key], {});\n",
              "          if (!dataTable) return;\n",
              "\n",
              "          const docLinkHtml = 'Like what you see? Visit the ' +\n",
              "            '<a target=\"_blank\" href=https://colab.research.google.com/notebooks/data_table.ipynb>data table notebook</a>'\n",
              "            + ' to learn more about interactive tables.';\n",
              "          element.innerHTML = '';\n",
              "          dataTable['output_type'] = 'display_data';\n",
              "          await google.colab.output.renderOutput(dataTable, element);\n",
              "          const docLink = document.createElement('div');\n",
              "          docLink.innerHTML = docLinkHtml;\n",
              "          element.appendChild(docLink);\n",
              "        }\n",
              "      </script>\n",
              "    </div>\n",
              "  </div>\n",
              "  "
            ]
          },
          "metadata": {},
          "execution_count": 64
        }
      ]
    },
    {
      "cell_type": "markdown",
      "source": [
        "## count the null value from each column of each dataset"
      ],
      "metadata": {
        "id": "TcYJNyUwu72S"
      }
    },
    {
      "cell_type": "code",
      "source": [
        "datasetlist = [dataset_amazon, dataset_bigmarket]\n",
        "for i in range(len(datasetlist)):\n",
        "  null_value = dict()\n",
        "  dfnow = datasetlist[i]\n",
        "  for column in dfnow:\n",
        "    null_value[column] = dfnow[column].isna().sum()\n",
        "  print(f\"null value of {i+1}th dataset: {null_value}\\n\")"
      ],
      "metadata": {
        "colab": {
          "base_uri": "https://localhost:8080/"
        },
        "id": "Md3hqhaR-Wgr",
        "outputId": "bfa2b7c0-64eb-4707-f5bf-b5d958528dc0"
      },
      "execution_count": 65,
      "outputs": [
        {
          "output_type": "stream",
          "name": "stdout",
          "text": [
            "null value of 1th dataset: {'name': 0, 'main_category': 0, 'sub_category': 0, 'image': 0, 'link': 0, 'ratings': 334, 'no_of_ratings': 334, 'discount_price': 881, 'actual_price': 37}\n",
            "\n",
            "null value of 2th dataset: {'index': 0, 'product': 1, 'category': 0, 'sub_category': 0, 'brand': 1, 'sale_price': 0, 'market_price': 0, 'type': 0, 'rating': 8626, 'description': 115}\n",
            "\n"
          ]
        }
      ]
    },
    {
      "cell_type": "markdown",
      "source": [
        "## get the amount of each unique value in the ratings column"
      ],
      "metadata": {
        "id": "jOORpgt6w1r9"
      }
    },
    {
      "cell_type": "code",
      "source": [
        "dataset_bigmarket.rename(columns = {'rating':'ratings', 'sale_price':'discount_price', 'actual_price':'market_price'}, inplace = True)\n",
        "datasetlist = [dataset_amazon, dataset_bigmarket]\n",
        "for dataset in datasetlist:\n",
        "  vals = dict(dataset[\"ratings\"].value_counts())\n",
        "  print(f\"{vals} \\n\")"
      ],
      "metadata": {
        "colab": {
          "base_uri": "https://localhost:8080/"
        },
        "id": "R9CFCB68xDaT",
        "outputId": "0ca32b33-367f-4069-c3fd-be01a40f8723"
      },
      "execution_count": 66,
      "outputs": [
        {
          "output_type": "stream",
          "name": "stdout",
          "text": [
            "{'4.3': 490, '4.2': 485, '4.0': 454, '4.1': 451, '4.4': 338, '3.9': 287, '5.0': 245, '3.8': 229, '4.5': 201, '3.7': 176, '3.6': 121, '4.6': 118, '3.5': 107, '3.0': 63, '3.4': 56, '4.7': 50, '4.8': 48, '3.3': 47, '3.2': 45, '3.1': 39, 'Get': 27, '2.9': 17, '1.0': 16, '2.5': 15, '4.9': 11, '2.3': 8, '2.8': 7, '2.6': 7, '2.0': 5, '2.4': 4, '2.7': 3, '1.5': 2, '2.1': 2, '2.2': 2, '1.8': 1, '1.4': 1} \n",
            "\n",
            "{4.2: 2251, 4.3: 2140, 4.0: 2090, 4.1: 1769, 5.0: 1407, 4.4: 1038, 3.9: 932, 3.8: 866, 4.5: 798, 3.0: 684, 3.7: 672, 3.5: 536, 3.6: 447, 3.3: 400, 1.0: 387, 4.6: 322, 3.4: 303, 4.7: 287, 2.0: 237, 4.8: 199, 3.2: 181, 3.1: 163, 2.5: 132, 2.8: 125, 2.7: 116, 2.3: 94, 2.9: 79, 2.6: 58, 4.9: 53, 1.5: 32, 2.4: 29, 2.2: 24, 1.8: 22, 1.7: 22, 2.1: 10, 1.3: 9, 1.4: 6, 1.9: 4, 1.6: 3, 1.2: 2} \n",
            "\n"
          ]
        }
      ]
    },
    {
      "cell_type": "markdown",
      "source": [
        "## get the datatypes of each column"
      ],
      "metadata": {
        "id": "qWBlZFbn1yAn"
      }
    },
    {
      "cell_type": "code",
      "source": [
        "# amazon dataset\n",
        "dataset_amazon.dtypes"
      ],
      "metadata": {
        "colab": {
          "base_uri": "https://localhost:8080/"
        },
        "id": "7YlaY9lr10ln",
        "outputId": "9c77ac29-fe81-48e8-deb5-7a509dd52705"
      },
      "execution_count": 67,
      "outputs": [
        {
          "output_type": "execute_result",
          "data": {
            "text/plain": [
              "name              object\n",
              "main_category     object\n",
              "sub_category      object\n",
              "image             object\n",
              "link              object\n",
              "ratings           object\n",
              "no_of_ratings     object\n",
              "discount_price    object\n",
              "actual_price      object\n",
              "dtype: object"
            ]
          },
          "metadata": {},
          "execution_count": 67
        }
      ]
    },
    {
      "cell_type": "code",
      "source": [
        "# bigmarket dataset\n",
        "dataset_bigmarket.dtypes"
      ],
      "metadata": {
        "colab": {
          "base_uri": "https://localhost:8080/"
        },
        "id": "AOjituNT14aq",
        "outputId": "0427b621-5625-4f5d-e98f-14f9086e421b"
      },
      "execution_count": 68,
      "outputs": [
        {
          "output_type": "execute_result",
          "data": {
            "text/plain": [
              "index               int64\n",
              "product            object\n",
              "category           object\n",
              "sub_category       object\n",
              "brand              object\n",
              "discount_price    float64\n",
              "market_price      float64\n",
              "type               object\n",
              "ratings           float64\n",
              "description        object\n",
              "dtype: object"
            ]
          },
          "metadata": {},
          "execution_count": 68
        }
      ]
    },
    {
      "cell_type": "markdown",
      "source": [
        "# Dataset preprocessing"
      ],
      "metadata": {
        "id": "mKT0gWXOvJGU"
      }
    },
    {
      "cell_type": "markdown",
      "source": [
        "## Amazon preprocessing"
      ],
      "metadata": {
        "id": "_D8bp74KAJAg"
      }
    },
    {
      "cell_type": "markdown",
      "source": [
        "### ratings column"
      ],
      "metadata": {
        "id": "nznG3mA30fng"
      }
    },
    {
      "cell_type": "code",
      "source": [
        "# change the value get to null value\n",
        "dataset_amazon['ratings'] = dataset_amazon['ratings'].replace(['Get'], np.NaN)"
      ],
      "metadata": {
        "id": "8DwX7Bgu21eb"
      },
      "execution_count": 69,
      "outputs": []
    },
    {
      "cell_type": "code",
      "source": [
        "# convert datatype from object to float\n",
        "dataset_amazon['ratings'] = dataset_amazon['ratings'].astype(str).astype(float)"
      ],
      "metadata": {
        "id": "QngoxnN22PZ_"
      },
      "execution_count": 70,
      "outputs": []
    },
    {
      "cell_type": "code",
      "source": [
        "dataset_amazon['ratings'] = dataset_amazon['ratings'].fillna(0)\n",
        "dataset_amazon['ratings'].isna().sum()"
      ],
      "metadata": {
        "colab": {
          "base_uri": "https://localhost:8080/"
        },
        "id": "u3mykp1U5jWk",
        "outputId": "11cdac47-b2ce-42ca-e07a-9f1b3be2f3f1"
      },
      "execution_count": 71,
      "outputs": [
        {
          "output_type": "execute_result",
          "data": {
            "text/plain": [
              "0"
            ]
          },
          "metadata": {},
          "execution_count": 71
        }
      ]
    },
    {
      "cell_type": "markdown",
      "source": [
        "### no_of_ratings column"
      ],
      "metadata": {
        "id": "j8hXv6oF52pF"
      }
    },
    {
      "cell_type": "code",
      "source": [
        "dataset_amazon['no_of_ratings'] = dataset_amazon['no_of_ratings'].replace(',','', regex=True)"
      ],
      "metadata": {
        "id": "g5z0povvpl-X"
      },
      "execution_count": 72,
      "outputs": []
    },
    {
      "cell_type": "code",
      "source": [
        "  vals = dict(dataset_amazon[\"no_of_ratings\"].value_counts())\n",
        "  print(f\"{vals} \\n\")"
      ],
      "metadata": {
        "colab": {
          "base_uri": "https://localhost:8080/"
        },
        "id": "vuWv-eGC6o-l",
        "outputId": "1be0d4f6-15f8-4425-cd78-7aac9608c3d3"
      },
      "execution_count": 73,
      "outputs": [
        {
          "output_type": "stream",
          "name": "stdout",
          "text": [
            "{'1': 180, '2': 144, '3': 118, '5': 79, '4': 79, '6': 73, '7': 64, '9': 54, '10': 51, '8': 51, '12': 50, '11': 44, '13': 43, '20': 40, '15': 39, '22': 39, '14': 38, '19': 36, '18': 31, '16': 30, '21': 27, '17': 25, '37': 25, '45': 25, '28': 24, '39': 24, '40': 24, '24': 23, '29': 23, '33': 22, '27': 20, '36': 20, '30': 19, '49': 18, '34': 18, '23': 18, '38': 17, '47': 17, '25': 17, '52': 17, '31': 17, '32': 17, '44': 16, 'FREE Delivery by Amazon': 16, '58': 16, '48': 16, '84': 15, '42': 15, '41': 15, '65': 15, '81': 15, '59': 14, '35': 14, '60': 14, '50': 14, '110': 14, '66': 13, '57': 13, '117': 13, '67': 13, '53': 13, '26': 12, '109': 12, '46': 12, '51': 12, '152': 12, '89': 12, '68': 12, '139': 12, '56': 12, '86': 11, '43': 11, '103': 11, '76': 11, '55': 11, '75': 11, '70': 11, '106': 10, '74': 10, '88': 10, '97': 10, '105': 10, '82': 10, '54': 10, '80': 10, '85': 10, '83': 10, '72': 10, '177': 9, '63': 9, '77': 9, '64': 9, '93': 9, '140': 9, '111': 9, '98': 9, '73': 8, '102': 8, '79': 8, '69': 8, '99': 8, '62': 8, '132': 8, '96': 8, '90': 8, '71': 8, '126': 7, '94': 7, '204': 7, '116': 7, '192': 7, '104': 7, '274': 7, '78': 7, '166': 7, '188': 7, '168': 7, '115': 6, '173': 6, '194': 6, '199': 6, '226': 6, '129': 6, 'Only 1 left in stock.': 6, '143': 6, '91': 6, '242': 6, '114': 6, '145': 6, '150': 6, '133': 6, '225': 6, '101': 6, '87': 6, '218': 6, '61': 6, '208': 6, '316': 6, '247': 6, '232': 6, '92': 6, '243': 6, '125': 6, '288': 6, '108': 5, '154': 5, '107': 5, '292': 5, '267': 5, '179': 5, '130': 5, '221': 5, '205': 5, '231': 5, '214': 5, '196': 5, '325': 5, '131': 5, '290': 5, 'Only 2 left in stock.': 5, '95': 5, '187': 5, '195': 5, '171': 5, '158': 5, '156': 5, '207': 5, '123': 5, '149': 5, '122': 5, '289': 5, '160': 5, '142': 5, '310': 5, '124': 5, '120': 5, '468': 5, '311': 5, '175': 4, '167': 4, '259': 4, '112': 4, '121': 4, '309': 4, '128': 4, '306': 4, '249': 4, '263': 4, '157': 4, '141': 4, '447': 4, '262': 4, '172': 4, '414': 4, '229': 4, '113': 4, '277': 4, '190': 4, '163': 4, '239': 4, '127': 4, '197': 4, '162': 4, '276': 4, '425': 4, '314': 4, '652': 4, '690': 4, '575': 4, '312': 4, '238': 4, '134': 4, '252': 4, '299': 4, '213': 4, '313': 4, '100': 4, '340': 4, '230': 4, '201': 4, '148': 4, '155': 4, '189': 3, '135': 3, '500': 3, '212': 3, '353': 3, '324': 3, '460': 3, '198': 3, '471': 3, '1659': 3, '181': 3, '211': 3, '180': 3, '271': 3, '366': 3, '170': 3, '258': 3, '223': 3, '321': 3, '718': 3, '215': 3, '291': 3, '335': 3, '261': 3, '578': 3, '178': 3, '661': 3, '136': 3, '317': 3, '363': 3, '339': 3, '183': 3, '222': 3, '144': 3, '268': 3, '406': 3, '330': 3, '224': 3, '350': 3, '438': 3, '119': 3, '193': 3, '632': 3, '1086': 3, '469': 3, '367': 3, '860': 3, '755': 3, '1904': 3, '138': 3, '301': 3, '281': 3, '182': 3, '219': 3, '202': 3, '560': 3, '146': 3, '237': 3, '342': 3, '151': 3, '464': 3, '415': 3, '284': 3, '390': 3, '118': 3, '379': 3, '1707': 3, '381': 3, '304': 3, '331': 3, '1438': 3, '3944': 2, '347': 2, '343': 2, '184': 2, '2287': 2, '565': 2, '821': 2, '461': 2, '523': 2, '389': 2, '348': 2, '1435': 2, '357': 2, '397': 2, '540': 2, '323': 2, '958': 2, '164': 2, '272': 2, '365': 2, '687': 2, '751': 2, '294': 2, '1674': 2, '467': 2, '630': 2, '240': 2, '590': 2, '244': 2, '1655': 2, '748': 2, '444': 2, '333': 2, '746': 2, '297': 2, '850': 2, '1227': 2, '504': 2, '421': 2, '794': 2, '2178': 2, '655': 2, '285': 2, '1055': 2, '176': 2, '300': 2, '2004': 2, '579': 2, '253': 2, '295': 2, '359': 2, '2467': 2, '935': 2, '1572': 2, '260': 2, '5629': 2, '1374': 2, '220': 2, '984': 2, '667': 2, '544': 2, '4932': 2, '147': 2, '2444': 2, '974': 2, '641': 2, '1702': 2, '502': 2, '1307': 2, '378': 2, '302': 2, '437': 2, '418': 2, '597': 2, '358': 2, '691': 2, '875': 2, '275': 2, '396': 2, '615': 2, '1446': 2, '1193': 2, '137': 2, '550': 2, '481': 2, '1133': 2, '507': 2, '165': 2, '1596': 2, '387': 2, '248': 2, '427': 2, '1128': 2, '899': 2, '392': 2, '627': 2, '710': 2, '369': 2, '282': 2, '407': 2, '549': 2, '315': 2, '642': 2, '336': 2, '607': 2, '401': 2, '853': 2, '235': 2, '442': 2, '436': 2, '266': 2, '206': 2, '693': 2, '169': 2, '216': 2, '1237': 2, '338': 2, '604': 2, '1240': 2, '185': 2, '660': 2, '598': 2, '200': 2, '815': 2, '1733': 2, '251': 2, '1616': 2, '941': 2, '159': 2, '536': 2, '1154': 2, '484': 2, '1791': 2, '929': 2, '404': 2, '785': 2, '917': 2, '451': 2, '1304': 2, '329': 2, '569': 2, '733': 2, '307': 2, '1117': 2, '809': 2, '21850': 1, '1069': 1, '1192': 1, '1059': 1, '456': 1, '1222': 1, '1944': 1, '554': 1, '2588': 1, '4627': 1, '12836': 1, '594': 1, '1100': 1, '1233': 1, '896': 1, '319': 1, '234': 1, '534': 1, '589': 1, '3548': 1, '477': 1, '328': 1, '394': 1, '493': 1, '994': 1, '423': 1, '551': 1, '413': 1, '470': 1, '510': 1, '983': 1, '520': 1, '1041': 1, '1025': 1, '6690': 1, '457': 1, '320': 1, '969': 1, '296': 1, '2909': 1, '650': 1, '668': 1, '830': 1, '616': 1, '393': 1, '153': 1, '1298': 1, '1209': 1, '1176': 1, '9216': 1, '6081': 1, '1037': 1, '8125': 1, '5828': 1, '13108': 1, '6534': 1, '8905': 1, '4721': 1, '1289': 1, '4414': 1, '4775': 1, '1029': 1, '1367': 1, '7747': 1, '3227': 1, '2050': 1, '948': 1, '1539': 1, '5407': 1, '602': 1, '4248': 1, '14757': 1, '6270': 1, '1241': 1, '1591': 1, '1517': 1, '1830': 1, '722': 1, '3111': 1, '12192': 1, '2469': 1, '2685': 1, '9841': 1, '75344': 1, '524': 1, '621': 1, '5848': 1, '400': 1, '428': 1, '4688': 1, '22338': 1, '2789': 1, '2976': 1, '6385': 1, '1273': 1, '4207': 1, '7186': 1, '5755': 1, '618': 1, '19175': 1, '1485': 1, '9631': 1, '12164': 1, '864': 1, '4275': 1, '6009': 1, '1213': 1, '1419': 1, '1721': 1, '174': 1, '606': 1, '612': 1, '857': 1, '303': 1, '210': 1, '1530': 1, '1353': 1, '374': 1, '596': 1, '1452': 1, '1693': 1, '478': 1, '1280': 1, '1165': 1, '1170': 1, '2975': 1, '227': 1, '10195': 1, '430': 1, '1692': 1, '880': 1, '700': 1, '1964': 1, '399': 1, '546': 1, '480': 1, '1840': 1, '4397': 1, '1521': 1, '653': 1, '3974': 1, '834': 1, '454': 1, '5760': 1, '1376': 1, '8876': 1, '1318': 1, '1159': 1, '790': 1, '622': 1, '475': 1, '1052': 1, '495': 1, '4262': 1, '529': 1, '2212': 1, '775': 1, '2084': 1, '1171': 1, '1983': 1, '1505': 1, '659': 1, '713': 1, '2101': 1, '702': 1, '203': 1, '2705': 1, '9765': 1, '580': 1, '1626': 1, '742': 1, '256': 1, '588': 1, '1443': 1, '2313': 1, '1711': 1, '1009': 1, '287': 1, '1022': 1, '636': 1, '384': 1, '1216': 1, '409': 1, '892': 1, '361': 1, '925': 1, '1202': 1, '2162': 1, '822': 1, '5468': 1, '4769': 1, '1348': 1, '2662': 1, '5616': 1, '10404': 1, '349': 1, '254': 1, '380': 1, '555': 1, '283': 1, '161': 1, '1961': 1, '50629': 1, '1217': 1, '472': 1, '740': 1, '9048': 1, '3177': 1, '1093': 1, '1399': 1, '2100': 1, '2290': 1, '2954': 1, '3903': 1, '2245': 1, '1062': 1, '5232': 1, '1393': 1, '3210': 1, '1270': 1, '449': 1, '1698': 1, '914': 1, '431': 1, '368': 1, '3900': 1, '2515': 1, '435': 1, '2210': 1, '1011': 1, '678': 1, '2548': 1, '662': 1, '592': 1, '5644': 1, '264': 1, '3019': 1, '503': 1, '13093': 1, '337': 1, '684': 1, '4373': 1, '2019': 1, '16359': 1, '4593': 1, '3737': 1, '531': 1, '5066': 1, '4585': 1, '739': 1, '255': 1, '352': 1, '777': 1, '2617': 1, '1243': 1, '459': 1, '779': 1, '494': 1, '831': 1, '398': 1, '758': 1, '286': 1, '217': 1, '482': 1, '2082': 1, '4779': 1, '487': 1, '807': 1, '2955': 1, '532': 1, '341': 1, '3379': 1, '2584': 1, '346': 1, '4650': 1, '577': 1, '3158': 1, '1156': 1, '1035': 1, '522': 1, '1686': 1, '1423': 1, '674': 1, '354': 1, '2246': 1, '525': 1, '1492': 1, '829': 1, '953': 1, '613': 1, '1740': 1, '1047': 1, '656': 1, '2323': 1, '416': 1, '4639': 1, '3540': 1, '879': 1, '1368': 1, '2751': 1, '1045': 1, '2578': 1, '6194': 1, '2058': 1, '1770': 1, '1894': 1, '583': 1, '5274': 1, '2593': 1, '3829': 1, '1132': 1, '1092': 1, '2235': 1, '1879': 1, '2795': 1, '2060': 1, '603': 1, '1177': 1, '3410': 1, '322': 1, '2265': 1, '6627': 1, '209': 1, '327': 1, '383': 1, '1016': 1, '553': 1, '1615': 1, '1448': 1, '571': 1, '445': 1, '4836': 1, '688': 1, '871': 1, '2261': 1, '683': 1, '463': 1, '944': 1, '1575': 1, '3856': 1, '587': 1, '648': 1, '1253': 1, '385': 1, '1188': 1, '796': 1, '810': 1, '453': 1, '2657': 1, '2432': 1, '2798': 1, '412': 1, '1518': 1, '639': 1, '1017': 1, '4081': 1, '557': 1, '679': 1, '265': 1, '5533': 1, '1510': 1, '2263': 1, '1050': 1, '7375': 1, '1127': 1, '1404': 1, '772': 1, '2284': 1, '8885': 1, '2773': 1, '1929': 1, '1727': 1, '2553': 1, '1762': 1, '2994': 1, '1392': 1, '1310': 1, '3603': 1, '2490': 1, '909': 1, '7519': 1, '2184': 1, '1258': 1, '2594': 1, '704': 1, '6974': 1, '1068': 1, '2012': 1, '1993': 1, '3256': 1, '1585': 1, '3907': 1, '15528': 1, '4463': 1, '517': 1, '2539': 1, '10450': 1, '1513': 1, '9028': 1, '1998': 1, '2163': 1, '5587': 1, '2013': 1, '3656': 1, '2257': 1, '4813': 1, '7251': 1, '2292': 1, '3987': 1, '4205': 1, '4065': 1, '3533': 1, '669': 1, '651': 1, '14516': 1, '1985': 1, '3133': 1, '2293': 1, '654': 1, '3083': 1, '2408': 1, '1658': 1, '2242': 1, '2520': 1, '895': 1, '370': 1, '973': 1, '2732': 1, '2170': 1, '835': 1, '3824': 1, '959': 1, '2051': 1, '11339': 1, '2341': 1, '813': 1, '6218': 1, '2893': 1, '3271': 1, '1853': 1, '3203': 1, '1876': 1, '1958': 1, '2557': 1, '5185': 1, '3231': 1, '2905': 1, '800': 1, '5064': 1, '3082': 1, '922': 1, '2205': 1, '851': 1, '701': 1, '840': 1, '1389': 1, '515': 1, '556': 1, '1533': 1, '708': 1, '5571': 1, '355': 1, '490': 1, '1549': 1, '744': 1, '514': 1, '559': 1, '1501': 1, '2224': 1, '362': 1, '191': 1, '770': 1, '432': 1, '1145': 1, '934': 1, '518': 1, '496': 1, '843': 1, '705': 1, '498': 1, '8481': 1, '257': 1, '2240': 1, '640': 1, '2407': 1, '450': 1, '228': 1, '884': 1, '747': 1, '566': 1, '455': 1, '719': 1, '859': 1, '376': 1, '440': 1, '1063': 1, '5437': 1, '1682': 1, '2187': 1, '7777': 1, '9134': 1, '2314': 1, '1259': 1, '4035': 1, '6231': 1, '1070': 1, '4643': 1, '1608': 1, '2818': 1, '4696': 1, '1201': 1, '1053': 1, '614': 1, '1337': 1, '9250': 1, '868': 1, '1528': 1, '542': 1, '5446': 1, '2093': 1, '5377': 1, '1395': 1, '804': 1, '3991': 1, '6445': 1, '2509': 1, '2935': 1, '15259': 1, '9492': 1, '7203': 1, '1729': 1, '1866': 1, '2672': 1, '3244': 1, '2326': 1, '2225': 1, '1780': 1, '898': 1, '4116': 1, '2700': 1, '736': 1, '411': 1, '2755': 1, '2613': 1, '245': 1, '298': 1, '867': 1, '585': 1, '2045': 1, '2020': 1, '886': 1, '1834': 1, '8046': 1, '757': 1, '620': 1, '1386': 1, '491': 1, '250': 1, '509': 1, '823': 1, '737': 1, '900': 1, '952': 1, '1344': 1, '760': 1, '246': 1, '3579': 1, '3207': 1, '552': 1, '839': 1, '645': 1, '1212': 1, '1725': 1, '882': 1, '10716': 1, '938': 1, '508': 1, '403': 1, '1832': 1, '586': 1, '780': 1, '474': 1, '1828': 1, '2107': 1, '799': 1, '1555': 1, '624': 1, '4166': 1, '1952': 1, '4928': 1, '1205': 1, '2175': 1, '762': 1, '1620': 1, '905': 1, '1049': 1, '273': 1, '356': 1, '537': 1, '538': 1, '756': 1, '1447': 1, '2014': 1, '4444': 1, '1230': 1, '485': 1, '318': 1, '1121': 1, '405': 1, '920': 1, '570': 1, '1260': 1, '1021': 1, '617': 1, '486': 1, '241': 1, '526': 1, '236': 1, '1020': 1, '186': 1, '600': 1, '962': 1, '1362': 1, '505': 1, '1466': 1, '488': 1, '2140': 1, '1338': 1, '543': 1} \n",
            "\n"
          ]
        }
      ]
    },
    {
      "cell_type": "code",
      "source": [
        "# change the value get to null value\n",
        "dataset_amazon['no_of_ratings'] = dataset_amazon['no_of_ratings'].replace([\"FREE Delivery by Amazon\"], np.NaN)\n",
        "dataset_amazon['no_of_ratings'] = dataset_amazon['no_of_ratings'].replace([\"Only 1 left in stock.\"], np.NaN)\n",
        "dataset_amazon['no_of_ratings'] = dataset_amazon['no_of_ratings'].replace([\"Only 2 left in stock.\"], np.NaN)"
      ],
      "metadata": {
        "id": "rcp5qen07U7K"
      },
      "execution_count": 74,
      "outputs": []
    },
    {
      "cell_type": "code",
      "source": [
        "dataset_amazon['no_of_ratings'] = dataset_amazon['no_of_ratings'].astype(str).astype(float)"
      ],
      "metadata": {
        "id": "Hrt6CZe8qBmd"
      },
      "execution_count": 75,
      "outputs": []
    },
    {
      "cell_type": "code",
      "source": [
        "dataset_amazon['no_of_ratings'] = dataset_amazon['no_of_ratings'].fillna(0)\n",
        "dataset_amazon['ratings'].isna().sum()"
      ],
      "metadata": {
        "colab": {
          "base_uri": "https://localhost:8080/"
        },
        "id": "XrjwnAK76XXd",
        "outputId": "71a4cdf2-3bd4-425d-e19a-1579ac3f90c5"
      },
      "execution_count": 76,
      "outputs": [
        {
          "output_type": "execute_result",
          "data": {
            "text/plain": [
              "0"
            ]
          },
          "metadata": {},
          "execution_count": 76
        }
      ]
    },
    {
      "cell_type": "markdown",
      "source": [
        "### price columns"
      ],
      "metadata": {
        "id": "f4oc4uLD7jRY"
      }
    },
    {
      "cell_type": "code",
      "source": [
        "dataset_amazon['discount_price'] = dataset_amazon['discount_price'].replace(',','', regex=True)\n",
        "dataset_amazon['discount_price'] = dataset_amazon['discount_price'].replace('₹','', regex=True)"
      ],
      "metadata": {
        "id": "OxHMoTtBjzfj"
      },
      "execution_count": 77,
      "outputs": []
    },
    {
      "cell_type": "code",
      "source": [
        "dataset_amazon['actual_price'] = dataset_amazon['actual_price'].replace(',','', regex=True)\n",
        "dataset_amazon['actual_price'] = dataset_amazon['actual_price'].replace('₹','', regex=True)"
      ],
      "metadata": {
        "id": "XvzO1XDImilm"
      },
      "execution_count": 78,
      "outputs": []
    },
    {
      "cell_type": "code",
      "source": [
        "# convert datatype from object to float\n",
        "dataset_amazon['discount_price'] = dataset_amazon['discount_price'].astype(str).astype(float)\n",
        "dataset_amazon['actual_price'] = dataset_amazon['actual_price'].astype(str).astype(float)"
      ],
      "metadata": {
        "id": "iHqk4bPt7MlZ"
      },
      "execution_count": 79,
      "outputs": []
    },
    {
      "cell_type": "code",
      "source": [
        "vals = dict(dataset_amazon['discount_price'].value_counts())\n",
        "print(f\"{vals} \\n\")"
      ],
      "metadata": {
        "colab": {
          "base_uri": "https://localhost:8080/"
        },
        "id": "Ft-zVV9VlZIz",
        "outputId": "a54928b1-eb09-40cb-e7a4-379cbc1df69d"
      },
      "execution_count": 80,
      "outputs": [
        {
          "output_type": "stream",
          "name": "stdout",
          "text": [
            "{299.0: 79, 499.0: 78, 199.0: 69, 399.0: 56, 249.0: 56, 599.0: 46, 349.0: 43, 149.0: 31, 899.0: 27, 279.0: 27, 189.0: 26, 999.0: 26, 269.0: 25, 449.0: 25, 250.0: 24, 175.0: 24, 225.0: 21, 549.0: 21, 150.0: 20, 350.0: 20, 260.0: 19, 799.0: 19, 329.0: 18, 649.0: 18, 180.0: 18, 165.0: 17, 699.0: 17, 229.0: 17, 240.0: 17, 339.0: 17, 239.0: 16, 179.0: 16, 450.0: 16, 359.0: 16, 200.0: 16, 219.0: 16, 289.0: 16, 99.0: 16, 375.0: 15, 319.0: 15, 320.0: 15, 1499.0: 15, 220.0: 15, 169.0: 14, 390.0: 14, 315.0: 14, 210.0: 14, 360.0: 14, 139.0: 13, 170.0: 13, 185.0: 13, 230.0: 13, 389.0: 13, 245.0: 13, 280.0: 13, 275.0: 13, 400.0: 13, 285.0: 13, 195.0: 12, 270.0: 12, 120.0: 12, 355.0: 12, 145.0: 11, 379.0: 11, 342.0: 11, 209.0: 11, 619.0: 11, 340.0: 11, 259.0: 11, 1199.0: 11, 420.0: 10, 140.0: 10, 205.0: 10, 290.0: 10, 395.0: 10, 425.0: 9, 160.0: 9, 295.0: 9, 178.0: 9, 900.0: 9, 1999.0: 9, 125.0: 9, 345.0: 9, 539.0: 9, 235.0: 9, 135.0: 9, 216.0: 9, 335.0: 9, 580.0: 9, 679.0: 8, 119.0: 8, 130.0: 8, 1299.0: 8, 378.0: 8, 330.0: 8, 325.0: 8, 89.0: 8, 630.0: 8, 369.0: 8, 749.0: 8, 1399.0: 8, 110.0: 8, 79.0: 8, 215.0: 7, 465.0: 7, 529.0: 7, 198.0: 7, 530.0: 7, 550.0: 7, 138.0: 7, 288.0: 7, 161.0: 7, 192.0: 7, 243.0: 7, 690.0: 7, 190.0: 7, 949.0: 7, 247.0: 7, 188.0: 7, 129.0: 7, 370.0: 7, 385.0: 7, 300.0: 7, 72.0: 7, 419.0: 7, 469.0: 7, 490.0: 6, 310.0: 6, 525.0: 6, 849.0: 6, 184.0: 6, 675.0: 6, 600.0: 6, 429.0: 6, 380.0: 6, 470.0: 6, 579.0: 6, 700.0: 6, 610.0: 6, 569.0: 6, 238.0: 6, 475.0: 6, 560.0: 5, 70.0: 5, 520.0: 5, 148.0: 5, 460.0: 5, 489.0: 5, 500.0: 5, 494.0: 5, 333.0: 5, 281.0: 5, 510.0: 5, 474.0: 5, 720.0: 5, 540.0: 5, 798.0: 5, 328.0: 5, 314.0: 5, 495.0: 5, 415.0: 5, 430.0: 5, 590.0: 5, 255.0: 5, 1099.0: 5, 155.0: 5, 159.0: 5, 194.0: 5, 348.0: 5, 207.0: 5, 162.0: 5, 1699.0: 5, 248.0: 5, 294.0: 5, 244.0: 5, 105.0: 5, 765.0: 5, 176.0: 5, 90.0: 5, 66.0: 5, 800.0: 5, 193.0: 5, 163.0: 5, 85.0: 5, 318.0: 5, 1600.0: 5, 100.0: 5, 790.0: 5, 298.0: 5, 49.0: 5, 265.0: 4, 456.0: 4, 272.0: 4, 629.0: 4, 436.0: 4, 278.0: 4, 650.0: 4, 2475.0: 4, 779.0: 4, 570.0: 4, 196.0: 4, 568.0: 4, 234.0: 4, 640.0: 4, 825.0: 4, 173.0: 4, 1799.0: 4, 156.0: 4, 2699.0: 4, 263.0: 4, 625.0: 4, 480.0: 4, 2750.0: 4, 69.0: 4, 218.0: 4, 293.0: 4, 788.0: 4, 589.0: 4, 382.0: 4, 68.0: 4, 133.0: 4, 147.0: 4, 267.0: 4, 88.0: 4, 35.0: 4, 217.0: 4, 445.0: 4, 30.0: 4, 237.0: 4, 9.0: 4, 1100.0: 4, 128.0: 4, 439.0: 4, 559.0: 4, 498.0: 4, 719.0: 4, 246.0: 4, 227.0: 4, 126.0: 4, 292.0: 4, 36.0: 4, 94.0: 4, 663.0: 4, 1140.0: 4, 598.0: 4, 398.0: 4, 479.0: 4, 365.0: 4, 92.0: 4, 25.0: 4, 305.0: 4, 95.0: 3, 840.0: 3, 750.0: 3, 426.0: 3, 1049.0: 3, 166.0: 3, 459.0: 3, 282.0: 3, 346.0: 3, 236.0: 3, 251.0: 3, 422.0: 3, 361.0: 3, 233.0: 3, 115.0: 3, 461.0: 3, 2999.0: 3, 770.0: 3, 564.0: 3, 990.0: 3, 242.0: 3, 2499.0: 3, 620.0: 3, 950.0: 3, 302.0: 3, 309.0: 3, 122.0: 3, 108.0: 3, 940.0: 3, 39.0: 3, 639.0: 3, 131.0: 3, 740.0: 3, 137.0: 3, 669.0: 3, 980.0: 3, 1899.0: 3, 488.0: 3, 664.0: 3, 284.0: 3, 45.0: 3, 759.0: 3, 271.0: 3, 1359.0: 3, 141.0: 3, 522.0: 3, 151.0: 3, 374.0: 3, 212.0: 3, 60.0: 3, 1599.0: 3, 1349.0: 3, 77.0: 3, 1050.0: 3, 846.0: 3, 226.0: 3, 1125.0: 3, 144.0: 3, 354.0: 3, 222.0: 3, 364.0: 3, 758.0: 3, 304.0: 3, 167.0: 3, 665.0: 3, 276.0: 3, 33.0: 3, 124.0: 3, 75.0: 3, 171.0: 3, 29.0: 3, 3999.0: 3, 274.0: 3, 87.0: 3, 158.0: 3, 48.0: 3, 402.0: 3, 59.0: 3, 204.0: 3, 38.0: 3, 203.0: 3, 168.0: 3, 660.0: 3, 264.0: 3, 113.0: 3, 712.0: 3, 283.0: 3, 575.0: 3, 351.0: 3, 829.0: 3, 50.0: 3, 261.0: 3, 689.0: 2, 253.0: 2, 1098.0: 2, 710.0: 2, 478.0: 2, 256.0: 2, 746.0: 2, 214.0: 2, 185.46: 2, 376.0: 2, 468.0: 2, 552.0: 2, 585.0: 2, 98.0: 2, 377.0: 2, 67.0: 2, 1124.0: 2, 394.0: 2, 969.0: 2, 531.0: 2, 546.0: 2, 597.0: 2, 191.0: 2, 711.0: 2, 1354.0: 2, 2799.0: 2, 337.0: 2, 311.0: 2, 153.0: 2, 1080.0: 2, 872.0: 2, 1180.0: 2, 331.55: 2, 850.0: 2, 2099.0: 2, 521.0: 2, 532.0: 2, 587.0: 2, 262.0: 2, 1890.0: 2, 645.0: 2, 321.22: 2, 2700.0: 2, 301.0: 2, 1075.0: 2, 1850.0: 2, 588.0: 2, 519.0: 2, 641.0: 2, 396.0: 2, 391.0: 2, 760.0: 2, 817.0: 2, 769.0: 2, 548.0: 2, 1900.0: 2, 729.0: 2, 411.0: 2, 845.0: 2, 444.0: 2, 1490.0: 2, 730.0: 2, 466.0: 2, 635.0: 2, 563.0: 2, 820.0: 2, 455.0: 2, 435.0: 2, 175.5: 2, 447.0: 2, 988.0: 2, 323.0: 2, 297.0: 2, 1849.0: 2, 201.0: 2, 84.0: 2, 2199.0: 2, 492.0: 2, 1134.0: 2, 104.0: 2, 1334.0: 2, 22.5: 2, 2545.0: 2, 1798.0: 2, 224.0: 2, 448.0: 2, 327.0: 2, 2070.0: 2, 789.0: 2, 2149.0: 2, 457.0: 2, 544.0: 2, 698.0: 2, 332.5: 2, 332.0: 2, 324.0: 2, 1310.0: 2, 659.0: 2, 628.0: 2, 565.0: 2, 680.0: 2, 686.0: 2, 515.0: 2, 576.0: 2, 343.0: 2, 694.0: 2, 804.0: 2, 1019.99: 2, 63.0: 2, 795.0: 2, 418.0: 2, 83.0: 2, 127.5: 2, 368.0: 2, 52.0: 2, 835.0: 2, 57.0: 2, 384.0: 2, 197.0: 2, 316.0: 2, 725.0: 2, 363.0: 2, 19.0: 2, 186.0: 2, 172.0: 2, 381.0: 2, 55.0: 2, 127.0: 2, 397.0: 2, 252.0: 2, 584.0: 2, 477.0: 2, 1250.0: 2, 670.0: 2, 64.0: 2, 1680.0: 2, 157.0: 2, 561.0: 2, 208.0: 2, 118.0: 2, 1249.0: 2, 362.0: 2, 91.0: 2, 473.0: 2, 819.0: 2, 890.0: 2, 1095.0: 2, 232.0: 2, 53.0: 2, 536.0: 2, 615.0: 2, 103.0: 2, 1325.0: 2, 257.0: 2, 136.0: 2, 28.0: 2, 54.0: 2, 258.0: 2, 114.0: 2, 693.0: 2, 1360.0: 2, 371.0: 2, 62.0: 2, 1150.0: 2, 22.0: 2, 73.0: 2, 697.0: 2, 312.0: 2, 352.0: 2, 954.0: 2, 503.0: 2, 929.0: 2, 80.0: 2, 870.0: 2, 116.0: 2, 211.0: 2, 405.0: 2, 578.0: 2, 296.0: 2, 74.0: 2, 2080.0: 2, 573.0: 1, 175.9: 1, 718.0: 1, 886.0: 1, 909.0: 1, 603.0: 1, 1189.0: 1, 1245.0: 1, 292.4: 1, 1135.0: 1, 1782.0: 1, 226.32: 1, 1239.0: 1, 32.0: 1, 338.0: 1, 1913.0: 1, 661.0: 1, 930.0: 1, 2519.0: 1, 734.0: 1, 6135.0: 1, 459.08: 1, 3997.0: 1, 1530.0: 1, 2993.0: 1, 1304.0: 1, 440.0: 1, 664.05: 1, 132.0: 1, 1118.0: 1, 658.0: 1, 228.0: 1, 1315.0: 1, 81.0: 1, 513.0: 1, 1674.0: 1, 1094.0: 1, 445.99: 1, 69.83: 1, 2033.0: 1, 1376.0: 1, 458.0: 1, 873.0: 1, 4995.0: 1, 4200.0: 1, 1443.0: 1, 2120.0: 1, 323.9: 1, 3319.0: 1, 3197.0: 1, 2000.0: 1, 1328.0: 1, 2749.0: 1, 1885.0: 1, 2985.0: 1, 101.0: 1, 1147.0: 1, 5099.0: 1, 898.0: 1, 18.0: 1, 3099.0: 1, 90.1: 1, 4799.0: 1, 1445.0: 1, 1930.0: 1, 4000.0: 1, 142.0: 1, 1462.0: 1, 3328.0: 1, 995.0: 1, 892.0: 1, 2462.0: 1, 1280.0: 1, 1394.0: 1, 4699.0: 1, 647.0: 1, 553.0: 1, 989.1: 1, 2490.0: 1, 215.1: 1, 61.0: 1, 344.0: 1, 1120.0: 1, 1303.0: 1, 2571.0: 1, 2315.0: 1, 388.0: 1, 547.0: 1, 806.0: 1, 1959.0: 1, 1425.6: 1, 1153.0: 1, 2049.0: 1, 2850.0: 1, 463.0: 1, 3831.0: 1, 2243.0: 1, 1749.0: 1, 1649.0: 1, 4797.0: 1, 14.14: 1, 623.0: 1, 566.0: 1, 13899.0: 1, 5299.0: 1, 1079.0: 1, 545.0: 1, 955.0: 1, 88.17: 1, 907.2: 1, 313.0: 1, 574.0: 1, 962.0: 1, 166.35: 1, 1540.0: 1, 366.0: 1, 704.0: 1, 595.0: 1, 913.9: 1, 372.0: 1, 581.0: 1, 339.98: 1, 1461.0: 1, 1337.0: 1, 1190.0: 1, 756.0: 1, 331.2: 1, 386.0: 1, 106.0: 1, 984.0: 1, 1259.0: 1, 1630.0: 1, 379.05: 1, 1129.0: 1, 744.0: 1, 609.0: 1, 728.0: 1, 1063.0: 1, 721.0: 1, 181.0: 1, 1290.0: 1, 626.0: 1, 166.37: 1, 780.0: 1, 45.9: 1, 947.0: 1, 1285.0: 1, 730.55: 1, 303.0: 1, 408.0: 1, 747.0: 1, 112.0: 1, 345.59: 1, 134.0: 1, 306.0: 1, 441.0: 1, 2599.0: 1, 423.0: 1, 1195.0: 1, 925.0: 1, 895.0: 1, 76.0: 1, 879.0: 1, 353.0: 1, 1220.0: 1, 433.0: 1, 254.0: 1, 717.0: 1, 869.0: 1, 543.0: 1, 929.99: 1, 1029.0: 1, 942.0: 1, 1317.0: 1, 20.0: 1, 3933.0: 1, 2380.0: 1, 3499.0: 1, 2304.0: 1, 3374.0: 1, 3299.0: 1, 1975.0: 1, 3052.0: 1, 811.0: 1, 965.0: 1, 1145.0: 1, 839.0: 1, 4999.0: 1, 1078.0: 1, 2400.0: 1, 199.5: 1, 462.0: 1, 1535.0: 1, 3054.0: 1, 249.06: 1, 672.0: 1, 611.0: 1, 154.0: 1, 8799.0: 1, 1525.0: 1, 3749.0: 1, 23.0: 1, 1737.0: 1, 431.0: 1, 2949.0: 1, 607.0: 1, 2687.0: 1, 308.7: 1, 17.0: 1, 541.0: 1, 975.0: 1, 398.58: 1, 802.0: 1, 612.0: 1, 364.8: 1, 636.05: 1, 164.0: 1, 987.0: 1, 123.0: 1, 58.0: 1, 735.0: 1, 854.05: 1, 356.0: 1, 1254.0: 1, 575.9: 1, 4099.0: 1, 843.2: 1, 174.0: 1, 685.0: 1, 593.0: 1, 134.8: 1, 65.0: 1, 308.0: 1, 93.0: 1, 82.77: 1, 107.0: 1, 1044.0: 1, 2550.0: 1, 1215.0: 1, 97.0: 1, 367.0: 1, 5800.0: 1, 894.0: 1, 1687.99: 1, 648.99: 1, 41.0: 1, 1689.0: 1, 674.0: 1, 582.0: 1, 571.0: 1, 1598.0: 1, 1340.0: 1, 1954.0: 1, 496.0: 1, 1389.0: 1, 1090.0: 1, 3210.0: 1, 146.0: 1, 1368.0: 1, 745.0: 1, 47.0: 1, 556.39: 1, 1580.0: 1, 3823.0: 1, 417.0: 1, 695.0: 1, 1650.0: 1, 555.0: 1, 5899.0: 1, 123.4: 1, 43.0: 1, 1010.0: 1, 797.0: 1, 37.0: 1, 69.8: 1, 408.5: 1, 577.0: 1, 648.0: 1, 1847.0: 1, 1069.0: 1, 1298.99: 1, 646.0: 1, 7900.0: 1, 761.0: 1, 809.0: 1, 1072.0: 1, 204.6: 1, 2025.0: 1, 364.99: 1, 8.0: 1, 517.0: 1, 605.0: 1, 370.93: 1, 1725.0: 1, 1570.0: 1, 533.1: 1, 443.0: 1, 255.75: 1, 199.05: 1, 1167.0: 1, 1048.0: 1, 537.0: 1, 109.0: 1, 322.0: 1, 231.0: 1, 1485.0: 1, 226.1: 1, 149.6: 1, 635.55: 1, 774.0: 1, 37.5: 1, 554.0: 1, 545.98: 1, 848.0: 1, 223.0: 1, 484.0: 1, 599.99: 1, 2549.0: 1, 211.5: 1, 437.0: 1, 934.0: 1, 912.0: 1, 167.4: 1, 997.0: 1, 371.25: 1, 1365.0: 1, 1056.0: 1, 716.0: 1, 1425.0: 1, 25.8: 1, 349.99: 1, 251.76: 1, 2498.0: 1, 254.15: 1, 639.99: 1, 15.0: 1, 368.93: 1, 2990.0: 1, 837.95: 1, 1104.0: 1, 2249.0: 1, 183.0: 1, 6499.0: 1, 49.5: 1, 939.0: 1, 410.0: 1, 63.75: 1, 1291.0: 1, 468.96: 1, 864.0: 1, 432.0: 1, 282.15: 1, 266.0: 1, 182.75: 1, 277.0: 1, 688.0: 1, 706.0: 1, 1202.0: 1, 446.0: 1, 104.4: 1, 334.0: 1, 2163.0: 1, 186.2: 1, 506.68: 1, 383.0: 1, 269.1: 1, 1567.0: 1, 860.0: 1, 644.0: 1, 1106.0: 1, 508.0: 1, 968.0: 1, 1019.0: 1, 527.71: 1, 6400.0: 1, 1769.0: 1, 1795.5: 1, 1919.0: 1, 213.0: 1, 1761.0: 1, 2446.0: 1, 1804.05: 1, 280.25: 1, 3180.0: 1, 1400.0: 1, 594.0: 1, 212.5: 1, 3830.0: 1, 1139.0: 1, 475.2: 1, 2338.0: 1, 568.65: 1, 1454.0: 1, 2295.0: 1, 2399.0: 1, 708.0: 1, 1338.0: 1, 505.75: 1, 556.0: 1, 6884.0: 1, 1060.0: 1, 71.0: 1, 403.0: 1, 1685.0: 1, 778.5: 1, 516.0: 1, 177.0: 1, 730.28: 1, 587.88: 1, 202.0: 1, 5900.0: 1, 498.6: 1, 888.0: 1, 638.0: 1, 2175.0: 1, 1230.0: 1, 2960.0: 1, 569.05: 1, 336.0: 1, 1495.0: 1, 4498.0: 1, 1411.0: 1, 27.0: 1, 487.0: 1, 2757.0: 1, 719.1: 1, 4300.0: 1, 1424.0: 1, 6989.0: 1, 1889.0: 1, 901.0: 1, 785.0: 1, 960.0: 1, 1379.0: 1, 1200.0: 1, 652.0: 1, 1837.0: 1, 182.0: 1, 617.0: 1, 165.6: 1, 616.0: 1, 1440.0: 1, 206.0: 1, 403.75: 1, 40.0: 1, 988.99: 1, 1699.15: 1, 493.0: 1, 687.0: 1, 165.75: 1, 3899.0: 1, 1980.0: 1, 311.03: 1, 787.5: 1, 256.43: 1, 621.4: 1, 524.0: 1, 824.0: 1, 3399.0: 1, 882.0: 1, 409.0: 1, 2709.0: 1, 1385.0: 1, 514.0: 1, 152.0: 1, 321.0: 1, 3100.0: 1, 739.0: 1, 691.0: 1, 705.0: 1, 560.98: 1, 4599.0: 1, 3253.0: 1, 299.4: 1, 187.2: 1, 1520.0: 1, 1775.0: 1, 715.0: 1, 948.0: 1, 143.0: 1, 1845.0: 1, 793.0: 1, 1949.0: 1, 1719.0: 1, 1377.0: 1, 466.88: 1, 3039.0: 1, 56.7: 1, 567.0: 1, 46.0: 1, 3509.0: 1, 473.99: 1, 501.12: 1, 1033.0: 1, 623.03: 1, 558.0: 1, 545.03: 1, 401.8: 1, 889.0: 1, 3000.0: 1, 514.56: 1, 4250.0: 1, 287.0: 1, 1994.0: 1} \n",
            "\n"
          ]
        }
      ]
    },
    {
      "cell_type": "code",
      "source": [
        "vals = dict(dataset_amazon['actual_price'].value_counts())\n",
        "print(f\"{vals} \\n\")"
      ],
      "metadata": {
        "colab": {
          "base_uri": "https://localhost:8080/"
        },
        "id": "vgKGQTdLm3L_",
        "outputId": "04168899-f857-488c-eaee-39926a821f12"
      },
      "execution_count": 81,
      "outputs": [
        {
          "output_type": "stream",
          "name": "stdout",
          "text": [
            "{399.0: 117, 499.0: 114, 300.0: 114, 999.0: 107, 299.0: 96, 250.0: 93, 400.0: 83, 599.0: 81, 200.0: 73, 500.0: 69, 799.0: 66, 600.0: 65, 350.0: 63, 150.0: 60, 699.0: 57, 450.0: 56, 360.0: 48, 700.0: 47, 240.0: 45, 199.0: 43, 1499.0: 43, 899.0: 39, 180.0: 36, 280.0: 35, 1299.0: 35, 480.0: 34, 750.0: 34, 225.0: 34, 349.0: 34, 1999.0: 33, 800.0: 32, 160.0: 31, 190.0: 31, 1200.0: 31, 320.0: 30, 140.0: 30, 650.0: 29, 120.0: 27, 210.0: 27, 220.0: 27, 1000.0: 27, 249.0: 27, 420.0: 27, 260.0: 26, 50.0: 25, 270.0: 25, 175.0: 25, 390.0: 23, 40.0: 23, 275.0: 22, 550.0: 21, 1699.0: 21, 325.0: 20, 295.0: 20, 170.0: 19, 195.0: 19, 900.0: 19, 375.0: 18, 1199.0: 17, 549.0: 17, 110.0: 17, 490.0: 17, 850.0: 17, 1800.0: 17, 70.0: 17, 1500.0: 17, 165.0: 17, 380.0: 16, 75.0: 16, 310.0: 16, 2499.0: 16, 125.0: 16, 100.0: 15, 1100.0: 15, 440.0: 15, 330.0: 14, 449.0: 14, 80.0: 14, 290.0: 13, 2000.0: 13, 20.0: 13, 99.0: 13, 340.0: 13, 950.0: 13, 35.0: 12, 60.0: 12, 1599.0: 12, 475.0: 12, 230.0: 12, 495.0: 12, 540.0: 12, 30.0: 11, 3999.0: 11, 720.0: 11, 649.0: 11, 245.0: 11, 510.0: 11, 370.0: 10, 115.0: 10, 590.0: 10, 90.0: 10, 2500.0: 10, 625.0: 10, 1099.0: 10, 155.0: 10, 395.0: 10, 580.0: 10, 2999.0: 10, 185.0: 10, 410.0: 10, 595.0: 9, 215.0: 9, 345.0: 9, 425.0: 9, 1600.0: 9, 1250.0: 9, 598.0: 9, 55.0: 9, 690.0: 8, 525.0: 8, 460.0: 8, 145.0: 8, 1399.0: 8, 10.0: 8, 135.0: 8, 130.0: 8, 198.0: 8, 149.0: 8, 498.0: 8, 65.0: 8, 1799.0: 7, 3000.0: 7, 265.0: 7, 1899.0: 7, 398.0: 7, 95.0: 7, 570.0: 7, 749.0: 7, 298.0: 7, 640.0: 7, 285.0: 7, 4999.0: 7, 560.0: 7, 430.0: 7, 255.0: 6, 1050.0: 6, 179.0: 6, 297.0: 6, 545.0: 6, 396.0: 6, 465.0: 6, 405.0: 6, 825.0: 6, 105.0: 6, 85.0: 6, 520.0: 6, 470.0: 5, 6999.0: 5, 760.0: 5, 1249.0: 5, 4476.0: 5, 8999.0: 5, 960.0: 5, 1700.0: 5, 530.0: 5, 698.0: 5, 258.0: 5, 998.0: 5, 365.0: 5, 335.0: 5, 660.0: 5, 106.0: 5, 725.0: 5, 218.0: 5, 1300.0: 5, 790.0: 4, 1150.0: 4, 25.0: 4, 620.0: 4, 745.0: 4, 897.0: 4, 379.0: 4, 1696.0: 4, 385.0: 4, 5000.0: 4, 3500.0: 4, 849.0: 4, 435.0: 4, 795.0: 4, 312.0: 4, 415.0: 4, 3499.0: 4, 129.0: 4, 675.0: 4, 630.0: 4, 1400.0: 4, 1398.0: 4, 89.0: 4, 315.0: 4, 575.0: 3, 279.0: 3, 779.0: 3, 1149.0: 3, 1495.0: 3, 159.0: 3, 670.0: 3, 329.0: 3, 4500.0: 3, 358.0: 3, 119.0: 3, 655.0: 3, 594.0: 3, 96.0: 3, 234.0: 3, 381.0: 3, 875.0: 3, 880.0: 3, 336.0: 3, 338.0: 3, 710.0: 3, 284.0: 3, 352.0: 3, 848.0: 3, 353.0: 3, 1950.0: 3, 2199.0: 3, 1080.0: 3, 2599.0: 3, 196.0: 3, 740.0: 3, 389.0: 3, 2276.0: 3, 219.0: 3, 2100.0: 3, 319.0: 3, 925.0: 3, 171.0: 3, 229.0: 3, 6000.0: 3, 88.0: 3, 949.0: 3, 1049.0: 3, 68.0: 3, 355.0: 3, 222.0: 3, 610.0: 3, 82.0: 3, 98.0: 3, 209.0: 3, 1375.0: 3, 1225.0: 3, 1280.0: 3, 235.0: 3, 479.0: 3, 5999.0: 3, 792.0: 3, 3699.0: 2, 6669.0: 2, 582.0: 2, 639.0: 2, 1070.0: 2, 1350.0: 2, 930.0: 2, 870.0: 2, 674.0: 2, 1175.0: 2, 1798.0: 2, 2139.0: 2, 414.0: 2, 2250.0: 2, 139.0: 2, 3550.0: 2, 216.0: 2, 1750.0: 2, 551.0: 2, 269.0: 2, 1728.0: 2, 173.0: 2, 2378.0: 2, 5500.0: 2, 1095.0: 2, 798.0: 2, 2200.0: 2, 1096.0: 2, 2700.0: 2, 2750.0: 2, 1296.0: 2, 3600.0: 2, 366.0: 2, 1020.0: 2, 522.0: 2, 5157.0: 2, 452.0: 2, 1055.0: 2, 830.0: 2, 2755.0: 2, 2949.0: 2, 232.0: 2, 2349.0: 2, 1893.0: 2, 1209.0: 2, 104.0: 2, 4800.0: 2, 615.0: 2, 1649.0: 2, 780.0: 2, 505.0: 2, 990.0: 2, 940.0: 2, 444.0: 2, 169.0: 2, 4000.0: 2, 2650.0: 2, 318.0: 2, 1098.0: 2, 939.0: 2, 702.0: 2, 10000.0: 2, 2998.0: 2, 895.0: 2, 955.0: 2, 3599.0: 2, 1680.0: 2, 254.0: 2, 167.0: 2, 695.0: 2, 184.0: 2, 49.0: 2, 31.0: 2, 78.0: 2, 363.0: 2, 388.0: 2, 189.0: 2, 920.0: 2, 248.0: 2, 646.0: 2, 1485.0: 2, 45.0: 2, 769.0: 2, 429.0: 2, 186.0: 2, 141.0: 2, 369.0: 2, 27.0: 2, 589.0: 2, 2400.0: 2, 1197.0: 2, 455.0: 2, 36.0: 2, 194.0: 2, 676.0: 2, 109.0: 2, 168.0: 2, 259.0: 2, 2699.0: 2, 118.0: 2, 840.0: 2, 2049.0: 2, 2475.0: 2, 735.0: 2, 3900.0: 2, 205.0: 2, 1497.0: 2, 15.0: 2, 559.0: 2, 252.0: 2, 718.0: 2, 174.0: 2, 1180.0: 2, 359.0: 2, 585.0: 2, 402.0: 1, 342.0: 1, 1449.0: 1, 1198.0: 1, 246.0: 1, 1570.0: 1, 44.0: 1, 1320.0: 1, 1129.0: 1, 177.0: 1, 1520.0: 1, 1420.0: 1, 5499.0: 1, 454.0: 1, 896.0: 1, 2799.0: 1, 2099.0: 1, 714.0: 1, 3150.0: 1, 1063.0: 1, 860.0: 1, 176.0: 1, 2446.0: 1, 697.0: 1, 1550.0: 1, 989.0: 1, 228.0: 1, 2899.0: 1, 1164.0: 1, 193.0: 1, 898.0: 1, 1295.0: 1, 1980.0: 1, 3187.0: 1, 2140.0: 1, 438.0: 1, 23.0: 1, 341.0: 1, 1775.0: 1, 3856.0: 1, 3418.0: 1, 668.0: 1, 267.75: 1, 1869.0: 1, 383.0: 1, 4738.0: 1, 3450.0: 1, 1158.0: 1, 447.0: 1, 213.0: 1, 1910.0: 1, 7442.0: 1, 3100.0: 1, 1195.0: 1, 3798.0: 1, 1110.0: 1, 1737.0: 1, 638.0: 1, 107.0: 1, 286.0: 1, 4499.0: 1, 741.0: 1, 257.0: 1, 2399.0: 1, 1480.0: 1, 322.0: 1, 2460.0: 1, 488.0: 1, 276.0: 1, 138.0: 1, 456.0: 1, 2600.0: 1, 2457.0: 1, 7999.0: 1, 317.0: 1, 178.0: 1, 1637.0: 1, 2667.0: 1, 716.0: 1, 2590.0: 1, 102.0: 1, 1048.0: 1, 1498.0: 1, 1395.0: 1, 52.0: 1, 443.0: 1, 132.0: 1, 288.0: 1, 103.0: 1, 641.0: 1, 865.0: 1, 289.0: 1, 885.0: 1, 1270.0: 1, 6249.0: 1, 304.0: 1, 126.0: 1, 492.0: 1, 857.0: 1, 2235.0: 1, 10900.0: 1, 81.0: 1, 1047.0: 1, 333.0: 1, 1907.0: 1, 97.0: 1, 2068.0: 1, 2494.0: 1, 364.0: 1, 1060.0: 1, 485.0: 1, 1998.0: 1, 1690.0: 1, 1975.0: 1, 2097.0: 1, 2450.0: 1, 3482.0: 1, 728.0: 1, 142.0: 1, 344.0: 1, 459.0: 1, 1855.0: 1, 378.0: 1, 4200.0: 1, 211.0: 1, 397.0: 1, 980.0: 1, 1986.0: 1, 864.0: 1, 2290.0: 1, 124.0: 1, 2704.0: 1, 2749.0: 1, 686.0: 1, 374.0: 1, 1555.0: 1, 1677.0: 1, 12999.0: 1, 820.0: 1, 1795.0: 1, 4299.0: 1, 1235.0: 1, 1947.0: 1, 7800.0: 1, 4240.0: 1, 1510.0: 1, 1360.0: 1, 1590.0: 1, 94.0: 1, 1380.0: 1, 778.0: 1, 663.0: 1, 273.0: 1, 241.0: 1, 2150.0: 1, 597.0: 1, 678.0: 1, 1190.0: 1, 67.0: 1, 272.0: 1, 785.0: 1, 314.0: 1, 8669.0: 1, 1460.0: 1, 339.0: 1, 1245.0: 1, 4899.0: 1, 9000.0: 1, 581.0: 1, 890.0: 1, 1297.0: 1, 565.0: 1, 2425.0: 1, 2697.0: 1, 770.0: 1, 1675.0: 1, 1488.0: 1, 1068.0: 1, 534.0: 1, 2232.0: 1, 5469.0: 1, 2360.0: 1, 1440.0: 1, 1390.0: 1, 74.0: 1, 596.0: 1, 815.0: 1, 3575.0: 1, 58.0: 1, 305.0: 1, 53.0: 1, 1796.0: 1, 282.0: 1, 29.0: 1, 5600.0: 1, 679.0: 1, 62.0: 1, 101.0: 1, 47.0: 1, 92.0: 1, 38000.0: 1, 28.0: 1, 22.0: 1, 845.0: 1, 73.0: 1, 57.0: 1, 693.0: 1, 445.0: 1, 1650.0: 1, 1349.0: 1, 1144.0: 1, 7499.0: 1, 348.0: 1, 1273.0: 1, 819.0: 1, 1598.0: 1, 1900.0: 1, 448.0: 1, 238.0: 1, 1185.0: 1, 777.0: 1, 236.0: 1, 239.0: 1, 144.0: 1, 624.0: 1, 3400.0: 1, 788.0: 1, 519.0: 1, 1090.0: 1, 464.0: 1, 2496.0: 1, 2855.0: 1, 2997.0: 1, 1996.0: 1, 208.0: 1, 4840.0: 1, 601.0: 1, 975.0: 1, 158.0: 1, 7146.0: 1, 1396.0: 1, 995.0: 1, 2550.0: 1, 945.0: 1, 1220.0: 1, 516.0: 1, 131.0: 1, 2464.0: 1, 2240.0: 1, 3628.0: 1, 264.0: 1, 4781.0: 1, 1658.0: 1, 1242.0: 1, 938.0: 1, 432.0: 1, 935.0: 1, 1036.0: 1, 5750.0: 1, 2098.0: 1, 635.0: 1, 2101.0: 1, 6300.0: 1, 2129.0: 1, 968.0: 1, 6353.0: 1, 16999.0: 1, 1994.0: 1, 8099.0: 1, 1025.0: 1, 2396.0: 1, 8500.0: 1, 431.0: 1, 1755.0: 1, 373.0: 1, 468.0: 1, 665.0: 1, 1155.0: 1, 442.0: 1, 1125.0: 1, 7000.0: 1, 680.0: 1, 419.0: 1, 748.0: 1, 152.0: 1, 546.0: 1, 1833.0: 1, 12000.0: 1, 552.0: 1, 536.0: 1, 481.0: 1, 296.0: 1, 736.0: 1, 1308.0: 1, 1885.0: 1, 207.0: 1, 2620.0: 1, 2784.0: 1, 2594.0: 1, 835.0: 1, 533.0: 1, 1780.0: 1, 2299.0: 1, 1450.0: 1, 1749.0: 1, 4125.0: 1, 3110.0: 1, 685.0: 1, 268.0: 1, 3300.0: 1, 1725.0: 1} \n",
            "\n"
          ]
        }
      ]
    },
    {
      "cell_type": "code",
      "source": [
        "dataset_amazon['actual_price'] = dataset_amazon['actual_price'].fillna(0)\n",
        "dataset_amazon['actual_price'].isna().sum()"
      ],
      "metadata": {
        "colab": {
          "base_uri": "https://localhost:8080/"
        },
        "id": "nCsw7MUdnCS2",
        "outputId": "f5a2b6f6-35d5-4291-dbf7-e5c6cd560bac"
      },
      "execution_count": 82,
      "outputs": [
        {
          "output_type": "execute_result",
          "data": {
            "text/plain": [
              "0"
            ]
          },
          "metadata": {},
          "execution_count": 82
        }
      ]
    },
    {
      "cell_type": "code",
      "source": [
        "dataset_amazon['discount_price'] = dataset_amazon['discount_price'].fillna(dataset_amazon['actual_price'])\n",
        "dataset_amazon['discount_price'].isna().sum()"
      ],
      "metadata": {
        "colab": {
          "base_uri": "https://localhost:8080/"
        },
        "id": "PiNpfOalljad",
        "outputId": "7691fd65-fbbd-47dc-b88a-624c8fe431f9"
      },
      "execution_count": 83,
      "outputs": [
        {
          "output_type": "execute_result",
          "data": {
            "text/plain": [
              "0"
            ]
          },
          "metadata": {},
          "execution_count": 83
        }
      ]
    },
    {
      "cell_type": "markdown",
      "source": [
        "### Make the train amazon dataset"
      ],
      "metadata": {
        "id": "shl4VkaSurfq"
      }
    },
    {
      "cell_type": "code",
      "source": [
        "train_amazon = dataset_amazon\n",
        "train_amazon.drop(train_amazon[train_amazon['actual_price'] <= 0.0].index, inplace = True)\n",
        "train_amazon.drop(train_amazon[train_amazon['ratings'] == 0.0].index, inplace = True)"
      ],
      "metadata": {
        "id": "-9voarNvq9OC"
      },
      "execution_count": 84,
      "outputs": []
    },
    {
      "cell_type": "code",
      "source": [
        "train_amazon['main_category'].value_counts()"
      ],
      "metadata": {
        "colab": {
          "base_uri": "https://localhost:8080/"
        },
        "id": "Na3jUZ4Wu_-h",
        "outputId": "7f4e2785-515a-42f4-968f-4aa2579db352"
      },
      "execution_count": 85,
      "outputs": [
        {
          "output_type": "execute_result",
          "data": {
            "text/plain": [
              "grocery & gourmet foods    2469\n",
              "beauty & health             881\n",
              "Name: main_category, dtype: int64"
            ]
          },
          "metadata": {},
          "execution_count": 85
        }
      ]
    },
    {
      "cell_type": "code",
      "source": [
        "train_amazon['sub_category'].value_counts()"
      ],
      "metadata": {
        "colab": {
          "base_uri": "https://localhost:8080/"
        },
        "id": "CNGZVhdavH7c",
        "outputId": "5488ad57-3245-491b-f39f-834b1f052671"
      },
      "execution_count": 86,
      "outputs": [
        {
          "output_type": "execute_result",
          "data": {
            "text/plain": [
              "Coffee, Tea & Beverages        953\n",
              "Diet & Nutrition               881\n",
              "Snack Foods                    788\n",
              "All Grocery & Gourmet Foods    728\n",
              "Name: sub_category, dtype: int64"
            ]
          },
          "metadata": {},
          "execution_count": 86
        }
      ]
    },
    {
      "cell_type": "markdown",
      "source": [
        "## Bigmarket preprocessing"
      ],
      "metadata": {
        "id": "PrtNVaeDAeyU"
      }
    },
    {
      "cell_type": "markdown",
      "source": [
        "### description column"
      ],
      "metadata": {
        "id": "IloX0DmUAuD5"
      }
    },
    {
      "cell_type": "code",
      "source": [
        "dataset_bigmarket['description'] = dataset_bigmarket['description'].astype(str)"
      ],
      "metadata": {
        "id": "fiaVPVGJAq2D"
      },
      "execution_count": 87,
      "outputs": []
    },
    {
      "cell_type": "code",
      "source": [
        "dataset_bigmarket['description'] = dataset_bigmarket['description'].fillna('none')\n",
        "dataset_amazon['ratings'].isna().sum()"
      ],
      "metadata": {
        "colab": {
          "base_uri": "https://localhost:8080/"
        },
        "id": "1bp4un6iAxwA",
        "outputId": "6eae97b1-d8b5-481a-d2a6-fb4a421d3222"
      },
      "execution_count": 88,
      "outputs": [
        {
          "output_type": "execute_result",
          "data": {
            "text/plain": [
              "0"
            ]
          },
          "metadata": {},
          "execution_count": 88
        }
      ]
    },
    {
      "cell_type": "markdown",
      "source": [
        "### drop null value (product without name / brand) and get train data"
      ],
      "metadata": {
        "id": "-DOzL06cA3kq"
      }
    },
    {
      "cell_type": "code",
      "source": [
        "train_bm = dataset_bigmarket.dropna()\n",
        "train_bm.isna().sum()"
      ],
      "metadata": {
        "id": "dHvHeuwZA4XL",
        "colab": {
          "base_uri": "https://localhost:8080/"
        },
        "outputId": "e1ac1f32-1d0e-4f11-ffb4-1f30ebe96846"
      },
      "execution_count": 89,
      "outputs": [
        {
          "output_type": "execute_result",
          "data": {
            "text/plain": [
              "index             0\n",
              "product           0\n",
              "category          0\n",
              "sub_category      0\n",
              "brand             0\n",
              "discount_price    0\n",
              "market_price      0\n",
              "type              0\n",
              "ratings           0\n",
              "description       0\n",
              "dtype: int64"
            ]
          },
          "metadata": {},
          "execution_count": 89
        }
      ]
    },
    {
      "cell_type": "code",
      "source": [
        "train_bm.shape"
      ],
      "metadata": {
        "colab": {
          "base_uri": "https://localhost:8080/"
        },
        "id": "09P6uZIqeUoO",
        "outputId": "f35fa645-dc33-466a-f6dc-0f24f2eeb37e"
      },
      "execution_count": 90,
      "outputs": [
        {
          "output_type": "execute_result",
          "data": {
            "text/plain": [
              "(18928, 10)"
            ]
          },
          "metadata": {},
          "execution_count": 90
        }
      ]
    },
    {
      "cell_type": "markdown",
      "source": [
        "## Transform & Merge Datasets"
      ],
      "metadata": {
        "id": "mcKp10uKBbvi"
      }
    },
    {
      "cell_type": "code",
      "source": [
        "train_bm.rename(columns = {'product':'name', 'category':'main_category', 'market_price':'actual_price'}, inplace = True)"
      ],
      "metadata": {
        "colab": {
          "base_uri": "https://localhost:8080/"
        },
        "id": "6v6kXugxjoxu",
        "outputId": "0ea3c852-9dfc-4b36-cbd1-39e6bdd36c1a"
      },
      "execution_count": 91,
      "outputs": [
        {
          "output_type": "stream",
          "name": "stderr",
          "text": [
            "<ipython-input-91-46de14b98623>:1: SettingWithCopyWarning: \n",
            "A value is trying to be set on a copy of a slice from a DataFrame\n",
            "\n",
            "See the caveats in the documentation: https://pandas.pydata.org/pandas-docs/stable/user_guide/indexing.html#returning-a-view-versus-a-copy\n",
            "  train_bm.rename(columns = {'product':'name', 'category':'main_category', 'market_price':'actual_price'}, inplace = True)\n"
          ]
        }
      ]
    },
    {
      "cell_type": "code",
      "source": [
        "data1 = train_bm[['name','main_category','sub_category','ratings','discount_price','actual_price']]\n",
        "data2 = train_amazon[['name','main_category','sub_category','ratings','discount_price','actual_price']]\n",
        "product_dataset = pd.concat([data1, data2], axis=0)"
      ],
      "metadata": {
        "id": "HSmlstf0kBy4"
      },
      "execution_count": 92,
      "outputs": []
    },
    {
      "cell_type": "code",
      "source": [
        "product_dataset.isna().sum()"
      ],
      "metadata": {
        "colab": {
          "base_uri": "https://localhost:8080/"
        },
        "id": "yYXrYWX5kkY4",
        "outputId": "4b8d909f-29af-458a-a1a2-73bd2b3bcbf6"
      },
      "execution_count": 93,
      "outputs": [
        {
          "output_type": "execute_result",
          "data": {
            "text/plain": [
              "name              0\n",
              "main_category     0\n",
              "sub_category      0\n",
              "ratings           0\n",
              "discount_price    0\n",
              "actual_price      0\n",
              "dtype: int64"
            ]
          },
          "metadata": {},
          "execution_count": 93
        }
      ]
    },
    {
      "cell_type": "code",
      "source": [
        "product_dataset = product_dataset.drop_duplicates()"
      ],
      "metadata": {
        "id": "vwI8j1WKkwbj"
      },
      "execution_count": 94,
      "outputs": []
    },
    {
      "cell_type": "code",
      "source": [
        "product_dataset.duplicated().sum()"
      ],
      "metadata": {
        "colab": {
          "base_uri": "https://localhost:8080/"
        },
        "id": "OWFq-V8vk6oA",
        "outputId": "b36c264c-a8a9-4182-aad8-b2b5e81b7f0e"
      },
      "execution_count": 95,
      "outputs": [
        {
          "output_type": "execute_result",
          "data": {
            "text/plain": [
              "0"
            ]
          },
          "metadata": {},
          "execution_count": 95
        }
      ]
    },
    {
      "cell_type": "code",
      "source": [
        "# Add 1 to the index values\n",
        "product_dataset.reset_index(inplace=True)\n",
        "\n",
        "product_dataset['product_id'] = product_dataset.index + 1"
      ],
      "metadata": {
        "id": "EizsZK_clBDx"
      },
      "execution_count": 96,
      "outputs": []
    },
    {
      "cell_type": "code",
      "source": [
        "product_dataset.shape"
      ],
      "metadata": {
        "colab": {
          "base_uri": "https://localhost:8080/"
        },
        "id": "3Iv5uYINoMDO",
        "outputId": "09115696-db9c-4625-cd0f-ad5d4623957f"
      },
      "execution_count": 97,
      "outputs": [
        {
          "output_type": "execute_result",
          "data": {
            "text/plain": [
              "(22032, 8)"
            ]
          },
          "metadata": {},
          "execution_count": 97
        }
      ]
    },
    {
      "cell_type": "code",
      "source": [
        "# merge instacart data\n",
        "products = product_dataset[['product_id','actual_price','discount_price','ratings']]\n",
        "df12 = pd.merge(df2, df1, how='inner', on='aisle_id')\n",
        "df128 = pd.merge(df12, df8, how='inner', on='department_id')\n",
        "df1289 = pd.merge(df9, df128, how='inner', on='product_id')\n",
        "dataset_instacart = pd.merge(df10, df1289, how='inner', on='order_id')"
      ],
      "metadata": {
        "id": "zTv1kiFjm9Cf"
      },
      "execution_count": 98,
      "outputs": []
    },
    {
      "cell_type": "code",
      "source": [
        "print(products['product_id'].min())\n",
        "print(products['product_id'].max())"
      ],
      "metadata": {
        "colab": {
          "base_uri": "https://localhost:8080/"
        },
        "id": "2EY7icrin_ZD",
        "outputId": "08355448-7341-4e4b-b75f-c2fafdeaccb4"
      },
      "execution_count": 99,
      "outputs": [
        {
          "output_type": "stream",
          "name": "stdout",
          "text": [
            "1\n",
            "22032\n"
          ]
        }
      ]
    },
    {
      "cell_type": "code",
      "source": [
        "print(dataset_instacart['product_id'].min())\n",
        "print(dataset_instacart['product_id'].max())"
      ],
      "metadata": {
        "colab": {
          "base_uri": "https://localhost:8080/"
        },
        "id": "AymQW17fnseO",
        "outputId": "df7e4964-28ea-4d8a-cd5b-27e995fec13f"
      },
      "execution_count": 100,
      "outputs": [
        {
          "output_type": "stream",
          "name": "stdout",
          "text": [
            "1\n",
            "49688\n"
          ]
        }
      ]
    },
    {
      "cell_type": "code",
      "source": [
        "# Drop rows where the value of 'Column2' is greater than 31471\n",
        "transactions = dataset_instacart.drop(dataset_instacart[dataset_instacart['product_id'] > 22032].index)"
      ],
      "metadata": {
        "id": "p1mra1jYpCK8"
      },
      "execution_count": 101,
      "outputs": []
    },
    {
      "cell_type": "code",
      "source": [
        "print(transactions['product_id'].min())\n",
        "print(transactions['product_id'].max())"
      ],
      "metadata": {
        "colab": {
          "base_uri": "https://localhost:8080/"
        },
        "id": "eXSUAv--pj2U",
        "outputId": "ca66e387-5f65-4060-f54c-baf4e4d23119"
      },
      "execution_count": 102,
      "outputs": [
        {
          "output_type": "stream",
          "name": "stdout",
          "text": [
            "1\n",
            "22032\n"
          ]
        }
      ]
    },
    {
      "cell_type": "code",
      "source": [
        "merged_data = pd.merge(transactions, products, how='inner', on='product_id')"
      ],
      "metadata": {
        "id": "9Ye_RcX-pubR"
      },
      "execution_count": 103,
      "outputs": []
    },
    {
      "cell_type": "code",
      "source": [
        "merged_data = merged_data.sample(frac=1)\n",
        "merged_data.head()"
      ],
      "metadata": {
        "colab": {
          "base_uri": "https://localhost:8080/",
          "height": 426
        },
        "id": "4hQsuocAqE0h",
        "outputId": "6ae68778-80ae-44d5-a16e-d095583ccba7"
      },
      "execution_count": 104,
      "outputs": [
        {
          "output_type": "execute_result",
          "data": {
            "text/plain": [
              "        order_id  user_id eval_set  order_number  order_dow  \\\n",
              "557392   1412015    26227    train            21          5   \n",
              "545024   2650702   137282    train             6          1   \n",
              "318239    759428    53932    train            36          0   \n",
              "58853     927561     3357    train            23          0   \n",
              "109473   1010945    79275    train             7          5   \n",
              "\n",
              "        order_hour_of_day  days_since_prior_order  product_id  \\\n",
              "557392                  8                     6.0        5033   \n",
              "545024                 23                    30.0       16772   \n",
              "318239                 13                     4.0        9871   \n",
              "58853                  19                    30.0        4920   \n",
              "109473                 10                     8.0       17758   \n",
              "\n",
              "        add_to_cart_order  reordered  aisle_id                       aisle  \\\n",
              "557392                 12          1       117      nuts seeds dried fruit   \n",
              "545024                  9          0        94                         tea   \n",
              "318239                 12          0       122                meat counter   \n",
              "58853                   6          0       123  packaged vegetables fruits   \n",
              "109473                 27          0       120                      yogurt   \n",
              "\n",
              "                          product_name  department_id    department  \\\n",
              "557392        California Pitted Prunes             19        snacks   \n",
              "545024       Organic Ginger Herbal Tea              7     beverages   \n",
              "318239  Beef Loin New York Strip Steak             12  meat seafood   \n",
              "58853              Seedless Red Grapes              4       produce   \n",
              "109473      Strawberry Rhubarb Yoghurt             16    dairy eggs   \n",
              "\n",
              "        actual_price  discount_price  ratings  \n",
              "557392          20.0            20.0      4.2  \n",
              "545024          35.0            28.0      4.3  \n",
              "318239         350.0           319.0      3.1  \n",
              "58853          369.0           369.0      3.7  \n",
              "109473         550.0           550.0      3.9  "
            ],
            "text/html": [
              "\n",
              "  <div id=\"df-7ca1eed2-1abb-4be6-a9a5-be243d75f4cb\">\n",
              "    <div class=\"colab-df-container\">\n",
              "      <div>\n",
              "<style scoped>\n",
              "    .dataframe tbody tr th:only-of-type {\n",
              "        vertical-align: middle;\n",
              "    }\n",
              "\n",
              "    .dataframe tbody tr th {\n",
              "        vertical-align: top;\n",
              "    }\n",
              "\n",
              "    .dataframe thead th {\n",
              "        text-align: right;\n",
              "    }\n",
              "</style>\n",
              "<table border=\"1\" class=\"dataframe\">\n",
              "  <thead>\n",
              "    <tr style=\"text-align: right;\">\n",
              "      <th></th>\n",
              "      <th>order_id</th>\n",
              "      <th>user_id</th>\n",
              "      <th>eval_set</th>\n",
              "      <th>order_number</th>\n",
              "      <th>order_dow</th>\n",
              "      <th>order_hour_of_day</th>\n",
              "      <th>days_since_prior_order</th>\n",
              "      <th>product_id</th>\n",
              "      <th>add_to_cart_order</th>\n",
              "      <th>reordered</th>\n",
              "      <th>aisle_id</th>\n",
              "      <th>aisle</th>\n",
              "      <th>product_name</th>\n",
              "      <th>department_id</th>\n",
              "      <th>department</th>\n",
              "      <th>actual_price</th>\n",
              "      <th>discount_price</th>\n",
              "      <th>ratings</th>\n",
              "    </tr>\n",
              "  </thead>\n",
              "  <tbody>\n",
              "    <tr>\n",
              "      <th>557392</th>\n",
              "      <td>1412015</td>\n",
              "      <td>26227</td>\n",
              "      <td>train</td>\n",
              "      <td>21</td>\n",
              "      <td>5</td>\n",
              "      <td>8</td>\n",
              "      <td>6.0</td>\n",
              "      <td>5033</td>\n",
              "      <td>12</td>\n",
              "      <td>1</td>\n",
              "      <td>117</td>\n",
              "      <td>nuts seeds dried fruit</td>\n",
              "      <td>California Pitted Prunes</td>\n",
              "      <td>19</td>\n",
              "      <td>snacks</td>\n",
              "      <td>20.0</td>\n",
              "      <td>20.0</td>\n",
              "      <td>4.2</td>\n",
              "    </tr>\n",
              "    <tr>\n",
              "      <th>545024</th>\n",
              "      <td>2650702</td>\n",
              "      <td>137282</td>\n",
              "      <td>train</td>\n",
              "      <td>6</td>\n",
              "      <td>1</td>\n",
              "      <td>23</td>\n",
              "      <td>30.0</td>\n",
              "      <td>16772</td>\n",
              "      <td>9</td>\n",
              "      <td>0</td>\n",
              "      <td>94</td>\n",
              "      <td>tea</td>\n",
              "      <td>Organic Ginger Herbal Tea</td>\n",
              "      <td>7</td>\n",
              "      <td>beverages</td>\n",
              "      <td>35.0</td>\n",
              "      <td>28.0</td>\n",
              "      <td>4.3</td>\n",
              "    </tr>\n",
              "    <tr>\n",
              "      <th>318239</th>\n",
              "      <td>759428</td>\n",
              "      <td>53932</td>\n",
              "      <td>train</td>\n",
              "      <td>36</td>\n",
              "      <td>0</td>\n",
              "      <td>13</td>\n",
              "      <td>4.0</td>\n",
              "      <td>9871</td>\n",
              "      <td>12</td>\n",
              "      <td>0</td>\n",
              "      <td>122</td>\n",
              "      <td>meat counter</td>\n",
              "      <td>Beef Loin New York Strip Steak</td>\n",
              "      <td>12</td>\n",
              "      <td>meat seafood</td>\n",
              "      <td>350.0</td>\n",
              "      <td>319.0</td>\n",
              "      <td>3.1</td>\n",
              "    </tr>\n",
              "    <tr>\n",
              "      <th>58853</th>\n",
              "      <td>927561</td>\n",
              "      <td>3357</td>\n",
              "      <td>train</td>\n",
              "      <td>23</td>\n",
              "      <td>0</td>\n",
              "      <td>19</td>\n",
              "      <td>30.0</td>\n",
              "      <td>4920</td>\n",
              "      <td>6</td>\n",
              "      <td>0</td>\n",
              "      <td>123</td>\n",
              "      <td>packaged vegetables fruits</td>\n",
              "      <td>Seedless Red Grapes</td>\n",
              "      <td>4</td>\n",
              "      <td>produce</td>\n",
              "      <td>369.0</td>\n",
              "      <td>369.0</td>\n",
              "      <td>3.7</td>\n",
              "    </tr>\n",
              "    <tr>\n",
              "      <th>109473</th>\n",
              "      <td>1010945</td>\n",
              "      <td>79275</td>\n",
              "      <td>train</td>\n",
              "      <td>7</td>\n",
              "      <td>5</td>\n",
              "      <td>10</td>\n",
              "      <td>8.0</td>\n",
              "      <td>17758</td>\n",
              "      <td>27</td>\n",
              "      <td>0</td>\n",
              "      <td>120</td>\n",
              "      <td>yogurt</td>\n",
              "      <td>Strawberry Rhubarb Yoghurt</td>\n",
              "      <td>16</td>\n",
              "      <td>dairy eggs</td>\n",
              "      <td>550.0</td>\n",
              "      <td>550.0</td>\n",
              "      <td>3.9</td>\n",
              "    </tr>\n",
              "  </tbody>\n",
              "</table>\n",
              "</div>\n",
              "      <button class=\"colab-df-convert\" onclick=\"convertToInteractive('df-7ca1eed2-1abb-4be6-a9a5-be243d75f4cb')\"\n",
              "              title=\"Convert this dataframe to an interactive table.\"\n",
              "              style=\"display:none;\">\n",
              "        \n",
              "  <svg xmlns=\"http://www.w3.org/2000/svg\" height=\"24px\"viewBox=\"0 0 24 24\"\n",
              "       width=\"24px\">\n",
              "    <path d=\"M0 0h24v24H0V0z\" fill=\"none\"/>\n",
              "    <path d=\"M18.56 5.44l.94 2.06.94-2.06 2.06-.94-2.06-.94-.94-2.06-.94 2.06-2.06.94zm-11 1L8.5 8.5l.94-2.06 2.06-.94-2.06-.94L8.5 2.5l-.94 2.06-2.06.94zm10 10l.94 2.06.94-2.06 2.06-.94-2.06-.94-.94-2.06-.94 2.06-2.06.94z\"/><path d=\"M17.41 7.96l-1.37-1.37c-.4-.4-.92-.59-1.43-.59-.52 0-1.04.2-1.43.59L10.3 9.45l-7.72 7.72c-.78.78-.78 2.05 0 2.83L4 21.41c.39.39.9.59 1.41.59.51 0 1.02-.2 1.41-.59l7.78-7.78 2.81-2.81c.8-.78.8-2.07 0-2.86zM5.41 20L4 18.59l7.72-7.72 1.47 1.35L5.41 20z\"/>\n",
              "  </svg>\n",
              "      </button>\n",
              "      \n",
              "  <style>\n",
              "    .colab-df-container {\n",
              "      display:flex;\n",
              "      flex-wrap:wrap;\n",
              "      gap: 12px;\n",
              "    }\n",
              "\n",
              "    .colab-df-convert {\n",
              "      background-color: #E8F0FE;\n",
              "      border: none;\n",
              "      border-radius: 50%;\n",
              "      cursor: pointer;\n",
              "      display: none;\n",
              "      fill: #1967D2;\n",
              "      height: 32px;\n",
              "      padding: 0 0 0 0;\n",
              "      width: 32px;\n",
              "    }\n",
              "\n",
              "    .colab-df-convert:hover {\n",
              "      background-color: #E2EBFA;\n",
              "      box-shadow: 0px 1px 2px rgba(60, 64, 67, 0.3), 0px 1px 3px 1px rgba(60, 64, 67, 0.15);\n",
              "      fill: #174EA6;\n",
              "    }\n",
              "\n",
              "    [theme=dark] .colab-df-convert {\n",
              "      background-color: #3B4455;\n",
              "      fill: #D2E3FC;\n",
              "    }\n",
              "\n",
              "    [theme=dark] .colab-df-convert:hover {\n",
              "      background-color: #434B5C;\n",
              "      box-shadow: 0px 1px 3px 1px rgba(0, 0, 0, 0.15);\n",
              "      filter: drop-shadow(0px 1px 2px rgba(0, 0, 0, 0.3));\n",
              "      fill: #FFFFFF;\n",
              "    }\n",
              "  </style>\n",
              "\n",
              "      <script>\n",
              "        const buttonEl =\n",
              "          document.querySelector('#df-7ca1eed2-1abb-4be6-a9a5-be243d75f4cb button.colab-df-convert');\n",
              "        buttonEl.style.display =\n",
              "          google.colab.kernel.accessAllowed ? 'block' : 'none';\n",
              "\n",
              "        async function convertToInteractive(key) {\n",
              "          const element = document.querySelector('#df-7ca1eed2-1abb-4be6-a9a5-be243d75f4cb');\n",
              "          const dataTable =\n",
              "            await google.colab.kernel.invokeFunction('convertToInteractive',\n",
              "                                                     [key], {});\n",
              "          if (!dataTable) return;\n",
              "\n",
              "          const docLinkHtml = 'Like what you see? Visit the ' +\n",
              "            '<a target=\"_blank\" href=https://colab.research.google.com/notebooks/data_table.ipynb>data table notebook</a>'\n",
              "            + ' to learn more about interactive tables.';\n",
              "          element.innerHTML = '';\n",
              "          dataTable['output_type'] = 'display_data';\n",
              "          await google.colab.output.renderOutput(dataTable, element);\n",
              "          const docLink = document.createElement('div');\n",
              "          docLink.innerHTML = docLinkHtml;\n",
              "          element.appendChild(docLink);\n",
              "        }\n",
              "      </script>\n",
              "    </div>\n",
              "  </div>\n",
              "  "
            ]
          },
          "metadata": {},
          "execution_count": 104
        }
      ]
    },
    {
      "cell_type": "code",
      "source": [
        "# drop irrelevant columns\n",
        "merged_data.rename(columns = {'product_name':'name', 'department':'category','department_id':'category_id'}, inplace = True)\n",
        "columns = ['user_id','product_id','name','category_id','category','add_to_cart_order','reordered','actual_price','discount_price','ratings']\n",
        "df = merged_data\n",
        "for column in merged_data.columns:\n",
        "  if column not in columns:\n",
        "    df = df.drop(column, axis=1)\n",
        "\n",
        "df.shape"
      ],
      "metadata": {
        "colab": {
          "base_uri": "https://localhost:8080/"
        },
        "id": "Xd6ptOK_sOJc",
        "outputId": "0e427880-7144-48a4-ea19-bd50737d8a12"
      },
      "execution_count": 105,
      "outputs": [
        {
          "output_type": "execute_result",
          "data": {
            "text/plain": [
              "(588306, 10)"
            ]
          },
          "metadata": {},
          "execution_count": 105
        }
      ]
    },
    {
      "cell_type": "code",
      "source": [
        "# download the data to google drive\n",
        "filename = 'final_dataset.csv'\n",
        "\n",
        "df.to_csv('/content/drive/MyDrive/' + filename)"
      ],
      "metadata": {
        "id": "0_padE7LrAdF"
      },
      "execution_count": 108,
      "outputs": []
    },
    {
      "cell_type": "markdown",
      "source": [
        "# Data Training"
      ],
      "metadata": {
        "id": "S5owZO80BRV9"
      }
    },
    {
      "cell_type": "markdown",
      "source": [
        "## import modules"
      ],
      "metadata": {
        "id": "ZTTXQTj0u8o7"
      }
    },
    {
      "cell_type": "code",
      "source": [
        "!pip install tensorflow"
      ],
      "metadata": {
        "colab": {
          "base_uri": "https://localhost:8080/"
        },
        "id": "g7FOUJ3SvAgL",
        "outputId": "24129816-cfaf-42f9-f3f5-124c5af21797"
      },
      "execution_count": 181,
      "outputs": [
        {
          "output_type": "stream",
          "name": "stdout",
          "text": [
            "Looking in indexes: https://pypi.org/simple, https://us-python.pkg.dev/colab-wheels/public/simple/\n",
            "Requirement already satisfied: tensorflow in /usr/local/lib/python3.10/dist-packages (2.12.0)\n",
            "Requirement already satisfied: absl-py>=1.0.0 in /usr/local/lib/python3.10/dist-packages (from tensorflow) (1.4.0)\n",
            "Requirement already satisfied: astunparse>=1.6.0 in /usr/local/lib/python3.10/dist-packages (from tensorflow) (1.6.3)\n",
            "Requirement already satisfied: flatbuffers>=2.0 in /usr/local/lib/python3.10/dist-packages (from tensorflow) (23.3.3)\n",
            "Requirement already satisfied: gast<=0.4.0,>=0.2.1 in /usr/local/lib/python3.10/dist-packages (from tensorflow) (0.4.0)\n",
            "Requirement already satisfied: google-pasta>=0.1.1 in /usr/local/lib/python3.10/dist-packages (from tensorflow) (0.2.0)\n",
            "Requirement already satisfied: grpcio<2.0,>=1.24.3 in /usr/local/lib/python3.10/dist-packages (from tensorflow) (1.54.0)\n",
            "Requirement already satisfied: h5py>=2.9.0 in /usr/local/lib/python3.10/dist-packages (from tensorflow) (3.8.0)\n",
            "Requirement already satisfied: jax>=0.3.15 in /usr/local/lib/python3.10/dist-packages (from tensorflow) (0.4.10)\n",
            "Requirement already satisfied: keras<2.13,>=2.12.0 in /usr/local/lib/python3.10/dist-packages (from tensorflow) (2.12.0)\n",
            "Requirement already satisfied: libclang>=13.0.0 in /usr/local/lib/python3.10/dist-packages (from tensorflow) (16.0.0)\n",
            "Requirement already satisfied: numpy<1.24,>=1.22 in /usr/local/lib/python3.10/dist-packages (from tensorflow) (1.22.4)\n",
            "Requirement already satisfied: opt-einsum>=2.3.2 in /usr/local/lib/python3.10/dist-packages (from tensorflow) (3.3.0)\n",
            "Requirement already satisfied: packaging in /usr/local/lib/python3.10/dist-packages (from tensorflow) (23.1)\n",
            "Requirement already satisfied: protobuf!=4.21.0,!=4.21.1,!=4.21.2,!=4.21.3,!=4.21.4,!=4.21.5,<5.0.0dev,>=3.20.3 in /usr/local/lib/python3.10/dist-packages (from tensorflow) (3.20.3)\n",
            "Requirement already satisfied: setuptools in /usr/local/lib/python3.10/dist-packages (from tensorflow) (67.7.2)\n",
            "Requirement already satisfied: six>=1.12.0 in /usr/local/lib/python3.10/dist-packages (from tensorflow) (1.16.0)\n",
            "Requirement already satisfied: tensorboard<2.13,>=2.12 in /usr/local/lib/python3.10/dist-packages (from tensorflow) (2.12.2)\n",
            "Requirement already satisfied: tensorflow-estimator<2.13,>=2.12.0 in /usr/local/lib/python3.10/dist-packages (from tensorflow) (2.12.0)\n",
            "Requirement already satisfied: termcolor>=1.1.0 in /usr/local/lib/python3.10/dist-packages (from tensorflow) (2.3.0)\n",
            "Requirement already satisfied: typing-extensions>=3.6.6 in /usr/local/lib/python3.10/dist-packages (from tensorflow) (4.5.0)\n",
            "Requirement already satisfied: wrapt<1.15,>=1.11.0 in /usr/local/lib/python3.10/dist-packages (from tensorflow) (1.14.1)\n",
            "Requirement already satisfied: tensorflow-io-gcs-filesystem>=0.23.1 in /usr/local/lib/python3.10/dist-packages (from tensorflow) (0.32.0)\n",
            "Requirement already satisfied: wheel<1.0,>=0.23.0 in /usr/local/lib/python3.10/dist-packages (from astunparse>=1.6.0->tensorflow) (0.40.0)\n",
            "Requirement already satisfied: ml-dtypes>=0.1.0 in /usr/local/lib/python3.10/dist-packages (from jax>=0.3.15->tensorflow) (0.1.0)\n",
            "Requirement already satisfied: scipy>=1.7 in /usr/local/lib/python3.10/dist-packages (from jax>=0.3.15->tensorflow) (1.10.1)\n",
            "Requirement already satisfied: google-auth<3,>=1.6.3 in /usr/local/lib/python3.10/dist-packages (from tensorboard<2.13,>=2.12->tensorflow) (2.17.3)\n",
            "Requirement already satisfied: google-auth-oauthlib<1.1,>=0.5 in /usr/local/lib/python3.10/dist-packages (from tensorboard<2.13,>=2.12->tensorflow) (1.0.0)\n",
            "Requirement already satisfied: markdown>=2.6.8 in /usr/local/lib/python3.10/dist-packages (from tensorboard<2.13,>=2.12->tensorflow) (3.4.3)\n",
            "Requirement already satisfied: requests<3,>=2.21.0 in /usr/local/lib/python3.10/dist-packages (from tensorboard<2.13,>=2.12->tensorflow) (2.27.1)\n",
            "Requirement already satisfied: tensorboard-data-server<0.8.0,>=0.7.0 in /usr/local/lib/python3.10/dist-packages (from tensorboard<2.13,>=2.12->tensorflow) (0.7.0)\n",
            "Requirement already satisfied: tensorboard-plugin-wit>=1.6.0 in /usr/local/lib/python3.10/dist-packages (from tensorboard<2.13,>=2.12->tensorflow) (1.8.1)\n",
            "Requirement already satisfied: werkzeug>=1.0.1 in /usr/local/lib/python3.10/dist-packages (from tensorboard<2.13,>=2.12->tensorflow) (2.3.0)\n",
            "Requirement already satisfied: cachetools<6.0,>=2.0.0 in /usr/local/lib/python3.10/dist-packages (from google-auth<3,>=1.6.3->tensorboard<2.13,>=2.12->tensorflow) (5.3.0)\n",
            "Requirement already satisfied: pyasn1-modules>=0.2.1 in /usr/local/lib/python3.10/dist-packages (from google-auth<3,>=1.6.3->tensorboard<2.13,>=2.12->tensorflow) (0.3.0)\n",
            "Requirement already satisfied: rsa<5,>=3.1.4 in /usr/local/lib/python3.10/dist-packages (from google-auth<3,>=1.6.3->tensorboard<2.13,>=2.12->tensorflow) (4.9)\n",
            "Requirement already satisfied: requests-oauthlib>=0.7.0 in /usr/local/lib/python3.10/dist-packages (from google-auth-oauthlib<1.1,>=0.5->tensorboard<2.13,>=2.12->tensorflow) (1.3.1)\n",
            "Requirement already satisfied: urllib3<1.27,>=1.21.1 in /usr/local/lib/python3.10/dist-packages (from requests<3,>=2.21.0->tensorboard<2.13,>=2.12->tensorflow) (1.26.15)\n",
            "Requirement already satisfied: certifi>=2017.4.17 in /usr/local/lib/python3.10/dist-packages (from requests<3,>=2.21.0->tensorboard<2.13,>=2.12->tensorflow) (2022.12.7)\n",
            "Requirement already satisfied: charset-normalizer~=2.0.0 in /usr/local/lib/python3.10/dist-packages (from requests<3,>=2.21.0->tensorboard<2.13,>=2.12->tensorflow) (2.0.12)\n",
            "Requirement already satisfied: idna<4,>=2.5 in /usr/local/lib/python3.10/dist-packages (from requests<3,>=2.21.0->tensorboard<2.13,>=2.12->tensorflow) (3.4)\n",
            "Requirement already satisfied: MarkupSafe>=2.1.1 in /usr/local/lib/python3.10/dist-packages (from werkzeug>=1.0.1->tensorboard<2.13,>=2.12->tensorflow) (2.1.2)\n",
            "Requirement already satisfied: pyasn1<0.6.0,>=0.4.6 in /usr/local/lib/python3.10/dist-packages (from pyasn1-modules>=0.2.1->google-auth<3,>=1.6.3->tensorboard<2.13,>=2.12->tensorflow) (0.5.0)\n",
            "Requirement already satisfied: oauthlib>=3.0.0 in /usr/local/lib/python3.10/dist-packages (from requests-oauthlib>=0.7.0->google-auth-oauthlib<1.1,>=0.5->tensorboard<2.13,>=2.12->tensorflow) (3.2.2)\n"
          ]
        }
      ]
    },
    {
      "cell_type": "code",
      "source": [
        "!pip install scikit-multiflow"
      ],
      "metadata": {
        "colab": {
          "base_uri": "https://localhost:8080/"
        },
        "id": "wqZ3xvqmhpr1",
        "outputId": "8051d518-1151-406a-d79a-1aab7dbf2e14"
      },
      "execution_count": 182,
      "outputs": [
        {
          "output_type": "stream",
          "name": "stdout",
          "text": [
            "Looking in indexes: https://pypi.org/simple, https://us-python.pkg.dev/colab-wheels/public/simple/\n",
            "Requirement already satisfied: scikit-multiflow in /usr/local/lib/python3.10/dist-packages (0.5.3)\n",
            "Requirement already satisfied: sortedcontainers>=1.5.7 in /usr/local/lib/python3.10/dist-packages (from scikit-multiflow) (2.4.0)\n",
            "Requirement already satisfied: numpy>=1.14.0 in /usr/local/lib/python3.10/dist-packages (from scikit-multiflow) (1.22.4)\n",
            "Requirement already satisfied: scipy>=1.0.0 in /usr/local/lib/python3.10/dist-packages (from scikit-multiflow) (1.10.1)\n",
            "Requirement already satisfied: matplotlib>=2.0.0 in /usr/local/lib/python3.10/dist-packages (from scikit-multiflow) (3.7.1)\n",
            "Requirement already satisfied: scikit-learn>=0.20 in /usr/local/lib/python3.10/dist-packages (from scikit-multiflow) (1.2.2)\n",
            "Requirement already satisfied: pandas>=0.25.3 in /usr/local/lib/python3.10/dist-packages (from scikit-multiflow) (1.5.3)\n",
            "Requirement already satisfied: contourpy>=1.0.1 in /usr/local/lib/python3.10/dist-packages (from matplotlib>=2.0.0->scikit-multiflow) (1.0.7)\n",
            "Requirement already satisfied: cycler>=0.10 in /usr/local/lib/python3.10/dist-packages (from matplotlib>=2.0.0->scikit-multiflow) (0.11.0)\n",
            "Requirement already satisfied: fonttools>=4.22.0 in /usr/local/lib/python3.10/dist-packages (from matplotlib>=2.0.0->scikit-multiflow) (4.39.3)\n",
            "Requirement already satisfied: kiwisolver>=1.0.1 in /usr/local/lib/python3.10/dist-packages (from matplotlib>=2.0.0->scikit-multiflow) (1.4.4)\n",
            "Requirement already satisfied: packaging>=20.0 in /usr/local/lib/python3.10/dist-packages (from matplotlib>=2.0.0->scikit-multiflow) (23.1)\n",
            "Requirement already satisfied: pillow>=6.2.0 in /usr/local/lib/python3.10/dist-packages (from matplotlib>=2.0.0->scikit-multiflow) (8.4.0)\n",
            "Requirement already satisfied: pyparsing>=2.3.1 in /usr/local/lib/python3.10/dist-packages (from matplotlib>=2.0.0->scikit-multiflow) (3.0.9)\n",
            "Requirement already satisfied: python-dateutil>=2.7 in /usr/local/lib/python3.10/dist-packages (from matplotlib>=2.0.0->scikit-multiflow) (2.8.2)\n",
            "Requirement already satisfied: pytz>=2020.1 in /usr/local/lib/python3.10/dist-packages (from pandas>=0.25.3->scikit-multiflow) (2022.7.1)\n",
            "Requirement already satisfied: joblib>=1.1.1 in /usr/local/lib/python3.10/dist-packages (from scikit-learn>=0.20->scikit-multiflow) (1.2.0)\n",
            "Requirement already satisfied: threadpoolctl>=2.0.0 in /usr/local/lib/python3.10/dist-packages (from scikit-learn>=0.20->scikit-multiflow) (3.1.0)\n",
            "Requirement already satisfied: six>=1.5 in /usr/local/lib/python3.10/dist-packages (from python-dateutil>=2.7->matplotlib>=2.0.0->scikit-multiflow) (1.16.0)\n"
          ]
        }
      ]
    },
    {
      "cell_type": "code",
      "source": [
        "!pip install apyori"
      ],
      "metadata": {
        "colab": {
          "base_uri": "https://localhost:8080/"
        },
        "id": "KOQC1xWanMno",
        "outputId": "8e9fbe5a-2ac3-44e6-c6e4-a94cf6fcd5b0"
      },
      "execution_count": 183,
      "outputs": [
        {
          "output_type": "stream",
          "name": "stdout",
          "text": [
            "Looking in indexes: https://pypi.org/simple, https://us-python.pkg.dev/colab-wheels/public/simple/\n",
            "Requirement already satisfied: apyori in /usr/local/lib/python3.10/dist-packages (1.1.2)\n"
          ]
        }
      ]
    },
    {
      "cell_type": "code",
      "source": [
        "!pip install scipy"
      ],
      "metadata": {
        "colab": {
          "base_uri": "https://localhost:8080/"
        },
        "id": "X_FJhW1htf1_",
        "outputId": "3f247cc7-2603-4359-ac38-8c9b26f85299"
      },
      "execution_count": 184,
      "outputs": [
        {
          "output_type": "stream",
          "name": "stdout",
          "text": [
            "Looking in indexes: https://pypi.org/simple, https://us-python.pkg.dev/colab-wheels/public/simple/\n",
            "Requirement already satisfied: scipy in /usr/local/lib/python3.10/dist-packages (1.10.1)\n",
            "Requirement already satisfied: numpy<1.27.0,>=1.19.5 in /usr/local/lib/python3.10/dist-packages (from scipy) (1.22.4)\n"
          ]
        }
      ]
    },
    {
      "cell_type": "code",
      "source": [
        "!pip install pyspark"
      ],
      "metadata": {
        "colab": {
          "base_uri": "https://localhost:8080/"
        },
        "id": "dVVzQ00EtoMR",
        "outputId": "337dca4d-041f-433a-b71c-08dbd9f26947"
      },
      "execution_count": 185,
      "outputs": [
        {
          "output_type": "stream",
          "name": "stdout",
          "text": [
            "Looking in indexes: https://pypi.org/simple, https://us-python.pkg.dev/colab-wheels/public/simple/\n",
            "Requirement already satisfied: pyspark in /usr/local/lib/python3.10/dist-packages (3.4.0)\n",
            "Requirement already satisfied: py4j==0.10.9.7 in /usr/local/lib/python3.10/dist-packages (from pyspark) (0.10.9.7)\n"
          ]
        }
      ]
    },
    {
      "cell_type": "code",
      "source": [
        "!pip install pyfpgrowth"
      ],
      "metadata": {
        "colab": {
          "base_uri": "https://localhost:8080/"
        },
        "id": "cm6nH1tHh93S",
        "outputId": "1fd41308-386c-46b2-c683-9b656af5a1e7"
      },
      "execution_count": 186,
      "outputs": [
        {
          "output_type": "stream",
          "name": "stdout",
          "text": [
            "Looking in indexes: https://pypi.org/simple, https://us-python.pkg.dev/colab-wheels/public/simple/\n",
            "Requirement already satisfied: pyfpgrowth in /usr/local/lib/python3.10/dist-packages (1.0)\n"
          ]
        }
      ]
    },
    {
      "cell_type": "code",
      "source": [
        "from tensorflow.keras.models import Model\n",
        "from tensorflow.keras.layers import Input, Embedding, Flatten, Dense, Concatenate\n",
        "from tensorflow.keras.optimizers import Adam\n",
        "from tensorflow.keras.losses import MeanSquaredError\n",
        "from sklearn.preprocessing import LabelEncoder, MinMaxScaler"
      ],
      "metadata": {
        "id": "IfOSo83ru75t"
      },
      "execution_count": 187,
      "outputs": []
    },
    {
      "cell_type": "code",
      "source": [
        "from sklearn.preprocessing import LabelEncoder, MinMaxScaler\n",
        "from sklearn.model_selection import train_test_split\n",
        "from tensorflow.keras.models import Sequential\n",
        "from tensorflow.keras.layers import Input, Embedding, Flatten, Dense\n",
        "from tensorflow.keras.models import Model\n",
        "from mlxtend.frequent_patterns import apriori, association_rules\n",
        "from sklearn.metrics.pairwise import cosine_similarity\n",
        "from sklearn.utils import shuffle\n",
        "from random import choices\n",
        "from apyori import apriori\n",
        "from scipy.sparse import csr_matrix\n",
        "from sklearn.decomposition import TruncatedSVD\n",
        "from pyspark.sql import SparkSession\n",
        "from pyspark.sql.functions import sum as spark_sum\n",
        "from scipy.sparse import csr_matrix\n",
        "from pyspark.sql.types import IntegerType\n",
        "import pyfpgrowth"
      ],
      "metadata": {
        "id": "NXzlZ6pJem8y"
      },
      "execution_count": 188,
      "outputs": []
    },
    {
      "cell_type": "markdown",
      "source": [
        "## Load Data"
      ],
      "metadata": {
        "id": "Y58kRRURvGo_"
      }
    },
    {
      "cell_type": "code",
      "source": [
        "# Load the dataset\n",
        "df = pd.read_csv('/content/drive/MyDrive/final_dataset.csv')\n",
        "\n",
        "df = df.drop([\"Unnamed: 0\"],axis=1)"
      ],
      "metadata": {
        "id": "E-iC_Nnf8Jp2"
      },
      "execution_count": 216,
      "outputs": []
    },
    {
      "cell_type": "markdown",
      "source": [
        "## Collaborative filtering"
      ],
      "metadata": {
        "id": "zBW2U5VOfU9r"
      }
    },
    {
      "cell_type": "code",
      "source": [
        "# Step 3: Collaborative Filtering (using PySpark) (same as before)\n",
        "\n",
        "from pyspark.sql import SparkSession\n",
        "from pyspark.ml.recommendation import ALS\n",
        "\n",
        "# Create a SparkSession\n",
        "spark = SparkSession.builder.getOrCreate()\n",
        "\n",
        "# Create a DataFrame from the preprocessed dataset\n",
        "spark_df = spark.createDataFrame(df)\n",
        "\n"
      ],
      "metadata": {
        "id": "QftMdiwTAEnJ"
      },
      "execution_count": 217,
      "outputs": []
    },
    {
      "cell_type": "code",
      "source": [
        "# Build a user-item matrix\n",
        "user_item_matrix = spark_df.groupby(\"user_id\", \"product_id\").count()\n",
        "\n",
        "# Split the data into training and testing sets\n",
        "(training, testing) = user_item_matrix.randomSplit([0.8, 0.2])\n",
        "\n",
        "# Train a collaborative filtering model using ALS algorithm\n",
        "als = ALS(maxIter=5, regParam=0.01, userCol=\"user_id\", itemCol=\"product_id\", ratingCol=\"count\",\n",
        "          coldStartStrategy=\"drop\")\n",
        "clfmodel = als.fit(training)\n",
        "\n",
        "# Make personalized recommendations for each user\n",
        "userRecs = clfmodel.recommendForAllUsers(10)  # Get top 10 recommendations for each user\n"
      ],
      "metadata": {
        "id": "RQL8v65YkRUo"
      },
      "execution_count": 218,
      "outputs": []
    },
    {
      "cell_type": "code",
      "source": [
        "# Specify the user ID for which you want recommendations\n",
        "user_id = 123\n",
        "\n",
        "# Get recommendations for the specified user\n",
        "user_recommendations = userRecs.filter(userRecs.user_id == user_id).select(\"recommendations\").collect()[0][0]\n",
        "\n",
        "# Print the recommended items\n",
        "for recommendation in user_recommendations:\n",
        "    item_id = recommendation[\"product_id\"]\n",
        "    predicted_rating = recommendation[\"rating\"]\n",
        "    print(f\"Item ID: {item_id}, Predicted Rating: {predicted_rating}\")\n"
      ],
      "metadata": {
        "colab": {
          "base_uri": "https://localhost:8080/"
        },
        "id": "doirBaaK5xNG",
        "outputId": "67d1f01b-ca23-4ca2-a943-d7d1729b6ea8"
      },
      "execution_count": 219,
      "outputs": [
        {
          "output_type": "stream",
          "name": "stdout",
          "text": [
            "Item ID: 17899, Predicted Rating: 2.6988158226013184\n",
            "Item ID: 3676, Predicted Rating: 2.5954277515411377\n",
            "Item ID: 3019, Predicted Rating: 2.4990234375\n",
            "Item ID: 15913, Predicted Rating: 2.4307892322540283\n",
            "Item ID: 21557, Predicted Rating: 2.430558204650879\n",
            "Item ID: 11915, Predicted Rating: 2.4269862174987793\n",
            "Item ID: 4673, Predicted Rating: 2.4099762439727783\n",
            "Item ID: 15348, Predicted Rating: 2.403989553451538\n",
            "Item ID: 6613, Predicted Rating: 2.3387670516967773\n",
            "Item ID: 14162, Predicted Rating: 2.3213584423065186\n"
          ]
        }
      ]
    },
    {
      "cell_type": "markdown",
      "source": [
        "## Content based filtering"
      ],
      "metadata": {
        "id": "Nf5vdYXvfeK4"
      }
    },
    {
      "cell_type": "code",
      "source": [
        "\n",
        "\n",
        "# Split the data into training and testing sets (if not already done)\n",
        "# Preprocessed features and target variable\n",
        "from sklearn.preprocessing import OneHotEncoder\n",
        "import tensorflow as tf\n",
        "\n",
        "# Scale numerical features\n",
        "scaler = MinMaxScaler()\n",
        "df[[\"scaled_actual_price\", \"scaled_discount_price\", \"scaled_ratings\", \"scaled_add_to_cart_order\"]] = scaler.fit_transform(df[[\"actual_price\", \"discount_price\", \"ratings\", \"add_to_cart_order\"]])\n",
        "\n",
        "# Split the dataset into train and test sets\n",
        "train, test = train_test_split(df, test_size=0.2, random_state=42)\n",
        "\n",
        "features = [\"category_id\", \"scaled_discount_price\", \"reordered\", \"scaled_add_to_cart_order\"]\n",
        "x = train[features]\n",
        "target = train[\"scaled_ratings\"]"
      ],
      "metadata": {
        "id": "YUgsMcYKAhIg"
      },
      "execution_count": 254,
      "outputs": []
    },
    {
      "cell_type": "markdown",
      "source": [
        "### Neural network"
      ],
      "metadata": {
        "id": "oEdFoTo9fphK"
      }
    },
    {
      "cell_type": "code",
      "source": [
        "\n",
        "# Define input layers\n",
        "#user_input = Input(shape=(1,))\n",
        "category_input = Input(shape=(1,))\n",
        "other_features_input = Input(shape=(3,))\n",
        "\n",
        "# Embedding layers for user ID and category ID\n",
        "#user_embedding = Embedding(input_dim=122010, output_dim=32)(user_input)\n",
        "category_embedding = Embedding(input_dim=21, output_dim=32)(category_input)\n",
        "\n",
        "# Flatten the embeddings\n",
        "#user_flatten = Flatten()(user_embedding)\n",
        "category_flatten = Flatten()(category_embedding)\n",
        "\n",
        "# Concatenate the embeddings and other features\n",
        "concatenated = Concatenate()([category_flatten, other_features_input])\n",
        "\n",
        "# Dense layers\n",
        "x = Dense(64, activation='relu')(concatenated)\n",
        "x = Dense(64, activation='relu')(x)\n",
        "x = Dense(64, activation='relu')(x)\n",
        "\n",
        "# Output layer\n",
        "output = Dense(1, activation='linear')(x)\n",
        "\n",
        "# Create the model\n",
        "cbfmodel = Model(inputs=[category_input, other_features_input], outputs=output)\n",
        "\n",
        "# Compile and train the model\n",
        "cbfmodel.compile(optimizer='adam', loss='mean_squared_error',metrics=[\"accuracy\"])\n",
        "cbfmodel.fit([train['category_id'], train[[\"scaled_discount_price\", \"reordered\", \"scaled_add_to_cart_order\"]]], target, epochs=10,batch_size=32)\n",
        "\n"
      ],
      "metadata": {
        "colab": {
          "base_uri": "https://localhost:8080/"
        },
        "id": "QTcfPq4XFR0-",
        "outputId": "eac60c1c-4133-4e26-fab7-0905c3dc5936"
      },
      "execution_count": 255,
      "outputs": [
        {
          "output_type": "stream",
          "name": "stdout",
          "text": [
            "Epoch 1/10\n",
            "14708/14708 [==============================] - 58s 4ms/step - loss: 0.0288 - accuracy: 0.0576\n",
            "Epoch 2/10\n",
            "14708/14708 [==============================] - 54s 4ms/step - loss: 0.0275 - accuracy: 0.0580\n",
            "Epoch 3/10\n",
            "14708/14708 [==============================] - 53s 4ms/step - loss: 0.0272 - accuracy: 0.0581\n",
            "Epoch 4/10\n",
            "14708/14708 [==============================] - 52s 4ms/step - loss: 0.0266 - accuracy: 0.0581\n",
            "Epoch 5/10\n",
            "14708/14708 [==============================] - 53s 4ms/step - loss: 0.0260 - accuracy: 0.0582\n",
            "Epoch 6/10\n",
            "14708/14708 [==============================] - 53s 4ms/step - loss: 0.0256 - accuracy: 0.0583\n",
            "Epoch 7/10\n",
            "14708/14708 [==============================] - 53s 4ms/step - loss: 0.0254 - accuracy: 0.0583\n",
            "Epoch 8/10\n",
            "14708/14708 [==============================] - 53s 4ms/step - loss: 0.0252 - accuracy: 0.0583\n",
            "Epoch 9/10\n",
            "14708/14708 [==============================] - 53s 4ms/step - loss: 0.0251 - accuracy: 0.0584\n",
            "Epoch 10/10\n",
            "14708/14708 [==============================] - 53s 4ms/step - loss: 0.0251 - accuracy: 0.0584\n"
          ]
        },
        {
          "output_type": "execute_result",
          "data": {
            "text/plain": [
              "<keras.callbacks.History at 0x7f801e0e4910>"
            ]
          },
          "metadata": {},
          "execution_count": 255
        }
      ]
    },
    {
      "cell_type": "code",
      "source": [
        "# Specify the user ID for which you want to make recommendations\n",
        "target_user_id = 123\n",
        "# Predict the ratings for all products in the dataset\n",
        "all_products_data = df[df['user_id'] != target_user_id]\n",
        "X_all = [all_products_data['category_id'], all_products_data[[\"scaled_discount_price\", \"reordered\", \"scaled_add_to_cart_order\"]]]\n",
        "predicted_ratings = cbfmodel.predict(X_all).flatten()\n",
        "\n",
        "\n",
        "# Create a list of tuples containing product ID and predicted rating\n",
        "product_ratings = list(zip(all_products_data['product_id'], predicted_ratings))\n",
        "\n",
        "# Sort the product ratings by predicted rating in descending order\n",
        "product_ratings.sort(key=lambda x: x[1], reverse=True)\n",
        "\n",
        "# Get the top 10 recommendations without duplicate product IDs\n",
        "recommended_products = []\n",
        "recommended_product_ids = set()\n",
        "\n",
        "for product_id, _ in product_ratings:\n",
        "    if product_id not in recommended_product_ids:\n",
        "        recommended_products.append((product_id, _))\n",
        "        recommended_product_ids.add(product_id)\n",
        "    if len(recommended_products) >= 10:\n",
        "        break\n",
        "\n",
        "# Filter the original dataset based on the recommended product IDs\n",
        "top_10_recommendations = all_products_data[\n",
        "    all_products_data['product_id'].isin([p[0] for p in recommended_products])\n",
        "]\n",
        "\n",
        "# Remove duplicate product IDs from the recommendations\n",
        "top_10_recommendations = top_10_recommendations.drop_duplicates(subset='product_id')\n",
        "\n",
        "# Keep the top 10 recommendations (if there are more than 10 after removing duplicates)\n",
        "top_10_recommendations = top_10_recommendations.head(10)\n",
        "# Print the top 10 product recommendations\n",
        "print(top_10_recommendations[['product_id', 'name','discount_price','category']])"
      ],
      "metadata": {
        "colab": {
          "base_uri": "https://localhost:8080/"
        },
        "id": "nNu8zgthH4yj",
        "outputId": "2e019122-51e8-4469-a7c7-9d85966183db"
      },
      "execution_count": 261,
      "outputs": [
        {
          "output_type": "stream",
          "name": "stdout",
          "text": [
            "18385/18385 [==============================] - 28s 2ms/step\n",
            "        product_id                                           name  \\\n",
            "158           2078                     Unsalted Pure Irish Butter   \n",
            "358           4317             Solid White Albacore Tuna In Water   \n",
            "547          17794                                        Carrots   \n",
            "4111          5744                         Unsalted Chicken Stock   \n",
            "15895        10807                             Wild Arugula Salad   \n",
            "55688        18238                  Condensed Cream Of Onion Soup   \n",
            "85256        10744  Chicken Noodle R&W Condensed Soup Family Size   \n",
            "87157         5866            Bianco Organic Whole Peeled Tomatos   \n",
            "94477        20498                     Reduced Sodium Pinto Beans   \n",
            "350955        4427                            Figs, Black Mission   \n",
            "\n",
            "        discount_price      category  \n",
            "158             4199.0    dairy eggs  \n",
            "358             2350.0  canned goods  \n",
            "547              450.0       produce  \n",
            "4111            2450.0  canned goods  \n",
            "15895            450.0       produce  \n",
            "55688           2331.0  canned goods  \n",
            "85256           2399.0  canned goods  \n",
            "87157           2475.0  canned goods  \n",
            "94477           2295.0  canned goods  \n",
            "350955          4400.0        snacks  \n"
          ]
        }
      ]
    },
    {
      "cell_type": "code",
      "source": [
        "\n",
        "X_test = [test['category_id'], test[[\"discount_price\", \"reordered\", \"add_to_cart_order\"]]]\n",
        "predictions = cbfmodel.predict(X_test)\n",
        "\n",
        "\n",
        "#help me combine these\n"
      ],
      "metadata": {
        "id": "91BOfglhAtpB",
        "colab": {
          "base_uri": "https://localhost:8080/"
        },
        "outputId": "7e6cfc6a-523f-4b32-de2c-d768d8b6d873"
      },
      "execution_count": 210,
      "outputs": [
        {
          "output_type": "stream",
          "name": "stdout",
          "text": [
            "3677/3677 [==============================] - 6s 2ms/step\n"
          ]
        }
      ]
    },
    {
      "cell_type": "code",
      "source": [
        "from sklearn.metrics import mean_squared_error, mean_absolute_error\n",
        "# Assuming you have already trained and obtained predictions from your model\n",
        "y_true = test['ratings']  # True labels\n",
        "y_pred = predictions  # Predicted labels\n",
        "\n",
        "mse = mean_squared_error(y_true, y_pred)\n",
        "\n",
        "# Calculate mean absolute error (MAE)\n",
        "mae = mean_absolute_error(y_true, y_pred)\n",
        "\n",
        "# Print the evaluation metrics\n",
        "print(\"Mean Squared Error (MSE):\", mse)\n",
        "print(\"Mean Absolute Error (MAE):\", mae)"
      ],
      "metadata": {
        "colab": {
          "base_uri": "https://localhost:8080/"
        },
        "id": "WDc9Jy0GdHJh",
        "outputId": "13293589-a266-4c13-e2eb-580fefeea222"
      },
      "execution_count": 213,
      "outputs": [
        {
          "output_type": "stream",
          "name": "stdout",
          "text": [
            "Mean Squared Error (MSE): 0.025210227727274458\n",
            "Mean Absolute Error (MAE): 0.10411158802455368\n"
          ]
        }
      ]
    },
    {
      "cell_type": "markdown",
      "source": [
        "## Combine Model"
      ],
      "metadata": {
        "id": "1nq0YVrFgVlC"
      }
    },
    {
      "cell_type": "code",
      "source": [
        "# Collaborative Filtering Model\n",
        "#def collaborative_filtering_recommend(user_id):\n",
        "    # Collaborative filtering logic here\n",
        "    # Returns a list of recommended grocery products\n",
        "clfrecs = pd.DataFrame(user_recommendations)\n",
        "clfrecs.columns =['product_id','pred_ratings']\n",
        "#clfrecs = clfrecs.drop(['pred_ratings'], axis=1)\n",
        "clfinfo = pd.merge(clfrecs,df,on='product_id') \n",
        "clfinfo = clfinfo.drop_duplicates(subset='product_id', keep='first')\n",
        "clfinfo = clfinfo.drop(['user_id','add_to_cart_order','reordered',\n",
        "                        'category_id','actual_price','ratings','scaled_actual_price'\n",
        "                        ,'scaled_discount_price','scaled_ratings','scaled_add_to_cart_order'],axis=1)\n",
        "\n",
        "# Identify the index of the column to move\n",
        "column_index = clfinfo.columns.get_loc('pred_ratings')\n",
        "\n",
        "# Create a list of column names in the desired order\n",
        "new_columns = list(clfinfo.columns[:column_index]) + list(clfinfo.columns[column_index+1:]) + ['pred_ratings']\n",
        "\n",
        "# Reorder the columns in the DataFrame\n",
        "clfinfo = clfinfo[new_columns]"
      ],
      "metadata": {
        "id": "WT8yHVm5ckW6"
      },
      "execution_count": 290,
      "outputs": []
    },
    {
      "cell_type": "code",
      "source": [
        "# Content-Based Filtering Model\n",
        "#def content_based_filtering_recommend(user_id):\n",
        "    # Content-based filtering logic here\n",
        "    # Returns a list of recommended grocery products\n",
        "\n",
        "pred_rating = pd.DataFrame(product_ratings)\n",
        "pred_rating.columns =['product_id','pred_ratings']\n",
        "\n",
        "cbfrecs = top_10_recommendations[['product_id','name','category','discount_price']] \n",
        "cbfinfo = pd.merge(cbfrecs,pred_rating,on='product_id')\n",
        "cbfinfo = cbfinfo.drop_duplicates(subset='product_id', keep='first')\n",
        "cbfinfo['pred_ratings'] = cbfinfo['pred_ratings'] * (5.0 - 1.0) + 1.0\n",
        "cbfinfo['pred_ratings'] = cbfinfo['pred_ratings'].clip(lower=0.0, upper=5.0)"
      ],
      "metadata": {
        "id": "sD6OljcCcmAG"
      },
      "execution_count": 304,
      "outputs": []
    },
    {
      "cell_type": "code",
      "source": [
        "# Hybrid Recommender System\n",
        "def hybrid_recommend(user_id, budget,clf_recs,cbf_recs):\n",
        "    collaborative_recommendations = clf_recs\n",
        "    content_based_recommendations = cbf_recs\n",
        "\n",
        "    # Merge the recommendations from both models\n",
        "    all_recs = pd.concat([collaborative_recommendations, content_based_recommendations], axis=0)\n",
        "\n",
        "    # Calculate the average rating for collaborative recommendations\n",
        "    collaborative_ratings = clf_recs['pred_ratings']\n",
        "    collaborative_avg_rating = np.mean(collaborative_ratings)\n",
        "\n",
        "    # Calculate the average rating for content-based recommendations\n",
        "    content_based_ratings = clf_recs['pred_ratings']\n",
        "    content_based_avg_rating = np.mean(content_based_ratings)\n",
        "\n",
        "    # Calculate the final recommendations based on weighted average ratings\n",
        "\n",
        "    all_recs['weighted_avg'] = (collaborative_ratings * collaborative_avg_rating + content_based_ratings* content_based_avg_rating) / 2\n",
        "\n",
        "    hybrid_recommendations = all_recs[['product_id','weighted_avg','discount_price']].values.tolist()\n",
        "\n",
        "    # Sort the recommendations by rating in descending order\n",
        "    hybrid_recommendations.sort(key=lambda x: x[1], reverse=True)\n",
        "\n",
        "    # Filter the recommendations based on the user's budget\n",
        "    filtered_recommendations = []\n",
        "    total_cost = 0\n",
        "    for product, rating,price in hybrid_recommendations:\n",
        "        product_cost = price\n",
        "        if total_cost + product_cost <= budget:\n",
        "            filtered_recommendations.append(product)\n",
        "            total_cost += product_cost\n",
        "        if len(filtered_recommendations) >= 10:\n",
        "            break\n",
        "\n",
        "    return filtered_recommendations\n",
        "\n",
        "# Example usage\n",
        "user_id = 123\n",
        "budget = 10000\n",
        "recommendations = hybrid_recommend(user_id, budget,clfinfo,cbfinfo)\n",
        "print(recommendations)"
      ],
      "metadata": {
        "colab": {
          "base_uri": "https://localhost:8080/"
        },
        "id": "JFIvcSL3eCCf",
        "outputId": "efc2a18d-109e-4661-cb35-5387079d0b45"
      },
      "execution_count": 363,
      "outputs": [
        {
          "output_type": "stream",
          "name": "stdout",
          "text": [
            "[17899.0, 2078.0, 3676.0, 4317.0, 3019.0, 17794.0, 15913.0, 21557.0, 10807.0, 11915.0]\n"
          ]
        }
      ]
    }
  ]
}