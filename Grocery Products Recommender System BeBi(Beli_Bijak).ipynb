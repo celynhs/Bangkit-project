{
  "cells": [
    {
      "cell_type": "markdown",
      "metadata": {
        "id": "view-in-github",
        "colab_type": "text"
      },
      "source": [
        "<a href=\"https://colab.research.google.com/github/celynhs/Bangkit-project/blob/main/Grocery%20Products%20Recommender%20System%20BeBi(Beli_Bijak).ipynb\" target=\"_parent\"><img src=\"https://colab.research.google.com/assets/colab-badge.svg\" alt=\"Open In Colab\"/></a>"
      ]
    },
    {
      "cell_type": "markdown",
      "source": [
        "## **Grocery Product Recommender System**\n"
      ],
      "metadata": {
        "id": "tHnK0JQ2tdJR"
      }
    },
    {
      "cell_type": "markdown",
      "metadata": {
        "id": "IGFjjYoFrU0q"
      },
      "source": [
        "# Upload Datasets"
      ]
    },
    {
      "cell_type": "code",
      "execution_count": null,
      "metadata": {
        "colab": {
          "base_uri": "https://localhost:8080/"
        },
        "id": "1dOvnVG54i_n",
        "outputId": "e48a09cb-d1fd-47ab-ebf6-7bfd1b52c203"
      },
      "outputs": [
        {
          "output_type": "stream",
          "name": "stdout",
          "text": [
            "Mounted at /content/drive\n"
          ]
        }
      ],
      "source": [
        "from google.colab import drive\n",
        "drive.mount('/content/drive')"
      ]
    },
    {
      "cell_type": "markdown",
      "metadata": {
        "id": "mifpNcbDreEj"
      },
      "source": [
        "import modules"
      ]
    },
    {
      "cell_type": "code",
      "execution_count": null,
      "metadata": {
        "id": "IijeeW5q5-gb"
      },
      "outputs": [],
      "source": [
        "import math\n",
        "import scipy\n",
        "import numpy as np\n",
        "import pandas as pd\n",
        "import seaborn as sns"
      ]
    },
    {
      "cell_type": "markdown",
      "metadata": {
        "id": "JnU9sXRzrgie"
      },
      "source": [
        "read dataset and convert them to dataframe using pandas"
      ]
    },
    {
      "cell_type": "code",
      "execution_count": null,
      "metadata": {
        "id": "3pBIwt7R7IIo"
      },
      "outputs": [],
      "source": [
        "# Read product info dataset\n",
        "df7 = pd.read_csv('/content/drive/MyDrive/New folder/BigBasket Products.csv')"
      ]
    },
    {
      "cell_type": "code",
      "source": [
        "# Read transaction dataset \n",
        "df1 = pd.read_csv('/content/drive/MyDrive/New folder/products.csv')\n",
        "df2 = pd.read_csv('/content/drive/MyDrive/New folder/aisles.csv')\n",
        "df8= pd.read_csv('/content/drive/MyDrive/New folder/departments.csv')\n",
        "df9 = pd.read_csv('/content/drive/MyDrive/New folder/order_products__train.csv')\n",
        "df10 = pd.read_csv('/content/drive/MyDrive/New folder/orders.csv')"
      ],
      "metadata": {
        "id": "xFJiT3sPYWeg"
      },
      "execution_count": null,
      "outputs": []
    },
    {
      "cell_type": "markdown",
      "metadata": {
        "id": "Z-oVTn3WsNQW"
      },
      "source": [
        "# Data Exploratory"
      ]
    },
    {
      "cell_type": "markdown",
      "metadata": {
        "id": "oqllnwyps3um"
      },
      "source": [
        "## Get the shapes of all the dataframes"
      ]
    },
    {
      "cell_type": "code",
      "source": [
        "# get shapes of transaction data\n",
        "print(df1.shape) # data of products\n",
        "print(df2.shape) # data of aisle\n",
        "print(df8.shape) # data of departments\n",
        "print(df9.shape) # data of orders and products\n",
        "print(df10.shape) # data of customer orders"
      ],
      "metadata": {
        "id": "YT25qr09YiD1"
      },
      "execution_count": null,
      "outputs": []
    },
    {
      "cell_type": "code",
      "execution_count": null,
      "metadata": {
        "id": "jkmqCBu8s8L4"
      },
      "outputs": [],
      "source": [
        "# get shapes of product details \n",
        "print(df7.shape)"
      ]
    },
    {
      "cell_type": "markdown",
      "metadata": {
        "id": "xLRZFwbMuKoZ"
      },
      "source": [
        "## Display the datasets"
      ]
    },
    {
      "cell_type": "code",
      "execution_count": null,
      "metadata": {
        "id": "VRy_FAwC8RvX"
      },
      "outputs": [],
      "source": [
        "dataset_bigmarket = df7.copy()\n",
        "dataset_bigmarket"
      ]
    },
    {
      "cell_type": "markdown",
      "metadata": {
        "id": "TcYJNyUwu72S"
      },
      "source": [
        "## count the null value from each column of each dataset"
      ]
    },
    {
      "cell_type": "code",
      "execution_count": null,
      "metadata": {
        "id": "Md3hqhaR-Wgr"
      },
      "outputs": [],
      "source": [
        "null_value = dict()\n",
        "for column in dataset_bigmarket:\n",
        "  null_value[column] = dataset_bigmarket[column].isna().sum()\n",
        "print(f\"null value of bigmarket dataset: {null_value}\\n\")"
      ]
    },
    {
      "cell_type": "markdown",
      "metadata": {
        "id": "jOORpgt6w1r9"
      },
      "source": [
        "## get the amount of each unique value in the ratings column"
      ]
    },
    {
      "cell_type": "code",
      "execution_count": null,
      "metadata": {
        "id": "R9CFCB68xDaT"
      },
      "outputs": [],
      "source": [
        "dataset_bigmarket.rename(columns = {'rating':'ratings', 'sale_price':'discount_price', 'actual_price':'market_price'}, inplace = True)\n",
        "vals = dict(dataset_bigmarket[\"ratings\"].value_counts())\n",
        "print(f\"{vals} \\n\")"
      ]
    },
    {
      "cell_type": "markdown",
      "metadata": {
        "id": "qWBlZFbn1yAn"
      },
      "source": [
        "## get the datatypes of each column"
      ]
    },
    {
      "cell_type": "code",
      "execution_count": null,
      "metadata": {
        "id": "AOjituNT14aq"
      },
      "outputs": [],
      "source": [
        "# product dataset\n",
        "dataset_bigmarket.dtypes"
      ]
    },
    {
      "cell_type": "markdown",
      "metadata": {
        "id": "mKT0gWXOvJGU"
      },
      "source": [
        "# Dataset preprocessing"
      ]
    },
    {
      "cell_type": "markdown",
      "metadata": {
        "id": "PrtNVaeDAeyU"
      },
      "source": [
        "## Bigmarket preprocessing"
      ]
    },
    {
      "cell_type": "code",
      "execution_count": null,
      "metadata": {
        "id": "fiaVPVGJAq2D"
      },
      "outputs": [],
      "source": [
        "# change type of description column\n",
        "dataset_bigmarket['description'] = dataset_bigmarket['description'].astype(str)"
      ]
    },
    {
      "cell_type": "code",
      "execution_count": null,
      "metadata": {
        "id": "dHvHeuwZA4XL"
      },
      "outputs": [],
      "source": [
        "# drop null value (product without name / brand) and get train data\n",
        "train_bm = dataset_bigmarket.dropna()\n",
        "train_bm.isna().sum()"
      ]
    },
    {
      "cell_type": "code",
      "execution_count": null,
      "metadata": {
        "id": "09P6uZIqeUoO"
      },
      "outputs": [],
      "source": [
        "# check shape\n",
        "train_bm.shape"
      ]
    },
    {
      "cell_type": "code",
      "source": [
        "train_bm.dtypes"
      ],
      "metadata": {
        "id": "Bc864otGbHpd"
      },
      "execution_count": null,
      "outputs": []
    },
    {
      "cell_type": "markdown",
      "metadata": {
        "id": "mcKp10uKBbvi"
      },
      "source": [
        "## Transform & Merge Datasets"
      ]
    },
    {
      "cell_type": "code",
      "execution_count": null,
      "metadata": {
        "colab": {
          "base_uri": "https://localhost:8080/"
        },
        "id": "6v6kXugxjoxu",
        "outputId": "bb614af9-4c29-4559-fb9a-7f97dc78fefb"
      },
      "outputs": [
        {
          "output_type": "stream",
          "name": "stderr",
          "text": [
            "<ipython-input-15-6630b6182842>:1: SettingWithCopyWarning: \n",
            "A value is trying to be set on a copy of a slice from a DataFrame\n",
            "\n",
            "See the caveats in the documentation: https://pandas.pydata.org/pandas-docs/stable/user_guide/indexing.html#returning-a-view-versus-a-copy\n",
            "  train_bm.rename(columns = {'product':'name', 'market_price':'actual_price'}, inplace = True)\n"
          ]
        }
      ],
      "source": [
        "train_bm.rename(columns = {'product':'name', 'market_price':'actual_price'}, inplace = True)"
      ]
    },
    {
      "cell_type": "code",
      "source": [
        "train_bm.dtypes"
      ],
      "metadata": {
        "colab": {
          "base_uri": "https://localhost:8080/"
        },
        "id": "99jFmUvtbZ-k",
        "outputId": "83c34ab6-07d0-4e5b-d413-b1df04e8d335"
      },
      "execution_count": null,
      "outputs": [
        {
          "output_type": "execute_result",
          "data": {
            "text/plain": [
              "index               int64\n",
              "name               object\n",
              "category           object\n",
              "sub_category       object\n",
              "brand              object\n",
              "discount_price    float64\n",
              "actual_price      float64\n",
              "type               object\n",
              "ratings           float64\n",
              "description        object\n",
              "dtype: object"
            ]
          },
          "metadata": {},
          "execution_count": 16
        }
      ]
    },
    {
      "cell_type": "code",
      "execution_count": null,
      "metadata": {
        "id": "HSmlstf0kBy4"
      },
      "outputs": [],
      "source": [
        "product_dataset = train_bm[['name','category','sub_category','brand','ratings','discount_price','actual_price','description']]"
      ]
    },
    {
      "cell_type": "code",
      "execution_count": null,
      "metadata": {
        "colab": {
          "base_uri": "https://localhost:8080/"
        },
        "id": "yYXrYWX5kkY4",
        "outputId": "e0841df8-cf8e-4bd3-ebd0-f5275572bc96"
      },
      "outputs": [
        {
          "output_type": "execute_result",
          "data": {
            "text/plain": [
              "name              0\n",
              "category          0\n",
              "sub_category      0\n",
              "brand             0\n",
              "ratings           0\n",
              "discount_price    0\n",
              "actual_price      0\n",
              "description       0\n",
              "dtype: int64"
            ]
          },
          "metadata": {},
          "execution_count": 18
        }
      ],
      "source": [
        "product_dataset.isna().sum()"
      ]
    },
    {
      "cell_type": "code",
      "execution_count": null,
      "metadata": {
        "id": "vwI8j1WKkwbj",
        "colab": {
          "base_uri": "https://localhost:8080/"
        },
        "outputId": "24311f4c-7108-410c-b600-b1503a017cae"
      },
      "outputs": [
        {
          "output_type": "execute_result",
          "data": {
            "text/plain": [
              "0"
            ]
          },
          "metadata": {},
          "execution_count": 19
        }
      ],
      "source": [
        "product_dataset = product_dataset.drop_duplicates() # drop duplicate data\n",
        "product_dataset.duplicated().sum() # check if there are any duplicates data"
      ]
    },
    {
      "cell_type": "code",
      "execution_count": null,
      "metadata": {
        "id": "EizsZK_clBDx",
        "colab": {
          "base_uri": "https://localhost:8080/"
        },
        "outputId": "958803f2-2450-42e1-db88-fae627f91edf"
      },
      "outputs": [
        {
          "output_type": "stream",
          "name": "stderr",
          "text": [
            "<ipython-input-20-4c47c2a3ed76>:4: SettingWithCopyWarning: \n",
            "A value is trying to be set on a copy of a slice from a DataFrame.\n",
            "Try using .loc[row_indexer,col_indexer] = value instead\n",
            "\n",
            "See the caveats in the documentation: https://pandas.pydata.org/pandas-docs/stable/user_guide/indexing.html#returning-a-view-versus-a-copy\n",
            "  product_dataset['product_id'] = product_dataset.index + 1\n"
          ]
        }
      ],
      "source": [
        "# Add 1 to the index values\n",
        "product_dataset.reset_index(inplace=True)\n",
        "\n",
        "product_dataset['product_id'] = product_dataset.index + 1"
      ]
    },
    {
      "cell_type": "code",
      "execution_count": null,
      "metadata": {
        "id": "zTv1kiFjm9Cf"
      },
      "outputs": [],
      "source": [
        "# get products dataset\n",
        "products = product_dataset[['product_id','name','actual_price','discount_price','ratings','brand','category','description']]\n",
        "# merge instacart data\n",
        "df12 = pd.merge(df2, df1, how='inner', on='aisle_id')\n",
        "df128 = pd.merge(df12, df8, how='inner', on='department_id')\n",
        "df1289 = pd.merge(df9, df128, how='inner', on='product_id')\n",
        "dataset_instacart = pd.merge(df10, df1289, how='inner', on='order_id')"
      ]
    },
    {
      "cell_type": "code",
      "execution_count": null,
      "metadata": {
        "colab": {
          "base_uri": "https://localhost:8080/"
        },
        "id": "2EY7icrin_ZD",
        "outputId": "1d7b93bf-8462-489c-cc83-356d0c05b1c3"
      },
      "outputs": [
        {
          "output_type": "stream",
          "name": "stdout",
          "text": [
            "1\n",
            "18737\n"
          ]
        }
      ],
      "source": [
        "print(products['product_id'].min())\n",
        "print(products['product_id'].max())"
      ]
    },
    {
      "cell_type": "code",
      "execution_count": null,
      "metadata": {
        "colab": {
          "base_uri": "https://localhost:8080/"
        },
        "id": "AymQW17fnseO",
        "outputId": "fdf97bad-7549-4b29-e69c-551cdaf44625"
      },
      "outputs": [
        {
          "output_type": "stream",
          "name": "stdout",
          "text": [
            "1\n",
            "49688\n"
          ]
        }
      ],
      "source": [
        "print(dataset_instacart['product_id'].min())\n",
        "print(dataset_instacart['product_id'].max())"
      ]
    },
    {
      "cell_type": "code",
      "execution_count": null,
      "metadata": {
        "id": "p1mra1jYpCK8"
      },
      "outputs": [],
      "source": [
        "# Drop rows where the value of product id is greater than 1000 (for data efficiency)\n",
        "products = products.drop(products[products['product_id'] > 1000].index)\n",
        "transactions = dataset_instacart.drop(dataset_instacart[dataset_instacart['product_id'] > 1000].index)"
      ]
    },
    {
      "cell_type": "code",
      "execution_count": null,
      "metadata": {
        "colab": {
          "base_uri": "https://localhost:8080/"
        },
        "id": "eXSUAv--pj2U",
        "outputId": "3b655ce1-742c-43b8-cfe4-0e920d18aa95"
      },
      "outputs": [
        {
          "output_type": "stream",
          "name": "stdout",
          "text": [
            "1\n",
            "1000\n"
          ]
        }
      ],
      "source": [
        "print(transactions['product_id'].min())\n",
        "print(transactions['product_id'].max())"
      ]
    },
    {
      "cell_type": "code",
      "source": [
        "print(products['product_id'].min())\n",
        "print(products['product_id'].max())"
      ],
      "metadata": {
        "colab": {
          "base_uri": "https://localhost:8080/"
        },
        "id": "Y7VOwB4agF3l",
        "outputId": "6fe5fa20-3e14-45b4-d65e-f40af3373d58"
      },
      "execution_count": null,
      "outputs": [
        {
          "output_type": "stream",
          "name": "stdout",
          "text": [
            "1\n",
            "1000\n"
          ]
        }
      ]
    },
    {
      "cell_type": "code",
      "source": [
        "transactions.dtypes"
      ],
      "metadata": {
        "colab": {
          "base_uri": "https://localhost:8080/"
        },
        "id": "Gi3-zSUlg7xK",
        "outputId": "bf109e4a-a922-469f-cfa9-915fc7a8e292"
      },
      "execution_count": null,
      "outputs": [
        {
          "output_type": "execute_result",
          "data": {
            "text/plain": [
              "order_id                    int64\n",
              "user_id                     int64\n",
              "eval_set                   object\n",
              "order_number                int64\n",
              "order_dow                   int64\n",
              "order_hour_of_day           int64\n",
              "days_since_prior_order    float64\n",
              "product_id                  int64\n",
              "add_to_cart_order           int64\n",
              "reordered                   int64\n",
              "aisle_id                    int64\n",
              "aisle                      object\n",
              "product_name               object\n",
              "department_id               int64\n",
              "department                 object\n",
              "dtype: object"
            ]
          },
          "metadata": {},
          "execution_count": 27
        }
      ]
    },
    {
      "cell_type": "code",
      "source": [
        "# drop irrelevant columns on transaction dataset \n",
        "transactions = transactions.drop(['department_id','department','product_name','order_id','eval_set','order_number','order_dow','order_hour_of_day','days_since_prior_order','aisle_id','aisle'], axis=1)"
      ],
      "metadata": {
        "id": "bR0BReCFgt_Z"
      },
      "execution_count": null,
      "outputs": []
    },
    {
      "cell_type": "code",
      "execution_count": null,
      "metadata": {
        "id": "9Ye_RcX-pubR"
      },
      "outputs": [],
      "source": [
        "merged_data = pd.merge(transactions, products, how='inner', on='product_id')"
      ]
    },
    {
      "cell_type": "code",
      "execution_count": null,
      "metadata": {
        "colab": {
          "base_uri": "https://localhost:8080/"
        },
        "id": "4hQsuocAqE0h",
        "outputId": "f2e71bff-b262-4f71-c64d-cc1858383378"
      },
      "outputs": [
        {
          "output_type": "execute_result",
          "data": {
            "text/plain": [
              "       user_id  product_id  add_to_cart_order  reordered  \\\n",
              "13671    34504         768                 10          1   \n",
              "11890    50009         311                 12          1   \n",
              "14012    52002         116                  4          0   \n",
              "18780    11393          86                 18          0   \n",
              "3680     29396         260                  1          1   \n",
              "\n",
              "                                                    name  actual_price  \\\n",
              "13671                Lemon Chaat - Pickle in your pocket          50.0   \n",
              "11890  Solitaire Storage Transparent Pet Container Se...         969.0   \n",
              "14012                                        Ragi Flakes         225.0   \n",
              "18780                      Fructis Serum - Long & Strong         230.0   \n",
              "3680                  Fruit N Fibre Muesli - Mixed Fruit         320.0   \n",
              "\n",
              "       discount_price  ratings     brand                  category  \\\n",
              "13671            50.0      3.4   Go Desi  Foodgrains, Oil & Masala   \n",
              "11890           409.0      4.2    Steelo    Kitchen, Garden & Pets   \n",
              "14012           225.0      4.5  Murginns    Snacks & Branded Foods   \n",
              "18780           230.0      4.8   Garnier          Beauty & Hygiene   \n",
              "3680            320.0      4.3   Bagrrys    Snacks & Branded Foods   \n",
              "\n",
              "                                             description  \n",
              "13671  Lemon Chaat is tiny bits of dried lemon peel m...  \n",
              "11890  These Steelo storage containers are made from ...  \n",
              "14012  Made of only Ragi (Nachni) and Jaggery, we gua...  \n",
              "18780  Garnier Fruits Long & Strong Strengthening Ser...  \n",
              "3680   A delightful muesli for a great start to your ...  "
            ],
            "text/html": [
              "\n",
              "  <div id=\"df-1931e264-2351-4f63-99de-a9f61b16c8a7\">\n",
              "    <div class=\"colab-df-container\">\n",
              "      <div>\n",
              "<style scoped>\n",
              "    .dataframe tbody tr th:only-of-type {\n",
              "        vertical-align: middle;\n",
              "    }\n",
              "\n",
              "    .dataframe tbody tr th {\n",
              "        vertical-align: top;\n",
              "    }\n",
              "\n",
              "    .dataframe thead th {\n",
              "        text-align: right;\n",
              "    }\n",
              "</style>\n",
              "<table border=\"1\" class=\"dataframe\">\n",
              "  <thead>\n",
              "    <tr style=\"text-align: right;\">\n",
              "      <th></th>\n",
              "      <th>user_id</th>\n",
              "      <th>product_id</th>\n",
              "      <th>add_to_cart_order</th>\n",
              "      <th>reordered</th>\n",
              "      <th>name</th>\n",
              "      <th>actual_price</th>\n",
              "      <th>discount_price</th>\n",
              "      <th>ratings</th>\n",
              "      <th>brand</th>\n",
              "      <th>category</th>\n",
              "      <th>description</th>\n",
              "    </tr>\n",
              "  </thead>\n",
              "  <tbody>\n",
              "    <tr>\n",
              "      <th>13671</th>\n",
              "      <td>34504</td>\n",
              "      <td>768</td>\n",
              "      <td>10</td>\n",
              "      <td>1</td>\n",
              "      <td>Lemon Chaat - Pickle in your pocket</td>\n",
              "      <td>50.0</td>\n",
              "      <td>50.0</td>\n",
              "      <td>3.4</td>\n",
              "      <td>Go Desi</td>\n",
              "      <td>Foodgrains, Oil &amp; Masala</td>\n",
              "      <td>Lemon Chaat is tiny bits of dried lemon peel m...</td>\n",
              "    </tr>\n",
              "    <tr>\n",
              "      <th>11890</th>\n",
              "      <td>50009</td>\n",
              "      <td>311</td>\n",
              "      <td>12</td>\n",
              "      <td>1</td>\n",
              "      <td>Solitaire Storage Transparent Pet Container Se...</td>\n",
              "      <td>969.0</td>\n",
              "      <td>409.0</td>\n",
              "      <td>4.2</td>\n",
              "      <td>Steelo</td>\n",
              "      <td>Kitchen, Garden &amp; Pets</td>\n",
              "      <td>These Steelo storage containers are made from ...</td>\n",
              "    </tr>\n",
              "    <tr>\n",
              "      <th>14012</th>\n",
              "      <td>52002</td>\n",
              "      <td>116</td>\n",
              "      <td>4</td>\n",
              "      <td>0</td>\n",
              "      <td>Ragi Flakes</td>\n",
              "      <td>225.0</td>\n",
              "      <td>225.0</td>\n",
              "      <td>4.5</td>\n",
              "      <td>Murginns</td>\n",
              "      <td>Snacks &amp; Branded Foods</td>\n",
              "      <td>Made of only Ragi (Nachni) and Jaggery, we gua...</td>\n",
              "    </tr>\n",
              "    <tr>\n",
              "      <th>18780</th>\n",
              "      <td>11393</td>\n",
              "      <td>86</td>\n",
              "      <td>18</td>\n",
              "      <td>0</td>\n",
              "      <td>Fructis Serum - Long &amp; Strong</td>\n",
              "      <td>230.0</td>\n",
              "      <td>230.0</td>\n",
              "      <td>4.8</td>\n",
              "      <td>Garnier</td>\n",
              "      <td>Beauty &amp; Hygiene</td>\n",
              "      <td>Garnier Fruits Long &amp; Strong Strengthening Ser...</td>\n",
              "    </tr>\n",
              "    <tr>\n",
              "      <th>3680</th>\n",
              "      <td>29396</td>\n",
              "      <td>260</td>\n",
              "      <td>1</td>\n",
              "      <td>1</td>\n",
              "      <td>Fruit N Fibre Muesli - Mixed Fruit</td>\n",
              "      <td>320.0</td>\n",
              "      <td>320.0</td>\n",
              "      <td>4.3</td>\n",
              "      <td>Bagrrys</td>\n",
              "      <td>Snacks &amp; Branded Foods</td>\n",
              "      <td>A delightful muesli for a great start to your ...</td>\n",
              "    </tr>\n",
              "  </tbody>\n",
              "</table>\n",
              "</div>\n",
              "      <button class=\"colab-df-convert\" onclick=\"convertToInteractive('df-1931e264-2351-4f63-99de-a9f61b16c8a7')\"\n",
              "              title=\"Convert this dataframe to an interactive table.\"\n",
              "              style=\"display:none;\">\n",
              "        \n",
              "  <svg xmlns=\"http://www.w3.org/2000/svg\" height=\"24px\"viewBox=\"0 0 24 24\"\n",
              "       width=\"24px\">\n",
              "    <path d=\"M0 0h24v24H0V0z\" fill=\"none\"/>\n",
              "    <path d=\"M18.56 5.44l.94 2.06.94-2.06 2.06-.94-2.06-.94-.94-2.06-.94 2.06-2.06.94zm-11 1L8.5 8.5l.94-2.06 2.06-.94-2.06-.94L8.5 2.5l-.94 2.06-2.06.94zm10 10l.94 2.06.94-2.06 2.06-.94-2.06-.94-.94-2.06-.94 2.06-2.06.94z\"/><path d=\"M17.41 7.96l-1.37-1.37c-.4-.4-.92-.59-1.43-.59-.52 0-1.04.2-1.43.59L10.3 9.45l-7.72 7.72c-.78.78-.78 2.05 0 2.83L4 21.41c.39.39.9.59 1.41.59.51 0 1.02-.2 1.41-.59l7.78-7.78 2.81-2.81c.8-.78.8-2.07 0-2.86zM5.41 20L4 18.59l7.72-7.72 1.47 1.35L5.41 20z\"/>\n",
              "  </svg>\n",
              "      </button>\n",
              "      \n",
              "  <style>\n",
              "    .colab-df-container {\n",
              "      display:flex;\n",
              "      flex-wrap:wrap;\n",
              "      gap: 12px;\n",
              "    }\n",
              "\n",
              "    .colab-df-convert {\n",
              "      background-color: #E8F0FE;\n",
              "      border: none;\n",
              "      border-radius: 50%;\n",
              "      cursor: pointer;\n",
              "      display: none;\n",
              "      fill: #1967D2;\n",
              "      height: 32px;\n",
              "      padding: 0 0 0 0;\n",
              "      width: 32px;\n",
              "    }\n",
              "\n",
              "    .colab-df-convert:hover {\n",
              "      background-color: #E2EBFA;\n",
              "      box-shadow: 0px 1px 2px rgba(60, 64, 67, 0.3), 0px 1px 3px 1px rgba(60, 64, 67, 0.15);\n",
              "      fill: #174EA6;\n",
              "    }\n",
              "\n",
              "    [theme=dark] .colab-df-convert {\n",
              "      background-color: #3B4455;\n",
              "      fill: #D2E3FC;\n",
              "    }\n",
              "\n",
              "    [theme=dark] .colab-df-convert:hover {\n",
              "      background-color: #434B5C;\n",
              "      box-shadow: 0px 1px 3px 1px rgba(0, 0, 0, 0.15);\n",
              "      filter: drop-shadow(0px 1px 2px rgba(0, 0, 0, 0.3));\n",
              "      fill: #FFFFFF;\n",
              "    }\n",
              "  </style>\n",
              "\n",
              "      <script>\n",
              "        const buttonEl =\n",
              "          document.querySelector('#df-1931e264-2351-4f63-99de-a9f61b16c8a7 button.colab-df-convert');\n",
              "        buttonEl.style.display =\n",
              "          google.colab.kernel.accessAllowed ? 'block' : 'none';\n",
              "\n",
              "        async function convertToInteractive(key) {\n",
              "          const element = document.querySelector('#df-1931e264-2351-4f63-99de-a9f61b16c8a7');\n",
              "          const dataTable =\n",
              "            await google.colab.kernel.invokeFunction('convertToInteractive',\n",
              "                                                     [key], {});\n",
              "          if (!dataTable) return;\n",
              "\n",
              "          const docLinkHtml = 'Like what you see? Visit the ' +\n",
              "            '<a target=\"_blank\" href=https://colab.research.google.com/notebooks/data_table.ipynb>data table notebook</a>'\n",
              "            + ' to learn more about interactive tables.';\n",
              "          element.innerHTML = '';\n",
              "          dataTable['output_type'] = 'display_data';\n",
              "          await google.colab.output.renderOutput(dataTable, element);\n",
              "          const docLink = document.createElement('div');\n",
              "          docLink.innerHTML = docLinkHtml;\n",
              "          element.appendChild(docLink);\n",
              "        }\n",
              "      </script>\n",
              "    </div>\n",
              "  </div>\n",
              "  "
            ]
          },
          "metadata": {},
          "execution_count": 30
        }
      ],
      "source": [
        "merged_data = merged_data.sample(frac=1)\n",
        "merged_data.head()"
      ]
    },
    {
      "cell_type": "code",
      "execution_count": null,
      "metadata": {
        "colab": {
          "base_uri": "https://localhost:8080/"
        },
        "id": "Xd6ptOK_sOJc",
        "outputId": "2d30c732-cb9f-4da2-ed16-e4e116d9b900"
      },
      "outputs": [
        {
          "output_type": "execute_result",
          "data": {
            "text/plain": [
              "(21299, 11)"
            ]
          },
          "metadata": {},
          "execution_count": 31
        }
      ],
      "source": [
        "df = merged_data.copy()\n",
        "df.shape"
      ]
    },
    {
      "cell_type": "code",
      "execution_count": null,
      "metadata": {
        "id": "0_padE7LrAdF"
      },
      "outputs": [],
      "source": [
        "# download the data to google drive\n",
        "filename = 'final_dataset.csv'\n",
        "\n",
        "df.to_csv('/content/drive/MyDrive/' + filename)"
      ]
    },
    {
      "cell_type": "code",
      "source": [
        "products"
      ],
      "metadata": {
        "colab": {
          "base_uri": "https://localhost:8080/"
        },
        "id": "gdni-ZQtkrBr",
        "outputId": "a3f3c369-7045-464e-fb54-db7bbe661b32"
      },
      "execution_count": null,
      "outputs": [
        {
          "output_type": "execute_result",
          "data": {
            "text/plain": [
              "     product_id                                               name  \\\n",
              "0             1             Garlic Oil - Vegetarian Capsule 500 mg   \n",
              "1             2                              Water Bottle - Orange   \n",
              "2             3                     Brass Angle Deep - Plain, No.2   \n",
              "3             4  Cereal Flip Lid Container/Storage Jar - Assort...   \n",
              "4             5                 Creme Soft Soap - For Hands & Body   \n",
              "..          ...                                                ...   \n",
              "995         996                            Alkaline Battery AAA-2B   \n",
              "996         997                           Strong & Healthy Shampoo   \n",
              "997         998                                 Amalfi Deo For Men   \n",
              "998         999                                  Organic -  Nippat   \n",
              "999        1000            Room Freshener - Dreams of Dew Lavender   \n",
              "\n",
              "     actual_price  discount_price  ratings                brand  \\\n",
              "0           220.0          220.00      4.1    Sri Sri Ayurveda    \n",
              "1           180.0          180.00      2.3           Mastercook   \n",
              "2           250.0          119.00      3.4                  Trm   \n",
              "3           176.0          149.00      3.7               Nakoda   \n",
              "4           162.0          162.00      4.4                Nivea   \n",
              "..            ...             ...      ...                  ...   \n",
              "995          80.0           70.00      4.3            Panasonic   \n",
              "996         118.0          114.46      4.2                Meera   \n",
              "997         499.0          474.05      4.5       Skinn by Titan   \n",
              "998          90.0           90.00      4.5  Phalada Pure & Sure   \n",
              "999         149.0          149.00      4.8            Good Home   \n",
              "\n",
              "                   category                                        description  \n",
              "0          Beauty & Hygiene  This Product contains Garlic Oil that is known...  \n",
              "1    Kitchen, Garden & Pets  Each product is microwave safe (without lid), ...  \n",
              "2      Cleaning & Household  A perfect gift for all occasions, be it your m...  \n",
              "3      Cleaning & Household  Multipurpose container with an attractive desi...  \n",
              "4          Beauty & Hygiene  Nivea Creme Soft Soap gives your skin the best...  \n",
              "..                      ...                                                ...  \n",
              "995  Kitchen, Garden & Pets  1. It is highly advisable to use batteries of ...  \n",
              "996        Beauty & Hygiene  Meera Strong & Healthy Shampoo contains Kunkud...  \n",
              "997        Beauty & Hygiene  This vibrant and fresh Amalfi Deo For Men is i...  \n",
              "998  Snacks & Branded Foods  All Natural, Certified Organic, No Trans Fat, ...  \n",
              "999    Cleaning & Household  Fill your room with the exotic and refreshing ...  \n",
              "\n",
              "[1000 rows x 8 columns]"
            ],
            "text/html": [
              "\n",
              "  <div id=\"df-07977522-afdd-4ac9-a7b1-8b163802327f\">\n",
              "    <div class=\"colab-df-container\">\n",
              "      <div>\n",
              "<style scoped>\n",
              "    .dataframe tbody tr th:only-of-type {\n",
              "        vertical-align: middle;\n",
              "    }\n",
              "\n",
              "    .dataframe tbody tr th {\n",
              "        vertical-align: top;\n",
              "    }\n",
              "\n",
              "    .dataframe thead th {\n",
              "        text-align: right;\n",
              "    }\n",
              "</style>\n",
              "<table border=\"1\" class=\"dataframe\">\n",
              "  <thead>\n",
              "    <tr style=\"text-align: right;\">\n",
              "      <th></th>\n",
              "      <th>product_id</th>\n",
              "      <th>name</th>\n",
              "      <th>actual_price</th>\n",
              "      <th>discount_price</th>\n",
              "      <th>ratings</th>\n",
              "      <th>brand</th>\n",
              "      <th>category</th>\n",
              "      <th>description</th>\n",
              "    </tr>\n",
              "  </thead>\n",
              "  <tbody>\n",
              "    <tr>\n",
              "      <th>0</th>\n",
              "      <td>1</td>\n",
              "      <td>Garlic Oil - Vegetarian Capsule 500 mg</td>\n",
              "      <td>220.0</td>\n",
              "      <td>220.00</td>\n",
              "      <td>4.1</td>\n",
              "      <td>Sri Sri Ayurveda</td>\n",
              "      <td>Beauty &amp; Hygiene</td>\n",
              "      <td>This Product contains Garlic Oil that is known...</td>\n",
              "    </tr>\n",
              "    <tr>\n",
              "      <th>1</th>\n",
              "      <td>2</td>\n",
              "      <td>Water Bottle - Orange</td>\n",
              "      <td>180.0</td>\n",
              "      <td>180.00</td>\n",
              "      <td>2.3</td>\n",
              "      <td>Mastercook</td>\n",
              "      <td>Kitchen, Garden &amp; Pets</td>\n",
              "      <td>Each product is microwave safe (without lid), ...</td>\n",
              "    </tr>\n",
              "    <tr>\n",
              "      <th>2</th>\n",
              "      <td>3</td>\n",
              "      <td>Brass Angle Deep - Plain, No.2</td>\n",
              "      <td>250.0</td>\n",
              "      <td>119.00</td>\n",
              "      <td>3.4</td>\n",
              "      <td>Trm</td>\n",
              "      <td>Cleaning &amp; Household</td>\n",
              "      <td>A perfect gift for all occasions, be it your m...</td>\n",
              "    </tr>\n",
              "    <tr>\n",
              "      <th>3</th>\n",
              "      <td>4</td>\n",
              "      <td>Cereal Flip Lid Container/Storage Jar - Assort...</td>\n",
              "      <td>176.0</td>\n",
              "      <td>149.00</td>\n",
              "      <td>3.7</td>\n",
              "      <td>Nakoda</td>\n",
              "      <td>Cleaning &amp; Household</td>\n",
              "      <td>Multipurpose container with an attractive desi...</td>\n",
              "    </tr>\n",
              "    <tr>\n",
              "      <th>4</th>\n",
              "      <td>5</td>\n",
              "      <td>Creme Soft Soap - For Hands &amp; Body</td>\n",
              "      <td>162.0</td>\n",
              "      <td>162.00</td>\n",
              "      <td>4.4</td>\n",
              "      <td>Nivea</td>\n",
              "      <td>Beauty &amp; Hygiene</td>\n",
              "      <td>Nivea Creme Soft Soap gives your skin the best...</td>\n",
              "    </tr>\n",
              "    <tr>\n",
              "      <th>...</th>\n",
              "      <td>...</td>\n",
              "      <td>...</td>\n",
              "      <td>...</td>\n",
              "      <td>...</td>\n",
              "      <td>...</td>\n",
              "      <td>...</td>\n",
              "      <td>...</td>\n",
              "      <td>...</td>\n",
              "    </tr>\n",
              "    <tr>\n",
              "      <th>995</th>\n",
              "      <td>996</td>\n",
              "      <td>Alkaline Battery AAA-2B</td>\n",
              "      <td>80.0</td>\n",
              "      <td>70.00</td>\n",
              "      <td>4.3</td>\n",
              "      <td>Panasonic</td>\n",
              "      <td>Kitchen, Garden &amp; Pets</td>\n",
              "      <td>1. It is highly advisable to use batteries of ...</td>\n",
              "    </tr>\n",
              "    <tr>\n",
              "      <th>996</th>\n",
              "      <td>997</td>\n",
              "      <td>Strong &amp; Healthy Shampoo</td>\n",
              "      <td>118.0</td>\n",
              "      <td>114.46</td>\n",
              "      <td>4.2</td>\n",
              "      <td>Meera</td>\n",
              "      <td>Beauty &amp; Hygiene</td>\n",
              "      <td>Meera Strong &amp; Healthy Shampoo contains Kunkud...</td>\n",
              "    </tr>\n",
              "    <tr>\n",
              "      <th>997</th>\n",
              "      <td>998</td>\n",
              "      <td>Amalfi Deo For Men</td>\n",
              "      <td>499.0</td>\n",
              "      <td>474.05</td>\n",
              "      <td>4.5</td>\n",
              "      <td>Skinn by Titan</td>\n",
              "      <td>Beauty &amp; Hygiene</td>\n",
              "      <td>This vibrant and fresh Amalfi Deo For Men is i...</td>\n",
              "    </tr>\n",
              "    <tr>\n",
              "      <th>998</th>\n",
              "      <td>999</td>\n",
              "      <td>Organic -  Nippat</td>\n",
              "      <td>90.0</td>\n",
              "      <td>90.00</td>\n",
              "      <td>4.5</td>\n",
              "      <td>Phalada Pure &amp; Sure</td>\n",
              "      <td>Snacks &amp; Branded Foods</td>\n",
              "      <td>All Natural, Certified Organic, No Trans Fat, ...</td>\n",
              "    </tr>\n",
              "    <tr>\n",
              "      <th>999</th>\n",
              "      <td>1000</td>\n",
              "      <td>Room Freshener - Dreams of Dew Lavender</td>\n",
              "      <td>149.0</td>\n",
              "      <td>149.00</td>\n",
              "      <td>4.8</td>\n",
              "      <td>Good Home</td>\n",
              "      <td>Cleaning &amp; Household</td>\n",
              "      <td>Fill your room with the exotic and refreshing ...</td>\n",
              "    </tr>\n",
              "  </tbody>\n",
              "</table>\n",
              "<p>1000 rows × 8 columns</p>\n",
              "</div>\n",
              "      <button class=\"colab-df-convert\" onclick=\"convertToInteractive('df-07977522-afdd-4ac9-a7b1-8b163802327f')\"\n",
              "              title=\"Convert this dataframe to an interactive table.\"\n",
              "              style=\"display:none;\">\n",
              "        \n",
              "  <svg xmlns=\"http://www.w3.org/2000/svg\" height=\"24px\"viewBox=\"0 0 24 24\"\n",
              "       width=\"24px\">\n",
              "    <path d=\"M0 0h24v24H0V0z\" fill=\"none\"/>\n",
              "    <path d=\"M18.56 5.44l.94 2.06.94-2.06 2.06-.94-2.06-.94-.94-2.06-.94 2.06-2.06.94zm-11 1L8.5 8.5l.94-2.06 2.06-.94-2.06-.94L8.5 2.5l-.94 2.06-2.06.94zm10 10l.94 2.06.94-2.06 2.06-.94-2.06-.94-.94-2.06-.94 2.06-2.06.94z\"/><path d=\"M17.41 7.96l-1.37-1.37c-.4-.4-.92-.59-1.43-.59-.52 0-1.04.2-1.43.59L10.3 9.45l-7.72 7.72c-.78.78-.78 2.05 0 2.83L4 21.41c.39.39.9.59 1.41.59.51 0 1.02-.2 1.41-.59l7.78-7.78 2.81-2.81c.8-.78.8-2.07 0-2.86zM5.41 20L4 18.59l7.72-7.72 1.47 1.35L5.41 20z\"/>\n",
              "  </svg>\n",
              "      </button>\n",
              "      \n",
              "  <style>\n",
              "    .colab-df-container {\n",
              "      display:flex;\n",
              "      flex-wrap:wrap;\n",
              "      gap: 12px;\n",
              "    }\n",
              "\n",
              "    .colab-df-convert {\n",
              "      background-color: #E8F0FE;\n",
              "      border: none;\n",
              "      border-radius: 50%;\n",
              "      cursor: pointer;\n",
              "      display: none;\n",
              "      fill: #1967D2;\n",
              "      height: 32px;\n",
              "      padding: 0 0 0 0;\n",
              "      width: 32px;\n",
              "    }\n",
              "\n",
              "    .colab-df-convert:hover {\n",
              "      background-color: #E2EBFA;\n",
              "      box-shadow: 0px 1px 2px rgba(60, 64, 67, 0.3), 0px 1px 3px 1px rgba(60, 64, 67, 0.15);\n",
              "      fill: #174EA6;\n",
              "    }\n",
              "\n",
              "    [theme=dark] .colab-df-convert {\n",
              "      background-color: #3B4455;\n",
              "      fill: #D2E3FC;\n",
              "    }\n",
              "\n",
              "    [theme=dark] .colab-df-convert:hover {\n",
              "      background-color: #434B5C;\n",
              "      box-shadow: 0px 1px 3px 1px rgba(0, 0, 0, 0.15);\n",
              "      filter: drop-shadow(0px 1px 2px rgba(0, 0, 0, 0.3));\n",
              "      fill: #FFFFFF;\n",
              "    }\n",
              "  </style>\n",
              "\n",
              "      <script>\n",
              "        const buttonEl =\n",
              "          document.querySelector('#df-07977522-afdd-4ac9-a7b1-8b163802327f button.colab-df-convert');\n",
              "        buttonEl.style.display =\n",
              "          google.colab.kernel.accessAllowed ? 'block' : 'none';\n",
              "\n",
              "        async function convertToInteractive(key) {\n",
              "          const element = document.querySelector('#df-07977522-afdd-4ac9-a7b1-8b163802327f');\n",
              "          const dataTable =\n",
              "            await google.colab.kernel.invokeFunction('convertToInteractive',\n",
              "                                                     [key], {});\n",
              "          if (!dataTable) return;\n",
              "\n",
              "          const docLinkHtml = 'Like what you see? Visit the ' +\n",
              "            '<a target=\"_blank\" href=https://colab.research.google.com/notebooks/data_table.ipynb>data table notebook</a>'\n",
              "            + ' to learn more about interactive tables.';\n",
              "          element.innerHTML = '';\n",
              "          dataTable['output_type'] = 'display_data';\n",
              "          await google.colab.output.renderOutput(dataTable, element);\n",
              "          const docLink = document.createElement('div');\n",
              "          docLink.innerHTML = docLinkHtml;\n",
              "          element.appendChild(docLink);\n",
              "        }\n",
              "      </script>\n",
              "    </div>\n",
              "  </div>\n",
              "  "
            ]
          },
          "metadata": {},
          "execution_count": 33
        }
      ]
    },
    {
      "cell_type": "code",
      "execution_count": null,
      "metadata": {
        "id": "nLn6-ErRkid0",
        "colab": {
          "base_uri": "https://localhost:8080/"
        },
        "outputId": "41e1f818-5064-49f0-fb42-dcd79004fa87"
      },
      "outputs": [
        {
          "output_type": "execute_result",
          "data": {
            "text/plain": [
              "     product_id                                               name  \\\n",
              "0             1             Garlic Oil - Vegetarian Capsule 500 mg   \n",
              "1             2                              Water Bottle - Orange   \n",
              "2             3                     Brass Angle Deep - Plain, No.2   \n",
              "3             4  Cereal Flip Lid Container/Storage Jar - Assort...   \n",
              "4             5                 Creme Soft Soap - For Hands & Body   \n",
              "..          ...                                                ...   \n",
              "995         996                            Alkaline Battery AAA-2B   \n",
              "996         997                           Strong & Healthy Shampoo   \n",
              "997         998                                 Amalfi Deo For Men   \n",
              "998         999                                  Organic -  Nippat   \n",
              "999        1000            Room Freshener - Dreams of Dew Lavender   \n",
              "\n",
              "     actual_price  discount_price  ratings                brand  \\\n",
              "0           220.0          220.00      4.1    Sri Sri Ayurveda    \n",
              "1           180.0          180.00      2.3           Mastercook   \n",
              "2           250.0          119.00      3.4                  Trm   \n",
              "3           176.0          149.00      3.7               Nakoda   \n",
              "4           162.0          162.00      4.4                Nivea   \n",
              "..            ...             ...      ...                  ...   \n",
              "995          80.0           70.00      4.3            Panasonic   \n",
              "996         118.0          114.46      4.2                Meera   \n",
              "997         499.0          474.05      4.5       Skinn by Titan   \n",
              "998          90.0           90.00      4.5  Phalada Pure & Sure   \n",
              "999         149.0          149.00      4.8            Good Home   \n",
              "\n",
              "                   category  \\\n",
              "0          Beauty & Hygiene   \n",
              "1    Kitchen, Garden & Pets   \n",
              "2      Cleaning & Household   \n",
              "3      Cleaning & Household   \n",
              "4          Beauty & Hygiene   \n",
              "..                      ...   \n",
              "995  Kitchen, Garden & Pets   \n",
              "996        Beauty & Hygiene   \n",
              "997        Beauty & Hygiene   \n",
              "998  Snacks & Branded Foods   \n",
              "999    Cleaning & Household   \n",
              "\n",
              "                                           description  average_rating  \\\n",
              "0    This Product contains Garlic Oil that is known...             4.1   \n",
              "1    Each product is microwave safe (without lid), ...             2.3   \n",
              "2    A perfect gift for all occasions, be it your m...             3.4   \n",
              "3    Multipurpose container with an attractive desi...             3.7   \n",
              "4    Nivea Creme Soft Soap gives your skin the best...             4.4   \n",
              "..                                                 ...             ...   \n",
              "995  1. It is highly advisable to use batteries of ...             4.3   \n",
              "996  Meera Strong & Healthy Shampoo contains Kunkud...             4.2   \n",
              "997  This vibrant and fresh Amalfi Deo For Men is i...             NaN   \n",
              "998  All Natural, Certified Organic, No Trans Fat, ...             4.5   \n",
              "999  Fill your room with the exotic and refreshing ...             4.8   \n",
              "\n",
              "                                                 image  \n",
              "0    https://upload.wikimedia.org/wikipedia/commons...  \n",
              "1    https://upload.wikimedia.org/wikipedia/commons...  \n",
              "2    https://upload.wikimedia.org/wikipedia/commons...  \n",
              "3    https://upload.wikimedia.org/wikipedia/commons...  \n",
              "4    https://upload.wikimedia.org/wikipedia/commons...  \n",
              "..                                                 ...  \n",
              "995  https://upload.wikimedia.org/wikipedia/commons...  \n",
              "996  https://upload.wikimedia.org/wikipedia/commons...  \n",
              "997  https://upload.wikimedia.org/wikipedia/commons...  \n",
              "998  https://upload.wikimedia.org/wikipedia/commons...  \n",
              "999  https://upload.wikimedia.org/wikipedia/commons...  \n",
              "\n",
              "[1000 rows x 10 columns]"
            ],
            "text/html": [
              "\n",
              "  <div id=\"df-a7b58007-702f-498e-a6c0-8fa3cd3f7ab8\">\n",
              "    <div class=\"colab-df-container\">\n",
              "      <div>\n",
              "<style scoped>\n",
              "    .dataframe tbody tr th:only-of-type {\n",
              "        vertical-align: middle;\n",
              "    }\n",
              "\n",
              "    .dataframe tbody tr th {\n",
              "        vertical-align: top;\n",
              "    }\n",
              "\n",
              "    .dataframe thead th {\n",
              "        text-align: right;\n",
              "    }\n",
              "</style>\n",
              "<table border=\"1\" class=\"dataframe\">\n",
              "  <thead>\n",
              "    <tr style=\"text-align: right;\">\n",
              "      <th></th>\n",
              "      <th>product_id</th>\n",
              "      <th>name</th>\n",
              "      <th>actual_price</th>\n",
              "      <th>discount_price</th>\n",
              "      <th>ratings</th>\n",
              "      <th>brand</th>\n",
              "      <th>category</th>\n",
              "      <th>description</th>\n",
              "      <th>average_rating</th>\n",
              "      <th>image</th>\n",
              "    </tr>\n",
              "  </thead>\n",
              "  <tbody>\n",
              "    <tr>\n",
              "      <th>0</th>\n",
              "      <td>1</td>\n",
              "      <td>Garlic Oil - Vegetarian Capsule 500 mg</td>\n",
              "      <td>220.0</td>\n",
              "      <td>220.00</td>\n",
              "      <td>4.1</td>\n",
              "      <td>Sri Sri Ayurveda</td>\n",
              "      <td>Beauty &amp; Hygiene</td>\n",
              "      <td>This Product contains Garlic Oil that is known...</td>\n",
              "      <td>4.1</td>\n",
              "      <td>https://upload.wikimedia.org/wikipedia/commons...</td>\n",
              "    </tr>\n",
              "    <tr>\n",
              "      <th>1</th>\n",
              "      <td>2</td>\n",
              "      <td>Water Bottle - Orange</td>\n",
              "      <td>180.0</td>\n",
              "      <td>180.00</td>\n",
              "      <td>2.3</td>\n",
              "      <td>Mastercook</td>\n",
              "      <td>Kitchen, Garden &amp; Pets</td>\n",
              "      <td>Each product is microwave safe (without lid), ...</td>\n",
              "      <td>2.3</td>\n",
              "      <td>https://upload.wikimedia.org/wikipedia/commons...</td>\n",
              "    </tr>\n",
              "    <tr>\n",
              "      <th>2</th>\n",
              "      <td>3</td>\n",
              "      <td>Brass Angle Deep - Plain, No.2</td>\n",
              "      <td>250.0</td>\n",
              "      <td>119.00</td>\n",
              "      <td>3.4</td>\n",
              "      <td>Trm</td>\n",
              "      <td>Cleaning &amp; Household</td>\n",
              "      <td>A perfect gift for all occasions, be it your m...</td>\n",
              "      <td>3.4</td>\n",
              "      <td>https://upload.wikimedia.org/wikipedia/commons...</td>\n",
              "    </tr>\n",
              "    <tr>\n",
              "      <th>3</th>\n",
              "      <td>4</td>\n",
              "      <td>Cereal Flip Lid Container/Storage Jar - Assort...</td>\n",
              "      <td>176.0</td>\n",
              "      <td>149.00</td>\n",
              "      <td>3.7</td>\n",
              "      <td>Nakoda</td>\n",
              "      <td>Cleaning &amp; Household</td>\n",
              "      <td>Multipurpose container with an attractive desi...</td>\n",
              "      <td>3.7</td>\n",
              "      <td>https://upload.wikimedia.org/wikipedia/commons...</td>\n",
              "    </tr>\n",
              "    <tr>\n",
              "      <th>4</th>\n",
              "      <td>5</td>\n",
              "      <td>Creme Soft Soap - For Hands &amp; Body</td>\n",
              "      <td>162.0</td>\n",
              "      <td>162.00</td>\n",
              "      <td>4.4</td>\n",
              "      <td>Nivea</td>\n",
              "      <td>Beauty &amp; Hygiene</td>\n",
              "      <td>Nivea Creme Soft Soap gives your skin the best...</td>\n",
              "      <td>4.4</td>\n",
              "      <td>https://upload.wikimedia.org/wikipedia/commons...</td>\n",
              "    </tr>\n",
              "    <tr>\n",
              "      <th>...</th>\n",
              "      <td>...</td>\n",
              "      <td>...</td>\n",
              "      <td>...</td>\n",
              "      <td>...</td>\n",
              "      <td>...</td>\n",
              "      <td>...</td>\n",
              "      <td>...</td>\n",
              "      <td>...</td>\n",
              "      <td>...</td>\n",
              "      <td>...</td>\n",
              "    </tr>\n",
              "    <tr>\n",
              "      <th>995</th>\n",
              "      <td>996</td>\n",
              "      <td>Alkaline Battery AAA-2B</td>\n",
              "      <td>80.0</td>\n",
              "      <td>70.00</td>\n",
              "      <td>4.3</td>\n",
              "      <td>Panasonic</td>\n",
              "      <td>Kitchen, Garden &amp; Pets</td>\n",
              "      <td>1. It is highly advisable to use batteries of ...</td>\n",
              "      <td>4.3</td>\n",
              "      <td>https://upload.wikimedia.org/wikipedia/commons...</td>\n",
              "    </tr>\n",
              "    <tr>\n",
              "      <th>996</th>\n",
              "      <td>997</td>\n",
              "      <td>Strong &amp; Healthy Shampoo</td>\n",
              "      <td>118.0</td>\n",
              "      <td>114.46</td>\n",
              "      <td>4.2</td>\n",
              "      <td>Meera</td>\n",
              "      <td>Beauty &amp; Hygiene</td>\n",
              "      <td>Meera Strong &amp; Healthy Shampoo contains Kunkud...</td>\n",
              "      <td>4.2</td>\n",
              "      <td>https://upload.wikimedia.org/wikipedia/commons...</td>\n",
              "    </tr>\n",
              "    <tr>\n",
              "      <th>997</th>\n",
              "      <td>998</td>\n",
              "      <td>Amalfi Deo For Men</td>\n",
              "      <td>499.0</td>\n",
              "      <td>474.05</td>\n",
              "      <td>4.5</td>\n",
              "      <td>Skinn by Titan</td>\n",
              "      <td>Beauty &amp; Hygiene</td>\n",
              "      <td>This vibrant and fresh Amalfi Deo For Men is i...</td>\n",
              "      <td>NaN</td>\n",
              "      <td>https://upload.wikimedia.org/wikipedia/commons...</td>\n",
              "    </tr>\n",
              "    <tr>\n",
              "      <th>998</th>\n",
              "      <td>999</td>\n",
              "      <td>Organic -  Nippat</td>\n",
              "      <td>90.0</td>\n",
              "      <td>90.00</td>\n",
              "      <td>4.5</td>\n",
              "      <td>Phalada Pure &amp; Sure</td>\n",
              "      <td>Snacks &amp; Branded Foods</td>\n",
              "      <td>All Natural, Certified Organic, No Trans Fat, ...</td>\n",
              "      <td>4.5</td>\n",
              "      <td>https://upload.wikimedia.org/wikipedia/commons...</td>\n",
              "    </tr>\n",
              "    <tr>\n",
              "      <th>999</th>\n",
              "      <td>1000</td>\n",
              "      <td>Room Freshener - Dreams of Dew Lavender</td>\n",
              "      <td>149.0</td>\n",
              "      <td>149.00</td>\n",
              "      <td>4.8</td>\n",
              "      <td>Good Home</td>\n",
              "      <td>Cleaning &amp; Household</td>\n",
              "      <td>Fill your room with the exotic and refreshing ...</td>\n",
              "      <td>4.8</td>\n",
              "      <td>https://upload.wikimedia.org/wikipedia/commons...</td>\n",
              "    </tr>\n",
              "  </tbody>\n",
              "</table>\n",
              "<p>1000 rows × 10 columns</p>\n",
              "</div>\n",
              "      <button class=\"colab-df-convert\" onclick=\"convertToInteractive('df-a7b58007-702f-498e-a6c0-8fa3cd3f7ab8')\"\n",
              "              title=\"Convert this dataframe to an interactive table.\"\n",
              "              style=\"display:none;\">\n",
              "        \n",
              "  <svg xmlns=\"http://www.w3.org/2000/svg\" height=\"24px\"viewBox=\"0 0 24 24\"\n",
              "       width=\"24px\">\n",
              "    <path d=\"M0 0h24v24H0V0z\" fill=\"none\"/>\n",
              "    <path d=\"M18.56 5.44l.94 2.06.94-2.06 2.06-.94-2.06-.94-.94-2.06-.94 2.06-2.06.94zm-11 1L8.5 8.5l.94-2.06 2.06-.94-2.06-.94L8.5 2.5l-.94 2.06-2.06.94zm10 10l.94 2.06.94-2.06 2.06-.94-2.06-.94-.94-2.06-.94 2.06-2.06.94z\"/><path d=\"M17.41 7.96l-1.37-1.37c-.4-.4-.92-.59-1.43-.59-.52 0-1.04.2-1.43.59L10.3 9.45l-7.72 7.72c-.78.78-.78 2.05 0 2.83L4 21.41c.39.39.9.59 1.41.59.51 0 1.02-.2 1.41-.59l7.78-7.78 2.81-2.81c.8-.78.8-2.07 0-2.86zM5.41 20L4 18.59l7.72-7.72 1.47 1.35L5.41 20z\"/>\n",
              "  </svg>\n",
              "      </button>\n",
              "      \n",
              "  <style>\n",
              "    .colab-df-container {\n",
              "      display:flex;\n",
              "      flex-wrap:wrap;\n",
              "      gap: 12px;\n",
              "    }\n",
              "\n",
              "    .colab-df-convert {\n",
              "      background-color: #E8F0FE;\n",
              "      border: none;\n",
              "      border-radius: 50%;\n",
              "      cursor: pointer;\n",
              "      display: none;\n",
              "      fill: #1967D2;\n",
              "      height: 32px;\n",
              "      padding: 0 0 0 0;\n",
              "      width: 32px;\n",
              "    }\n",
              "\n",
              "    .colab-df-convert:hover {\n",
              "      background-color: #E2EBFA;\n",
              "      box-shadow: 0px 1px 2px rgba(60, 64, 67, 0.3), 0px 1px 3px 1px rgba(60, 64, 67, 0.15);\n",
              "      fill: #174EA6;\n",
              "    }\n",
              "\n",
              "    [theme=dark] .colab-df-convert {\n",
              "      background-color: #3B4455;\n",
              "      fill: #D2E3FC;\n",
              "    }\n",
              "\n",
              "    [theme=dark] .colab-df-convert:hover {\n",
              "      background-color: #434B5C;\n",
              "      box-shadow: 0px 1px 3px 1px rgba(0, 0, 0, 0.15);\n",
              "      filter: drop-shadow(0px 1px 2px rgba(0, 0, 0, 0.3));\n",
              "      fill: #FFFFFF;\n",
              "    }\n",
              "  </style>\n",
              "\n",
              "      <script>\n",
              "        const buttonEl =\n",
              "          document.querySelector('#df-a7b58007-702f-498e-a6c0-8fa3cd3f7ab8 button.colab-df-convert');\n",
              "        buttonEl.style.display =\n",
              "          google.colab.kernel.accessAllowed ? 'block' : 'none';\n",
              "\n",
              "        async function convertToInteractive(key) {\n",
              "          const element = document.querySelector('#df-a7b58007-702f-498e-a6c0-8fa3cd3f7ab8');\n",
              "          const dataTable =\n",
              "            await google.colab.kernel.invokeFunction('convertToInteractive',\n",
              "                                                     [key], {});\n",
              "          if (!dataTable) return;\n",
              "\n",
              "          const docLinkHtml = 'Like what you see? Visit the ' +\n",
              "            '<a target=\"_blank\" href=https://colab.research.google.com/notebooks/data_table.ipynb>data table notebook</a>'\n",
              "            + ' to learn more about interactive tables.';\n",
              "          element.innerHTML = '';\n",
              "          dataTable['output_type'] = 'display_data';\n",
              "          await google.colab.output.renderOutput(dataTable, element);\n",
              "          const docLink = document.createElement('div');\n",
              "          docLink.innerHTML = docLinkHtml;\n",
              "          element.appendChild(docLink);\n",
              "        }\n",
              "      </script>\n",
              "    </div>\n",
              "  </div>\n",
              "  "
            ]
          },
          "metadata": {},
          "execution_count": 34
        }
      ],
      "source": [
        "average_ratings = df.groupby('product_id')['ratings'].mean().reset_index()\n",
        "average_ratings.columns = ['product_id', 'average_rating']\n",
        "\n",
        "productset = pd.merge(products, average_ratings, on='product_id', how='left')\n",
        "productset['image'] = \"https://upload.wikimedia.org/wikipedia/commons/thumb/6/65/No-Image-Placeholder.svg/495px-No-Image-Placeholder.svg.png?20200912122019\"\n",
        "productset"
      ]
    },
    {
      "cell_type": "code",
      "source": [
        "productset['average_rating'] =productset['average_rating'].fillna(0)\n",
        "productset.isna().sum()"
      ],
      "metadata": {
        "colab": {
          "base_uri": "https://localhost:8080/"
        },
        "id": "9xpjBYTTlB0_",
        "outputId": "1861e687-9906-458b-8afb-dd402b3c0f33"
      },
      "execution_count": null,
      "outputs": [
        {
          "output_type": "execute_result",
          "data": {
            "text/plain": [
              "product_id        0\n",
              "name              0\n",
              "actual_price      0\n",
              "discount_price    0\n",
              "ratings           0\n",
              "brand             0\n",
              "category          0\n",
              "description       0\n",
              "average_rating    0\n",
              "image             0\n",
              "dtype: int64"
            ]
          },
          "metadata": {},
          "execution_count": 35
        }
      ]
    },
    {
      "cell_type": "code",
      "source": [
        "filename = 'final_product.csv'\n",
        "productset.to_csv('/content/drive/MyDrive/' + filename)"
      ],
      "metadata": {
        "id": "b3bmugdIEy5_"
      },
      "execution_count": null,
      "outputs": []
    },
    {
      "cell_type": "markdown",
      "metadata": {
        "id": "S5owZO80BRV9"
      },
      "source": [
        "# ML Model Development (Data Training & Evaluate Model)"
      ]
    },
    {
      "cell_type": "markdown",
      "metadata": {
        "id": "ZTTXQTj0u8o7"
      },
      "source": [
        "## import modules"
      ]
    },
    {
      "cell_type": "code",
      "execution_count": null,
      "metadata": {
        "colab": {
          "base_uri": "https://localhost:8080/"
        },
        "id": "g7FOUJ3SvAgL",
        "outputId": "4b3bfcfc-16a6-45bb-849f-76bacaee699b"
      },
      "outputs": [
        {
          "output_type": "stream",
          "name": "stdout",
          "text": [
            "Looking in indexes: https://pypi.org/simple, https://us-python.pkg.dev/colab-wheels/public/simple/\n",
            "Requirement already satisfied: tensorflow in /usr/local/lib/python3.10/dist-packages (2.12.0)\n",
            "Requirement already satisfied: absl-py>=1.0.0 in /usr/local/lib/python3.10/dist-packages (from tensorflow) (1.4.0)\n",
            "Requirement already satisfied: astunparse>=1.6.0 in /usr/local/lib/python3.10/dist-packages (from tensorflow) (1.6.3)\n",
            "Requirement already satisfied: flatbuffers>=2.0 in /usr/local/lib/python3.10/dist-packages (from tensorflow) (23.3.3)\n",
            "Requirement already satisfied: gast<=0.4.0,>=0.2.1 in /usr/local/lib/python3.10/dist-packages (from tensorflow) (0.4.0)\n",
            "Requirement already satisfied: google-pasta>=0.1.1 in /usr/local/lib/python3.10/dist-packages (from tensorflow) (0.2.0)\n",
            "Requirement already satisfied: grpcio<2.0,>=1.24.3 in /usr/local/lib/python3.10/dist-packages (from tensorflow) (1.54.0)\n",
            "Requirement already satisfied: h5py>=2.9.0 in /usr/local/lib/python3.10/dist-packages (from tensorflow) (3.8.0)\n",
            "Requirement already satisfied: jax>=0.3.15 in /usr/local/lib/python3.10/dist-packages (from tensorflow) (0.4.10)\n",
            "Requirement already satisfied: keras<2.13,>=2.12.0 in /usr/local/lib/python3.10/dist-packages (from tensorflow) (2.12.0)\n",
            "Requirement already satisfied: libclang>=13.0.0 in /usr/local/lib/python3.10/dist-packages (from tensorflow) (16.0.0)\n",
            "Requirement already satisfied: numpy<1.24,>=1.22 in /usr/local/lib/python3.10/dist-packages (from tensorflow) (1.22.4)\n",
            "Requirement already satisfied: opt-einsum>=2.3.2 in /usr/local/lib/python3.10/dist-packages (from tensorflow) (3.3.0)\n",
            "Requirement already satisfied: packaging in /usr/local/lib/python3.10/dist-packages (from tensorflow) (23.1)\n",
            "Requirement already satisfied: protobuf!=4.21.0,!=4.21.1,!=4.21.2,!=4.21.3,!=4.21.4,!=4.21.5,<5.0.0dev,>=3.20.3 in /usr/local/lib/python3.10/dist-packages (from tensorflow) (3.20.3)\n",
            "Requirement already satisfied: setuptools in /usr/local/lib/python3.10/dist-packages (from tensorflow) (67.7.2)\n",
            "Requirement already satisfied: six>=1.12.0 in /usr/local/lib/python3.10/dist-packages (from tensorflow) (1.16.0)\n",
            "Requirement already satisfied: tensorboard<2.13,>=2.12 in /usr/local/lib/python3.10/dist-packages (from tensorflow) (2.12.2)\n",
            "Requirement already satisfied: tensorflow-estimator<2.13,>=2.12.0 in /usr/local/lib/python3.10/dist-packages (from tensorflow) (2.12.0)\n",
            "Requirement already satisfied: termcolor>=1.1.0 in /usr/local/lib/python3.10/dist-packages (from tensorflow) (2.3.0)\n",
            "Requirement already satisfied: typing-extensions>=3.6.6 in /usr/local/lib/python3.10/dist-packages (from tensorflow) (4.5.0)\n",
            "Requirement already satisfied: wrapt<1.15,>=1.11.0 in /usr/local/lib/python3.10/dist-packages (from tensorflow) (1.14.1)\n",
            "Requirement already satisfied: tensorflow-io-gcs-filesystem>=0.23.1 in /usr/local/lib/python3.10/dist-packages (from tensorflow) (0.32.0)\n",
            "Requirement already satisfied: wheel<1.0,>=0.23.0 in /usr/local/lib/python3.10/dist-packages (from astunparse>=1.6.0->tensorflow) (0.40.0)\n",
            "Requirement already satisfied: ml-dtypes>=0.1.0 in /usr/local/lib/python3.10/dist-packages (from jax>=0.3.15->tensorflow) (0.1.0)\n",
            "Requirement already satisfied: scipy>=1.7 in /usr/local/lib/python3.10/dist-packages (from jax>=0.3.15->tensorflow) (1.10.1)\n",
            "Requirement already satisfied: google-auth<3,>=1.6.3 in /usr/local/lib/python3.10/dist-packages (from tensorboard<2.13,>=2.12->tensorflow) (2.17.3)\n",
            "Requirement already satisfied: google-auth-oauthlib<1.1,>=0.5 in /usr/local/lib/python3.10/dist-packages (from tensorboard<2.13,>=2.12->tensorflow) (1.0.0)\n",
            "Requirement already satisfied: markdown>=2.6.8 in /usr/local/lib/python3.10/dist-packages (from tensorboard<2.13,>=2.12->tensorflow) (3.4.3)\n",
            "Requirement already satisfied: requests<3,>=2.21.0 in /usr/local/lib/python3.10/dist-packages (from tensorboard<2.13,>=2.12->tensorflow) (2.27.1)\n",
            "Requirement already satisfied: tensorboard-data-server<0.8.0,>=0.7.0 in /usr/local/lib/python3.10/dist-packages (from tensorboard<2.13,>=2.12->tensorflow) (0.7.0)\n",
            "Requirement already satisfied: tensorboard-plugin-wit>=1.6.0 in /usr/local/lib/python3.10/dist-packages (from tensorboard<2.13,>=2.12->tensorflow) (1.8.1)\n",
            "Requirement already satisfied: werkzeug>=1.0.1 in /usr/local/lib/python3.10/dist-packages (from tensorboard<2.13,>=2.12->tensorflow) (2.3.0)\n",
            "Requirement already satisfied: cachetools<6.0,>=2.0.0 in /usr/local/lib/python3.10/dist-packages (from google-auth<3,>=1.6.3->tensorboard<2.13,>=2.12->tensorflow) (5.3.0)\n",
            "Requirement already satisfied: pyasn1-modules>=0.2.1 in /usr/local/lib/python3.10/dist-packages (from google-auth<3,>=1.6.3->tensorboard<2.13,>=2.12->tensorflow) (0.3.0)\n",
            "Requirement already satisfied: rsa<5,>=3.1.4 in /usr/local/lib/python3.10/dist-packages (from google-auth<3,>=1.6.3->tensorboard<2.13,>=2.12->tensorflow) (4.9)\n",
            "Requirement already satisfied: requests-oauthlib>=0.7.0 in /usr/local/lib/python3.10/dist-packages (from google-auth-oauthlib<1.1,>=0.5->tensorboard<2.13,>=2.12->tensorflow) (1.3.1)\n",
            "Requirement already satisfied: urllib3<1.27,>=1.21.1 in /usr/local/lib/python3.10/dist-packages (from requests<3,>=2.21.0->tensorboard<2.13,>=2.12->tensorflow) (1.26.15)\n",
            "Requirement already satisfied: certifi>=2017.4.17 in /usr/local/lib/python3.10/dist-packages (from requests<3,>=2.21.0->tensorboard<2.13,>=2.12->tensorflow) (2022.12.7)\n",
            "Requirement already satisfied: charset-normalizer~=2.0.0 in /usr/local/lib/python3.10/dist-packages (from requests<3,>=2.21.0->tensorboard<2.13,>=2.12->tensorflow) (2.0.12)\n",
            "Requirement already satisfied: idna<4,>=2.5 in /usr/local/lib/python3.10/dist-packages (from requests<3,>=2.21.0->tensorboard<2.13,>=2.12->tensorflow) (3.4)\n",
            "Requirement already satisfied: MarkupSafe>=2.1.1 in /usr/local/lib/python3.10/dist-packages (from werkzeug>=1.0.1->tensorboard<2.13,>=2.12->tensorflow) (2.1.2)\n",
            "Requirement already satisfied: pyasn1<0.6.0,>=0.4.6 in /usr/local/lib/python3.10/dist-packages (from pyasn1-modules>=0.2.1->google-auth<3,>=1.6.3->tensorboard<2.13,>=2.12->tensorflow) (0.5.0)\n",
            "Requirement already satisfied: oauthlib>=3.0.0 in /usr/local/lib/python3.10/dist-packages (from requests-oauthlib>=0.7.0->google-auth-oauthlib<1.1,>=0.5->tensorboard<2.13,>=2.12->tensorflow) (3.2.2)\n"
          ]
        }
      ],
      "source": [
        "!pip install tensorflow"
      ]
    },
    {
      "cell_type": "code",
      "execution_count": null,
      "metadata": {
        "colab": {
          "base_uri": "https://localhost:8080/"
        },
        "id": "X_FJhW1htf1_",
        "outputId": "0929d9fe-dfab-46c1-edcc-2c5bf1c7e604"
      },
      "outputs": [
        {
          "output_type": "stream",
          "name": "stdout",
          "text": [
            "Looking in indexes: https://pypi.org/simple, https://us-python.pkg.dev/colab-wheels/public/simple/\n",
            "Requirement already satisfied: scipy in /usr/local/lib/python3.10/dist-packages (1.10.1)\n",
            "Requirement already satisfied: numpy<1.27.0,>=1.19.5 in /usr/local/lib/python3.10/dist-packages (from scipy) (1.22.4)\n"
          ]
        }
      ],
      "source": [
        "!pip install scipy"
      ]
    },
    {
      "cell_type": "code",
      "execution_count": null,
      "metadata": {
        "id": "NXzlZ6pJem8y"
      },
      "outputs": [],
      "source": [
        "from sklearn.preprocessing import LabelEncoder, MinMaxScaler # rescale and encode categorical data\n",
        "from sklearn.model_selection import train_test_split # split data\n",
        "# module to make neural network model for content based filtering\n",
        "import tensorflow as tf\n",
        "from tensorflow.keras.models import Sequential \n",
        "from tensorflow.keras.layers import Input, Embedding, Flatten, Dense, Concatenate\n",
        "from tensorflow.keras.models import Model\n",
        "from tensorflow.keras.optimizers import Adam\n",
        "from tensorflow.keras.losses import MeanSquaredError\n",
        "from sklearn.metrics import mean_squared_error, mean_absolute_error # evaluate model \n",
        "# module to create collaborative filtering recommender system\n",
        "from sklearn.utils import shuffle\n",
        "from random import choices"
      ]
    },
    {
      "cell_type": "markdown",
      "metadata": {
        "id": "pv1UtmmnMA88"
      },
      "source": []
    },
    {
      "cell_type": "markdown",
      "metadata": {
        "id": "Y58kRRURvGo_"
      },
      "source": [
        "## Load Data"
      ]
    },
    {
      "cell_type": "code",
      "execution_count": null,
      "metadata": {
        "id": "E-iC_Nnf8Jp2"
      },
      "outputs": [],
      "source": [
        "# Load the clean dataset\n",
        "df = pd.read_csv('/content/drive/MyDrive/final_dataset.csv')\n",
        "\n",
        "df = df.drop([\"Unnamed: 0\",\"description\"],axis=1)"
      ]
    },
    {
      "cell_type": "code",
      "source": [
        "# Split the data into training and testing sets (if not already done)\n",
        "# Preprocessed features and target variable\n",
        "\n",
        "# Scale numerical features\n",
        "dataset = df.copy()\n",
        "scaler = MinMaxScaler()\n",
        "dataset[[\"actual_price\", \"discount_price\", \"ratings\", \"add_to_cart_order\"]] = scaler.fit_transform(dataset[[\"actual_price\", \"discount_price\", \"ratings\", \"add_to_cart_order\"]])\n",
        "\n",
        "# Convert 'category' and 'brand' column to numeric labels\n",
        "dataset['category_id'] = LabelEncoder().fit_transform(dataset['category'])\n",
        "dataset['brand_id'] = LabelEncoder().fit_transform(dataset['brand'])\n",
        "\n",
        "\n",
        "# Split the dataset into train and test sets\n",
        "train, test = train_test_split(dataset, test_size=0.2, random_state=42)\n",
        "\n",
        "features = [\"category_id\", \"discount_price\", \"reordered\", \"add_to_cart_order\"]\n",
        "x = train[features]\n",
        "target = train[\"ratings\"]"
      ],
      "metadata": {
        "id": "Kj40jQnBIss_"
      },
      "execution_count": null,
      "outputs": []
    },
    {
      "cell_type": "markdown",
      "metadata": {
        "id": "zBW2U5VOfU9r"
      },
      "source": [
        "## Collaborative filtering "
      ]
    },
    {
      "cell_type": "code",
      "source": [
        "import numpy as np\n",
        "import pandas as pd\n",
        "from sklearn.model_selection import train_test_split\n",
        "from tensorflow.keras.layers import Input, Embedding, Flatten, Dense, Concatenate\n",
        "from tensorflow.keras.models import Model\n",
        "from tensorflow.keras.optimizers import Adam\n",
        "from tensorflow.keras.regularizers import l2\n",
        "from tensorflow.keras.utils import plot_model\n",
        "\n",
        "\n",
        "# Define the number of users and items\n",
        "num_users = len(dataset['user_id'].unique())\n",
        "num_items = len(dataset['product_id'].unique())\n",
        "\n",
        "# Convert user and item IDs to sequential integers\n",
        "user_mapping = {user_id: i for i, user_id in enumerate(dataset['user_id'].unique())}\n",
        "item_mapping = {item_id: i for i, item_id in enumerate(dataset['product_id'].unique())}\n",
        "\n",
        "train_data  = train.copy()\n",
        "test_data  = test.copy()\n",
        "train_data['user'] = train_data['user_id'].map(user_mapping)\n",
        "train_data['item'] = train_data['product_id'].map(item_mapping)\n",
        "test_data['user'] = test_data['user_id'].map(user_mapping)\n",
        "test_data['item'] = test_data['product_id'].map(item_mapping)\n",
        "\n",
        "# Define the embedding dimensions and MLP layers\n",
        "embedding_dim = 16\n",
        "mlp_layers = [64, 32, 16]\n",
        "\n",
        "# Define the input layers\n",
        "user_input = Input(shape=(1,))\n",
        "item_input = Input(shape=(1,))\n",
        "\n",
        "# User and item embedding layers\n",
        "user_embedding = Embedding(input_dim=num_users, output_dim=embedding_dim)(user_input)\n",
        "item_embedding = Embedding(input_dim=num_items, output_dim=embedding_dim)(item_input)\n",
        "\n",
        "# Flatten the embedding layers\n",
        "user_flatten = Flatten()(user_embedding)\n",
        "item_flatten = Flatten()(item_embedding)\n",
        "\n",
        "# Concatenate the user and item embeddings\n",
        "concat = Concatenate()([user_flatten, item_flatten])\n",
        "\n",
        "# MLP layers\n",
        "mlp_output = concat\n",
        "for layer_size in mlp_layers:\n",
        "    mlp_output = Dense(layer_size, activation='relu')(mlp_output)\n",
        "\n",
        "# Output layer\n",
        "output = Dense(1)(mlp_output)\n",
        "\n",
        "# Create the NCF model\n",
        "clfmodel = Model(inputs=[user_input, item_input], outputs=output)\n",
        "\n",
        "# Compile the model\n",
        "clfmodel.compile(optimizer=Adam(), loss='mean_squared_error')\n",
        "\n",
        "# Train the model\n",
        "clfmodel.fit([train_data['user'], train_data['item']], train_data['ratings'],\n",
        "          epochs=10, batch_size=256, validation_data=([test_data['user'], test_data['item']], test_data['ratings']))\n",
        "\n",
        "# Generate predictions on the test set\n",
        "predictions = clfmodel.predict([test_data['user'], test_data['item']]).flatten()\n",
        "\n",
        "# Evaluate the model using RMSE\n",
        "mse = np.mean((predictions - test_data['ratings'])**2)\n",
        "rmse = np.sqrt(mse)\n",
        "print(\"RMSE: {:.4f}\".format(rmse))\n"
      ],
      "metadata": {
        "colab": {
          "base_uri": "https://localhost:8080/"
        },
        "id": "zxPy4yeGZeef",
        "outputId": "0d13cece-810f-460e-b8c9-b179b6b39ed4"
      },
      "execution_count": null,
      "outputs": [
        {
          "output_type": "stream",
          "name": "stdout",
          "text": [
            "Epoch 1/10\n",
            "67/67 [==============================] - 5s 50ms/step - loss: 0.2910 - val_loss: 0.0165\n",
            "Epoch 2/10\n",
            "67/67 [==============================] - 2s 25ms/step - loss: 0.0059 - val_loss: 0.0025\n",
            "Epoch 3/10\n",
            "67/67 [==============================] - 1s 11ms/step - loss: 0.0011 - val_loss: 0.0011\n",
            "Epoch 4/10\n",
            "67/67 [==============================] - 1s 8ms/step - loss: 3.7663e-04 - val_loss: 8.2739e-04\n",
            "Epoch 5/10\n",
            "67/67 [==============================] - 1s 9ms/step - loss: 1.6303e-04 - val_loss: 7.1273e-04\n",
            "Epoch 6/10\n",
            "67/67 [==============================] - 1s 17ms/step - loss: 8.1742e-05 - val_loss: 6.6943e-04\n",
            "Epoch 7/10\n",
            "67/67 [==============================] - 0s 7ms/step - loss: 4.5602e-05 - val_loss: 6.5056e-04\n",
            "Epoch 8/10\n",
            "67/67 [==============================] - 0s 5ms/step - loss: 2.7147e-05 - val_loss: 6.4183e-04\n",
            "Epoch 9/10\n",
            "67/67 [==============================] - 0s 5ms/step - loss: 1.7229e-05 - val_loss: 6.3925e-04\n",
            "Epoch 10/10\n",
            "67/67 [==============================] - 0s 5ms/step - loss: 1.2971e-05 - val_loss: 6.3601e-04\n",
            "134/134 [==============================] - 0s 2ms/step\n",
            "RMSE: 0.0252\n"
          ]
        }
      ]
    },
    {
      "cell_type": "code",
      "source": [
        "user_id = 126093  # Replace with the ID of the desired user\n",
        "num_recommendations = 10  # Number of recommendations to generate\n",
        "\n",
        "# Generate item recommendations for the specific user\n",
        "user_items = np.full((num_items,), user_mapping[user_id])\n",
        "item_ids = np.arange(num_items)\n",
        "\n",
        "# Predict ratings for the user-item combinations\n",
        "predictions = clfmodel.predict([user_items, item_ids]).flatten()\n",
        "\n",
        "# Create a DataFrame of predictions for the user\n",
        "recommendations_df = pd.DataFrame({'product_id': item_mapping.keys(), 'rating': predictions})\n",
        "\n",
        "# Sort the DataFrame by predicted rating in descending order\n",
        "recommendations_df = recommendations_df.sort_values('rating', ascending=False)\n",
        "\n",
        "# Select the top 10 recommendations\n",
        "top_10_recs = recommendations_df.nlargest(num_recommendations, 'rating')\n",
        "\n",
        "# Display the top 10 recommendations for the user\n",
        "print(top_10_recs[['product_id', 'rating']])"
      ],
      "metadata": {
        "colab": {
          "base_uri": "https://localhost:8080/"
        },
        "id": "soqBxG3caiYb",
        "outputId": "a4b27cd9-0d41-4aae-a4e8-a2d71ca05b04"
      },
      "execution_count": null,
      "outputs": [
        {
          "output_type": "stream",
          "name": "stdout",
          "text": [
            "25/25 [==============================] - 0s 2ms/step\n",
            "     product_id    rating\n",
            "332         925  1.001761\n",
            "145          94  1.000964\n",
            "407         977  1.000534\n",
            "62           45  0.999853\n",
            "85          920  0.999554\n",
            "416         669  0.999304\n",
            "43          169  0.999218\n",
            "80          907  0.999007\n",
            "93           25  0.998842\n",
            "429         734  0.998589\n"
          ]
        }
      ]
    },
    {
      "cell_type": "markdown",
      "metadata": {
        "id": "Nf5vdYXvfeK4"
      },
      "source": [
        "## Content based filtering"
      ]
    },
    {
      "cell_type": "code",
      "execution_count": null,
      "metadata": {
        "id": "YUgsMcYKAhIg"
      },
      "outputs": [],
      "source": [
        "# Split the data into training and testing sets (if not already done)\n",
        "# Preprocessed features and target variable\n",
        "\n",
        "# Scale numerical features\n",
        "dataset = df.copy()\n",
        "scaler = MinMaxScaler()\n",
        "dataset[[\"actual_price\", \"discount_price\", \"ratings\", \"add_to_cart_order\"]] = scaler.fit_transform(dataset[[\"actual_price\", \"discount_price\", \"ratings\", \"add_to_cart_order\"]])\n",
        "\n",
        "# Convert 'category' and 'brand' column to numeric labels\n",
        "dataset['category_id'] = LabelEncoder().fit_transform(dataset['category'])\n",
        "dataset['brand_id'] = LabelEncoder().fit_transform(dataset['brand'])\n",
        "\n",
        "\n",
        "# Split the dataset into train and test sets\n",
        "train, test = train_test_split(dataset, test_size=0.2, random_state=42)\n",
        "\n",
        "features = [\"category_id\", \"discount_price\", \"reordered\", \"add_to_cart_order\"]\n",
        "x = train[features]\n",
        "target = train[\"ratings\"]"
      ]
    },
    {
      "cell_type": "markdown",
      "metadata": {
        "id": "oEdFoTo9fphK"
      },
      "source": [
        "### Neural network"
      ]
    },
    {
      "cell_type": "code",
      "execution_count": null,
      "metadata": {
        "colab": {
          "base_uri": "https://localhost:8080/"
        },
        "id": "QTcfPq4XFR0-",
        "outputId": "28ffab5f-ea08-4697-d6a5-49c8ef2156b3"
      },
      "outputs": [
        {
          "output_type": "stream",
          "name": "stdout",
          "text": [
            "Epoch 1/10\n",
            "533/533 [==============================] - 4s 5ms/step - loss: 0.0383\n",
            "Epoch 2/10\n",
            "533/533 [==============================] - 2s 3ms/step - loss: 0.0289\n",
            "Epoch 3/10\n",
            "533/533 [==============================] - 2s 3ms/step - loss: 0.0283\n",
            "Epoch 4/10\n",
            "533/533 [==============================] - 2s 3ms/step - loss: 0.0269\n",
            "Epoch 5/10\n",
            "533/533 [==============================] - 2s 3ms/step - loss: 0.0256\n",
            "Epoch 6/10\n",
            "533/533 [==============================] - 2s 4ms/step - loss: 0.0249\n",
            "Epoch 7/10\n",
            "533/533 [==============================] - 2s 3ms/step - loss: 0.0243\n",
            "Epoch 8/10\n",
            "533/533 [==============================] - 2s 3ms/step - loss: 0.0240\n",
            "Epoch 9/10\n",
            "533/533 [==============================] - 2s 3ms/step - loss: 0.0237\n",
            "Epoch 10/10\n",
            "533/533 [==============================] - 2s 3ms/step - loss: 0.0235\n"
          ]
        },
        {
          "output_type": "execute_result",
          "data": {
            "text/plain": [
              "<keras.callbacks.History at 0x7f28f442da50>"
            ]
          },
          "metadata": {},
          "execution_count": 13
        }
      ],
      "source": [
        "# Define input layers\n",
        "#brand_input = Input(shape=(1,))\n",
        "category_input = Input(shape=(1,))\n",
        "other_features_input = Input(shape=(3,))\n",
        "\n",
        "# Embedding layers for user ID and category ID\n",
        "#brand_embedding = Embedding(input_dim=473, output_dim=32)(brand_input)\n",
        "category_embedding = Embedding(input_dim=9, output_dim=32)(category_input)\n",
        "\n",
        "# Flatten the embeddings\n",
        "#user_flatten = Flatten()(user_embedding)\n",
        "category_flatten = Flatten()(category_embedding)\n",
        "\n",
        "# Concatenate the embeddings and other features\n",
        "concatenated = Concatenate()([category_flatten, other_features_input])\n",
        "\n",
        "# Dense layers\n",
        "x = Dense(64, activation='relu')(concatenated)\n",
        "x = Dense(64, activation='relu')(x)\n",
        "x = Dense(64, activation='relu')(x)\n",
        "\n",
        "# Output layer\n",
        "output = Dense(1, activation='linear')(x)\n",
        "\n",
        "# Create the model\n",
        "cbfmodel = Model(inputs=[category_input, other_features_input], outputs=output)\n",
        "\n",
        "# Compile and train the model\n",
        "cbfmodel.compile(optimizer='adam', loss='mean_squared_error')\n",
        "cbfmodel.fit([train['category_id'], train[[\"discount_price\", \"reordered\", \"add_to_cart_order\"]]], target, epochs=10,batch_size=32)\n",
        "\n"
      ]
    },
    {
      "cell_type": "markdown",
      "source": [
        "**GET PREDICTION**"
      ],
      "metadata": {
        "id": "rUr4heUIXzrZ"
      }
    },
    {
      "cell_type": "code",
      "execution_count": null,
      "metadata": {
        "id": "qA27COAcGU0q",
        "colab": {
          "base_uri": "https://localhost:8080/"
        },
        "outputId": "cbb1335a-0a84-4a58-9881-b08a374ad938"
      },
      "outputs": [
        {
          "output_type": "stream",
          "name": "stdout",
          "text": [
            "666/666 [==============================] - 1s 1ms/step\n",
            "       product_id                             name  discount_price  \\\n",
            "42            276             Ultimate Choco Berry        0.260930   \n",
            "83            778                  Wafer - Vanille        0.052464   \n",
            "91             45               Plain Green Olives        0.046912   \n",
            "143           920                 Hair Dryer HD180        0.551881   \n",
            "968            18                   Salted Pumpkin        0.047189   \n",
            "1910          635              Black Sliced Olives        0.047189   \n",
            "2626          669                            Syrup        0.052741   \n",
            "6710          698           Spice - Smoked Paprika        0.049702   \n",
            "8927          813  White Radiance Whip - UV SPF 30        0.468883   \n",
            "15564         395          For Man Eau De Toilette        0.667592   \n",
            "\n",
            "                     category  \n",
            "42     Snacks & Branded Foods  \n",
            "83       Gourmet & World Food  \n",
            "91       Gourmet & World Food  \n",
            "143          Beauty & Hygiene  \n",
            "968      Gourmet & World Food  \n",
            "1910     Gourmet & World Food  \n",
            "2626     Gourmet & World Food  \n",
            "6710     Gourmet & World Food  \n",
            "8927         Beauty & Hygiene  \n",
            "15564        Beauty & Hygiene  \n"
          ]
        }
      ],
      "source": [
        "# Specify the user ID for which you want to make recommendations\n",
        "target_user_id = 126093\n",
        "# Predict the ratings for all products in the dataset\n",
        "all_products_data = dataset[dataset['user_id'] != target_user_id]\n",
        "X_all = [all_products_data['category_id'], all_products_data[[\"discount_price\", \"reordered\", \"add_to_cart_order\"]]]\n",
        "predicted_ratings = cbfmodel.predict(X_all).flatten()\n",
        "\n",
        "\n",
        "# Create a list of tuples containing product ID and predicted rating\n",
        "product_ratings = list(zip(all_products_data['product_id'], predicted_ratings))\n",
        "\n",
        "# Sort the product ratings by predicted rating in descending order\n",
        "product_ratings.sort(key=lambda x: x[1], reverse=True)\n",
        "\n",
        "# Get the top 10 recommendations without duplicate product IDs\n",
        "recommended_products = []\n",
        "recommended_product_ids = set()\n",
        "\n",
        "for product_id, _ in product_ratings:\n",
        "    if product_id not in recommended_product_ids:\n",
        "        recommended_products.append((product_id, _))\n",
        "        recommended_product_ids.add(product_id)\n",
        "    if len(recommended_products) >= 10:\n",
        "        break\n",
        "\n",
        "# Filter the original dataset based on the recommended product IDs\n",
        "top_10_recommendations = all_products_data[\n",
        "    all_products_data['product_id'].isin([p[0] for p in recommended_products])\n",
        "]\n",
        "\n",
        "# Remove duplicate product IDs from the recommendations\n",
        "top_10_recommendations = top_10_recommendations.drop_duplicates(subset='product_id')\n",
        "\n",
        "# Keep the top 10 recommendations (if there are more than 10 after removing duplicates)\n",
        "top_10_recommendations = top_10_recommendations.head(10)\n",
        "# Print the top 10 product recommendations\n",
        "print(top_10_recommendations[['product_id', 'name','discount_price','category']])"
      ]
    },
    {
      "cell_type": "markdown",
      "source": [
        "**TEST/EVALUATEE MODEL**"
      ],
      "metadata": {
        "id": "7adSo3ldX6fi"
      }
    },
    {
      "cell_type": "code",
      "execution_count": null,
      "metadata": {
        "id": "91BOfglhAtpB",
        "colab": {
          "base_uri": "https://localhost:8080/"
        },
        "outputId": "2a149627-1845-4073-8cf4-80b1a2eec248"
      },
      "outputs": [
        {
          "output_type": "stream",
          "name": "stdout",
          "text": [
            "134/134 [==============================] - 0s 1ms/step\n"
          ]
        }
      ],
      "source": [
        "# test dataset\n",
        "X_test = [test['category_id'], test[[\"discount_price\", \"reordered\", \"add_to_cart_order\"]]]\n",
        "predictions = cbfmodel.predict(X_test)"
      ]
    },
    {
      "cell_type": "code",
      "execution_count": null,
      "metadata": {
        "id": "WDc9Jy0GdHJh",
        "colab": {
          "base_uri": "https://localhost:8080/"
        },
        "outputId": "a65e5165-ec46-4a7b-e0fe-fcdaf1065c1e"
      },
      "outputs": [
        {
          "output_type": "stream",
          "name": "stdout",
          "text": [
            "Mean Squared Error (MSE): 0.024716720253243445\n",
            "Mean Absolute Error (MAE): 0.11132258945227788\n"
          ]
        }
      ],
      "source": [
        "# Assuming you have already trained and obtained predictions from your model\n",
        "y_true = test['ratings']  # True labels\n",
        "y_pred = predictions  # Predicted labels\n",
        "\n",
        "mse = mean_squared_error(y_true, y_pred)\n",
        "\n",
        "# Calculate mean absolute error (MAE)\n",
        "mae = mean_absolute_error(y_true, y_pred)\n",
        "\n",
        "# Print the evaluation metrics\n",
        "print(\"Mean Squared Error (MSE):\", mse)\n",
        "print(\"Mean Absolute Error (MAE):\", mae)"
      ]
    },
    {
      "cell_type": "markdown",
      "metadata": {
        "id": "1nq0YVrFgVlC"
      },
      "source": [
        "# Combine Recommender System Model (**GET PREDICTION**)"
      ]
    },
    {
      "cell_type": "markdown",
      "metadata": {
        "id": "dZi_7iU-KC4R"
      },
      "source": [
        "## get the info from collaborative filtering model"
      ]
    },
    {
      "cell_type": "code",
      "source": [
        "clfrecs = top_10_recs[['product_id', 'rating']].copy()\n",
        "clfrecs = clfrecs.rename(columns={'rating': 'clf_ratings'})\n",
        "clfinfo = pd.merge(clfrecs,df,on='product_id')\n",
        "clfinfo = clfinfo.drop_duplicates(subset='product_id', keep='first')\n",
        "clfinfo = clfinfo.drop(['user_id','add_to_cart_order','reordered','actual_price','ratings','brand'],axis=1) \n",
        "# Identify the index of the column to move\n",
        "column_index = clfinfo.columns.get_loc('clf_ratings')\n",
        "\n",
        "# Create a list of column names in the desired order\n",
        "new_columns = list(clfinfo.columns[:column_index]) + list(clfinfo.columns[column_index+1:]) + ['clf_ratings']\n",
        "\n",
        "# Reorder the columns in the DataFrame\n",
        "clfinfo = clfinfo[new_columns]"
      ],
      "metadata": {
        "id": "kBHUIMB2cm_j"
      },
      "execution_count": null,
      "outputs": []
    },
    {
      "cell_type": "markdown",
      "metadata": {
        "id": "BbuVNUzuKOml"
      },
      "source": [
        "## get the info from content based filtering model"
      ]
    },
    {
      "cell_type": "code",
      "execution_count": null,
      "metadata": {
        "id": "sD6OljcCcmAG"
      },
      "outputs": [],
      "source": [
        "pred_rating = pd.DataFrame(product_ratings)\n",
        "pred_rating.columns =['product_id','cbf_ratings']\n",
        "pred_rating = pred_rating.drop_duplicates(subset='product_id', keep='first')\n",
        "cbfrecs = top_10_recommendations[['product_id', 'name','discount_price','category']]\n",
        "cbfinfo = pd.merge(cbfrecs, pred_rating, on='product_id')\n",
        "cbfinfo = cbfinfo.drop_duplicates(subset='product_id', keep='first')\n",
        "cbfinfo['discount_price'] = cbfinfo['discount_price'] * (df['discount_price'].max()- df['discount_price'].min() ) + df['discount_price'].min()\n"
      ]
    },
    {
      "cell_type": "markdown",
      "metadata": {
        "id": "x09wnvyFKZmM"
      },
      "source": [
        "## get predicted ratings from content based filtering on top 10 collaborative filtering recommended items "
      ]
    },
    {
      "cell_type": "code",
      "execution_count": null,
      "metadata": {
        "id": "jASzcB8lZ3Cr",
        "colab": {
          "base_uri": "https://localhost:8080/",
          "height": 511
        },
        "outputId": "7acf2811-cf62-474b-ec0d-fda22ad8c944"
      },
      "outputs": [
        {
          "output_type": "execute_result",
          "data": {
            "text/plain": [
              "   product_id                                       name  discount_price  \\\n",
              "0         925                      Hair Gel Regular Hold           22.50   \n",
              "1          94                    SPF 15 Sunscreen Lotion          209.30   \n",
              "2         977  Styling Shampoo For Men - Cooling & Style          399.00   \n",
              "3          45                         Plain Green Olives          179.00   \n",
              "4         920                           Hair Dryer HD180         1998.15   \n",
              "5         669                                      Syrup          200.00   \n",
              "6         169    Lavender & Vanilla Handmade Luxury Soap          275.00   \n",
              "7         907                         Sauce - Aglio Olio          290.00   \n",
              "8          25                              Veggie Cutter          195.00   \n",
              "9         734     Lavender Try Me Personal Care Gift Set          850.00   \n",
              "\n",
              "                 category  clf_ratings  cbf_ratings  \n",
              "0        Beauty & Hygiene     1.001761     0.691832  \n",
              "1        Beauty & Hygiene     1.000964     0.720035  \n",
              "2        Beauty & Hygiene     1.000534     0.744919  \n",
              "3    Gourmet & World Food     0.999853     0.858148  \n",
              "4        Beauty & Hygiene     0.999554     0.962413  \n",
              "5    Gourmet & World Food     0.999304     0.852507  \n",
              "6        Beauty & Hygiene     0.999218     0.735281  \n",
              "7    Gourmet & World Food     0.999007     0.817034  \n",
              "8  Kitchen, Garden & Pets     0.998842     0.683080  \n",
              "9        Beauty & Hygiene     0.998589     0.762915  "
            ],
            "text/html": [
              "\n",
              "  <div id=\"df-27abd058-af7f-49b8-929e-f8b0df5e5a35\">\n",
              "    <div class=\"colab-df-container\">\n",
              "      <div>\n",
              "<style scoped>\n",
              "    .dataframe tbody tr th:only-of-type {\n",
              "        vertical-align: middle;\n",
              "    }\n",
              "\n",
              "    .dataframe tbody tr th {\n",
              "        vertical-align: top;\n",
              "    }\n",
              "\n",
              "    .dataframe thead th {\n",
              "        text-align: right;\n",
              "    }\n",
              "</style>\n",
              "<table border=\"1\" class=\"dataframe\">\n",
              "  <thead>\n",
              "    <tr style=\"text-align: right;\">\n",
              "      <th></th>\n",
              "      <th>product_id</th>\n",
              "      <th>name</th>\n",
              "      <th>discount_price</th>\n",
              "      <th>category</th>\n",
              "      <th>clf_ratings</th>\n",
              "      <th>cbf_ratings</th>\n",
              "    </tr>\n",
              "  </thead>\n",
              "  <tbody>\n",
              "    <tr>\n",
              "      <th>0</th>\n",
              "      <td>925</td>\n",
              "      <td>Hair Gel Regular Hold</td>\n",
              "      <td>22.50</td>\n",
              "      <td>Beauty &amp; Hygiene</td>\n",
              "      <td>1.001761</td>\n",
              "      <td>0.691832</td>\n",
              "    </tr>\n",
              "    <tr>\n",
              "      <th>1</th>\n",
              "      <td>94</td>\n",
              "      <td>SPF 15 Sunscreen Lotion</td>\n",
              "      <td>209.30</td>\n",
              "      <td>Beauty &amp; Hygiene</td>\n",
              "      <td>1.000964</td>\n",
              "      <td>0.720035</td>\n",
              "    </tr>\n",
              "    <tr>\n",
              "      <th>2</th>\n",
              "      <td>977</td>\n",
              "      <td>Styling Shampoo For Men - Cooling &amp; Style</td>\n",
              "      <td>399.00</td>\n",
              "      <td>Beauty &amp; Hygiene</td>\n",
              "      <td>1.000534</td>\n",
              "      <td>0.744919</td>\n",
              "    </tr>\n",
              "    <tr>\n",
              "      <th>3</th>\n",
              "      <td>45</td>\n",
              "      <td>Plain Green Olives</td>\n",
              "      <td>179.00</td>\n",
              "      <td>Gourmet &amp; World Food</td>\n",
              "      <td>0.999853</td>\n",
              "      <td>0.858148</td>\n",
              "    </tr>\n",
              "    <tr>\n",
              "      <th>4</th>\n",
              "      <td>920</td>\n",
              "      <td>Hair Dryer HD180</td>\n",
              "      <td>1998.15</td>\n",
              "      <td>Beauty &amp; Hygiene</td>\n",
              "      <td>0.999554</td>\n",
              "      <td>0.962413</td>\n",
              "    </tr>\n",
              "    <tr>\n",
              "      <th>5</th>\n",
              "      <td>669</td>\n",
              "      <td>Syrup</td>\n",
              "      <td>200.00</td>\n",
              "      <td>Gourmet &amp; World Food</td>\n",
              "      <td>0.999304</td>\n",
              "      <td>0.852507</td>\n",
              "    </tr>\n",
              "    <tr>\n",
              "      <th>6</th>\n",
              "      <td>169</td>\n",
              "      <td>Lavender &amp; Vanilla Handmade Luxury Soap</td>\n",
              "      <td>275.00</td>\n",
              "      <td>Beauty &amp; Hygiene</td>\n",
              "      <td>0.999218</td>\n",
              "      <td>0.735281</td>\n",
              "    </tr>\n",
              "    <tr>\n",
              "      <th>7</th>\n",
              "      <td>907</td>\n",
              "      <td>Sauce - Aglio Olio</td>\n",
              "      <td>290.00</td>\n",
              "      <td>Gourmet &amp; World Food</td>\n",
              "      <td>0.999007</td>\n",
              "      <td>0.817034</td>\n",
              "    </tr>\n",
              "    <tr>\n",
              "      <th>8</th>\n",
              "      <td>25</td>\n",
              "      <td>Veggie Cutter</td>\n",
              "      <td>195.00</td>\n",
              "      <td>Kitchen, Garden &amp; Pets</td>\n",
              "      <td>0.998842</td>\n",
              "      <td>0.683080</td>\n",
              "    </tr>\n",
              "    <tr>\n",
              "      <th>9</th>\n",
              "      <td>734</td>\n",
              "      <td>Lavender Try Me Personal Care Gift Set</td>\n",
              "      <td>850.00</td>\n",
              "      <td>Beauty &amp; Hygiene</td>\n",
              "      <td>0.998589</td>\n",
              "      <td>0.762915</td>\n",
              "    </tr>\n",
              "  </tbody>\n",
              "</table>\n",
              "</div>\n",
              "      <button class=\"colab-df-convert\" onclick=\"convertToInteractive('df-27abd058-af7f-49b8-929e-f8b0df5e5a35')\"\n",
              "              title=\"Convert this dataframe to an interactive table.\"\n",
              "              style=\"display:none;\">\n",
              "        \n",
              "  <svg xmlns=\"http://www.w3.org/2000/svg\" height=\"24px\"viewBox=\"0 0 24 24\"\n",
              "       width=\"24px\">\n",
              "    <path d=\"M0 0h24v24H0V0z\" fill=\"none\"/>\n",
              "    <path d=\"M18.56 5.44l.94 2.06.94-2.06 2.06-.94-2.06-.94-.94-2.06-.94 2.06-2.06.94zm-11 1L8.5 8.5l.94-2.06 2.06-.94-2.06-.94L8.5 2.5l-.94 2.06-2.06.94zm10 10l.94 2.06.94-2.06 2.06-.94-2.06-.94-.94-2.06-.94 2.06-2.06.94z\"/><path d=\"M17.41 7.96l-1.37-1.37c-.4-.4-.92-.59-1.43-.59-.52 0-1.04.2-1.43.59L10.3 9.45l-7.72 7.72c-.78.78-.78 2.05 0 2.83L4 21.41c.39.39.9.59 1.41.59.51 0 1.02-.2 1.41-.59l7.78-7.78 2.81-2.81c.8-.78.8-2.07 0-2.86zM5.41 20L4 18.59l7.72-7.72 1.47 1.35L5.41 20z\"/>\n",
              "  </svg>\n",
              "      </button>\n",
              "      \n",
              "  <style>\n",
              "    .colab-df-container {\n",
              "      display:flex;\n",
              "      flex-wrap:wrap;\n",
              "      gap: 12px;\n",
              "    }\n",
              "\n",
              "    .colab-df-convert {\n",
              "      background-color: #E8F0FE;\n",
              "      border: none;\n",
              "      border-radius: 50%;\n",
              "      cursor: pointer;\n",
              "      display: none;\n",
              "      fill: #1967D2;\n",
              "      height: 32px;\n",
              "      padding: 0 0 0 0;\n",
              "      width: 32px;\n",
              "    }\n",
              "\n",
              "    .colab-df-convert:hover {\n",
              "      background-color: #E2EBFA;\n",
              "      box-shadow: 0px 1px 2px rgba(60, 64, 67, 0.3), 0px 1px 3px 1px rgba(60, 64, 67, 0.15);\n",
              "      fill: #174EA6;\n",
              "    }\n",
              "\n",
              "    [theme=dark] .colab-df-convert {\n",
              "      background-color: #3B4455;\n",
              "      fill: #D2E3FC;\n",
              "    }\n",
              "\n",
              "    [theme=dark] .colab-df-convert:hover {\n",
              "      background-color: #434B5C;\n",
              "      box-shadow: 0px 1px 3px 1px rgba(0, 0, 0, 0.15);\n",
              "      filter: drop-shadow(0px 1px 2px rgba(0, 0, 0, 0.3));\n",
              "      fill: #FFFFFF;\n",
              "    }\n",
              "  </style>\n",
              "\n",
              "      <script>\n",
              "        const buttonEl =\n",
              "          document.querySelector('#df-27abd058-af7f-49b8-929e-f8b0df5e5a35 button.colab-df-convert');\n",
              "        buttonEl.style.display =\n",
              "          google.colab.kernel.accessAllowed ? 'block' : 'none';\n",
              "\n",
              "        async function convertToInteractive(key) {\n",
              "          const element = document.querySelector('#df-27abd058-af7f-49b8-929e-f8b0df5e5a35');\n",
              "          const dataTable =\n",
              "            await google.colab.kernel.invokeFunction('convertToInteractive',\n",
              "                                                     [key], {});\n",
              "          if (!dataTable) return;\n",
              "\n",
              "          const docLinkHtml = 'Like what you see? Visit the ' +\n",
              "            '<a target=\"_blank\" href=https://colab.research.google.com/notebooks/data_table.ipynb>data table notebook</a>'\n",
              "            + ' to learn more about interactive tables.';\n",
              "          element.innerHTML = '';\n",
              "          dataTable['output_type'] = 'display_data';\n",
              "          await google.colab.output.renderOutput(dataTable, element);\n",
              "          const docLink = document.createElement('div');\n",
              "          docLink.innerHTML = docLinkHtml;\n",
              "          element.appendChild(docLink);\n",
              "        }\n",
              "      </script>\n",
              "    </div>\n",
              "  </div>\n",
              "  "
            ]
          },
          "metadata": {},
          "execution_count": 39
        }
      ],
      "source": [
        "finalclf =  pd.merge(clfinfo, pred_rating, on='product_id', how='left')\n",
        "finalclf"
      ]
    },
    {
      "cell_type": "markdown",
      "metadata": {
        "id": "iLvmD1WuK3S1"
      },
      "source": [
        "## get predicted ratings from collaborative filtering on top 10 content based filtering recommended items "
      ]
    },
    {
      "cell_type": "code",
      "source": [
        "user_id = 126093  # Replace with the ID of the desired user\n",
        "product_ids = [x for x in cbfinfo['product_id']]  # Replace with the desired list of product IDs\n",
        "\n",
        "# Generate user-item combinations for the specific user and product list\n",
        "user_ids = np.full(len(product_ids), user_mapping[user_id])\n",
        "item_ids = np.array([item_mapping[product_id] for product_id in product_ids])\n",
        "\n",
        "# Predict ratings for the user-item combinations\n",
        "predictions = clfmodel.predict([user_ids, item_ids]).flatten()\n",
        "\n",
        "# Create a DataFrame of predictions for the user and product list\n",
        "user_product_ratings_df = pd.DataFrame({\n",
        "                                        'product_id': product_ids,\n",
        "                                        'clf_ratings': predictions})\n",
        "\n",
        "# Display the predicted ratings for the user and product list\n",
        "user_product_ratings_df"
      ],
      "metadata": {
        "colab": {
          "base_uri": "https://localhost:8080/",
          "height": 380
        },
        "id": "J_0sdj3Fl_aV",
        "outputId": "9a19be26-9526-450e-8935-f21f0cbcf0ae"
      },
      "execution_count": null,
      "outputs": [
        {
          "output_type": "stream",
          "name": "stdout",
          "text": [
            "1/1 [==============================] - 0s 21ms/step\n"
          ]
        },
        {
          "output_type": "execute_result",
          "data": {
            "text/plain": [
              "   product_id  clf_ratings\n",
              "0         276     0.975257\n",
              "1         778     0.921420\n",
              "2          45     0.999853\n",
              "3         920     0.999554\n",
              "4          18     0.968970\n",
              "5         635     0.703465\n",
              "6         669     0.999304\n",
              "7         698     0.921263\n",
              "8         813     0.993963\n",
              "9         395     0.630803"
            ],
            "text/html": [
              "\n",
              "  <div id=\"df-2653a8d9-ea2f-400e-8ce0-4dd9a3c2648b\">\n",
              "    <div class=\"colab-df-container\">\n",
              "      <div>\n",
              "<style scoped>\n",
              "    .dataframe tbody tr th:only-of-type {\n",
              "        vertical-align: middle;\n",
              "    }\n",
              "\n",
              "    .dataframe tbody tr th {\n",
              "        vertical-align: top;\n",
              "    }\n",
              "\n",
              "    .dataframe thead th {\n",
              "        text-align: right;\n",
              "    }\n",
              "</style>\n",
              "<table border=\"1\" class=\"dataframe\">\n",
              "  <thead>\n",
              "    <tr style=\"text-align: right;\">\n",
              "      <th></th>\n",
              "      <th>product_id</th>\n",
              "      <th>clf_ratings</th>\n",
              "    </tr>\n",
              "  </thead>\n",
              "  <tbody>\n",
              "    <tr>\n",
              "      <th>0</th>\n",
              "      <td>276</td>\n",
              "      <td>0.975257</td>\n",
              "    </tr>\n",
              "    <tr>\n",
              "      <th>1</th>\n",
              "      <td>778</td>\n",
              "      <td>0.921420</td>\n",
              "    </tr>\n",
              "    <tr>\n",
              "      <th>2</th>\n",
              "      <td>45</td>\n",
              "      <td>0.999853</td>\n",
              "    </tr>\n",
              "    <tr>\n",
              "      <th>3</th>\n",
              "      <td>920</td>\n",
              "      <td>0.999554</td>\n",
              "    </tr>\n",
              "    <tr>\n",
              "      <th>4</th>\n",
              "      <td>18</td>\n",
              "      <td>0.968970</td>\n",
              "    </tr>\n",
              "    <tr>\n",
              "      <th>5</th>\n",
              "      <td>635</td>\n",
              "      <td>0.703465</td>\n",
              "    </tr>\n",
              "    <tr>\n",
              "      <th>6</th>\n",
              "      <td>669</td>\n",
              "      <td>0.999304</td>\n",
              "    </tr>\n",
              "    <tr>\n",
              "      <th>7</th>\n",
              "      <td>698</td>\n",
              "      <td>0.921263</td>\n",
              "    </tr>\n",
              "    <tr>\n",
              "      <th>8</th>\n",
              "      <td>813</td>\n",
              "      <td>0.993963</td>\n",
              "    </tr>\n",
              "    <tr>\n",
              "      <th>9</th>\n",
              "      <td>395</td>\n",
              "      <td>0.630803</td>\n",
              "    </tr>\n",
              "  </tbody>\n",
              "</table>\n",
              "</div>\n",
              "      <button class=\"colab-df-convert\" onclick=\"convertToInteractive('df-2653a8d9-ea2f-400e-8ce0-4dd9a3c2648b')\"\n",
              "              title=\"Convert this dataframe to an interactive table.\"\n",
              "              style=\"display:none;\">\n",
              "        \n",
              "  <svg xmlns=\"http://www.w3.org/2000/svg\" height=\"24px\"viewBox=\"0 0 24 24\"\n",
              "       width=\"24px\">\n",
              "    <path d=\"M0 0h24v24H0V0z\" fill=\"none\"/>\n",
              "    <path d=\"M18.56 5.44l.94 2.06.94-2.06 2.06-.94-2.06-.94-.94-2.06-.94 2.06-2.06.94zm-11 1L8.5 8.5l.94-2.06 2.06-.94-2.06-.94L8.5 2.5l-.94 2.06-2.06.94zm10 10l.94 2.06.94-2.06 2.06-.94-2.06-.94-.94-2.06-.94 2.06-2.06.94z\"/><path d=\"M17.41 7.96l-1.37-1.37c-.4-.4-.92-.59-1.43-.59-.52 0-1.04.2-1.43.59L10.3 9.45l-7.72 7.72c-.78.78-.78 2.05 0 2.83L4 21.41c.39.39.9.59 1.41.59.51 0 1.02-.2 1.41-.59l7.78-7.78 2.81-2.81c.8-.78.8-2.07 0-2.86zM5.41 20L4 18.59l7.72-7.72 1.47 1.35L5.41 20z\"/>\n",
              "  </svg>\n",
              "      </button>\n",
              "      \n",
              "  <style>\n",
              "    .colab-df-container {\n",
              "      display:flex;\n",
              "      flex-wrap:wrap;\n",
              "      gap: 12px;\n",
              "    }\n",
              "\n",
              "    .colab-df-convert {\n",
              "      background-color: #E8F0FE;\n",
              "      border: none;\n",
              "      border-radius: 50%;\n",
              "      cursor: pointer;\n",
              "      display: none;\n",
              "      fill: #1967D2;\n",
              "      height: 32px;\n",
              "      padding: 0 0 0 0;\n",
              "      width: 32px;\n",
              "    }\n",
              "\n",
              "    .colab-df-convert:hover {\n",
              "      background-color: #E2EBFA;\n",
              "      box-shadow: 0px 1px 2px rgba(60, 64, 67, 0.3), 0px 1px 3px 1px rgba(60, 64, 67, 0.15);\n",
              "      fill: #174EA6;\n",
              "    }\n",
              "\n",
              "    [theme=dark] .colab-df-convert {\n",
              "      background-color: #3B4455;\n",
              "      fill: #D2E3FC;\n",
              "    }\n",
              "\n",
              "    [theme=dark] .colab-df-convert:hover {\n",
              "      background-color: #434B5C;\n",
              "      box-shadow: 0px 1px 3px 1px rgba(0, 0, 0, 0.15);\n",
              "      filter: drop-shadow(0px 1px 2px rgba(0, 0, 0, 0.3));\n",
              "      fill: #FFFFFF;\n",
              "    }\n",
              "  </style>\n",
              "\n",
              "      <script>\n",
              "        const buttonEl =\n",
              "          document.querySelector('#df-2653a8d9-ea2f-400e-8ce0-4dd9a3c2648b button.colab-df-convert');\n",
              "        buttonEl.style.display =\n",
              "          google.colab.kernel.accessAllowed ? 'block' : 'none';\n",
              "\n",
              "        async function convertToInteractive(key) {\n",
              "          const element = document.querySelector('#df-2653a8d9-ea2f-400e-8ce0-4dd9a3c2648b');\n",
              "          const dataTable =\n",
              "            await google.colab.kernel.invokeFunction('convertToInteractive',\n",
              "                                                     [key], {});\n",
              "          if (!dataTable) return;\n",
              "\n",
              "          const docLinkHtml = 'Like what you see? Visit the ' +\n",
              "            '<a target=\"_blank\" href=https://colab.research.google.com/notebooks/data_table.ipynb>data table notebook</a>'\n",
              "            + ' to learn more about interactive tables.';\n",
              "          element.innerHTML = '';\n",
              "          dataTable['output_type'] = 'display_data';\n",
              "          await google.colab.output.renderOutput(dataTable, element);\n",
              "          const docLink = document.createElement('div');\n",
              "          docLink.innerHTML = docLinkHtml;\n",
              "          element.appendChild(docLink);\n",
              "        }\n",
              "      </script>\n",
              "    </div>\n",
              "  </div>\n",
              "  "
            ]
          },
          "metadata": {},
          "execution_count": 48
        }
      ]
    },
    {
      "cell_type": "code",
      "source": [
        "finalcbf =  pd.merge(cbfinfo, user_product_ratings_df, on='product_id', how='left')\n",
        "finalcbf"
      ],
      "metadata": {
        "colab": {
          "base_uri": "https://localhost:8080/",
          "height": 407
        },
        "id": "uClpuwGDBys0",
        "outputId": "d280b3b0-6b6a-4004-bef2-1fc0e6b7d46f"
      },
      "execution_count": null,
      "outputs": [
        {
          "output_type": "execute_result",
          "data": {
            "text/plain": [
              "   product_id                             name  discount_price  \\\n",
              "0         276             Ultimate Choco Berry          950.00   \n",
              "1         778                  Wafer - Vanille          199.00   \n",
              "2          45               Plain Green Olives          179.00   \n",
              "3         920                 Hair Dryer HD180         1998.15   \n",
              "4          18                   Salted Pumpkin          180.00   \n",
              "5         635              Black Sliced Olives          180.00   \n",
              "6         669                            Syrup          200.00   \n",
              "7         698           Spice - Smoked Paprika          189.05   \n",
              "8         813  White Radiance Whip - UV SPF 30         1699.15   \n",
              "9         395          For Man Eau De Toilette         2415.00   \n",
              "\n",
              "                 category  cbf_ratings  clf_ratings  \n",
              "0  Snacks & Branded Foods     0.957850     0.975257  \n",
              "1    Gourmet & World Food     0.852862     0.921420  \n",
              "2    Gourmet & World Food     0.858148     0.999853  \n",
              "3        Beauty & Hygiene     0.962413     0.999554  \n",
              "4    Gourmet & World Food     0.857688     0.968970  \n",
              "5    Gourmet & World Food     0.858076     0.703465  \n",
              "6    Gourmet & World Food     0.852507     0.999304  \n",
              "7    Gourmet & World Food     0.855368     0.921263  \n",
              "8        Beauty & Hygiene     0.908941     0.993963  \n",
              "9        Beauty & Hygiene     0.912085     0.630803  "
            ],
            "text/html": [
              "\n",
              "  <div id=\"df-3b798486-550f-488f-adee-6d7297359007\">\n",
              "    <div class=\"colab-df-container\">\n",
              "      <div>\n",
              "<style scoped>\n",
              "    .dataframe tbody tr th:only-of-type {\n",
              "        vertical-align: middle;\n",
              "    }\n",
              "\n",
              "    .dataframe tbody tr th {\n",
              "        vertical-align: top;\n",
              "    }\n",
              "\n",
              "    .dataframe thead th {\n",
              "        text-align: right;\n",
              "    }\n",
              "</style>\n",
              "<table border=\"1\" class=\"dataframe\">\n",
              "  <thead>\n",
              "    <tr style=\"text-align: right;\">\n",
              "      <th></th>\n",
              "      <th>product_id</th>\n",
              "      <th>name</th>\n",
              "      <th>discount_price</th>\n",
              "      <th>category</th>\n",
              "      <th>cbf_ratings</th>\n",
              "      <th>clf_ratings</th>\n",
              "    </tr>\n",
              "  </thead>\n",
              "  <tbody>\n",
              "    <tr>\n",
              "      <th>0</th>\n",
              "      <td>276</td>\n",
              "      <td>Ultimate Choco Berry</td>\n",
              "      <td>950.00</td>\n",
              "      <td>Snacks &amp; Branded Foods</td>\n",
              "      <td>0.957850</td>\n",
              "      <td>0.975257</td>\n",
              "    </tr>\n",
              "    <tr>\n",
              "      <th>1</th>\n",
              "      <td>778</td>\n",
              "      <td>Wafer - Vanille</td>\n",
              "      <td>199.00</td>\n",
              "      <td>Gourmet &amp; World Food</td>\n",
              "      <td>0.852862</td>\n",
              "      <td>0.921420</td>\n",
              "    </tr>\n",
              "    <tr>\n",
              "      <th>2</th>\n",
              "      <td>45</td>\n",
              "      <td>Plain Green Olives</td>\n",
              "      <td>179.00</td>\n",
              "      <td>Gourmet &amp; World Food</td>\n",
              "      <td>0.858148</td>\n",
              "      <td>0.999853</td>\n",
              "    </tr>\n",
              "    <tr>\n",
              "      <th>3</th>\n",
              "      <td>920</td>\n",
              "      <td>Hair Dryer HD180</td>\n",
              "      <td>1998.15</td>\n",
              "      <td>Beauty &amp; Hygiene</td>\n",
              "      <td>0.962413</td>\n",
              "      <td>0.999554</td>\n",
              "    </tr>\n",
              "    <tr>\n",
              "      <th>4</th>\n",
              "      <td>18</td>\n",
              "      <td>Salted Pumpkin</td>\n",
              "      <td>180.00</td>\n",
              "      <td>Gourmet &amp; World Food</td>\n",
              "      <td>0.857688</td>\n",
              "      <td>0.968970</td>\n",
              "    </tr>\n",
              "    <tr>\n",
              "      <th>5</th>\n",
              "      <td>635</td>\n",
              "      <td>Black Sliced Olives</td>\n",
              "      <td>180.00</td>\n",
              "      <td>Gourmet &amp; World Food</td>\n",
              "      <td>0.858076</td>\n",
              "      <td>0.703465</td>\n",
              "    </tr>\n",
              "    <tr>\n",
              "      <th>6</th>\n",
              "      <td>669</td>\n",
              "      <td>Syrup</td>\n",
              "      <td>200.00</td>\n",
              "      <td>Gourmet &amp; World Food</td>\n",
              "      <td>0.852507</td>\n",
              "      <td>0.999304</td>\n",
              "    </tr>\n",
              "    <tr>\n",
              "      <th>7</th>\n",
              "      <td>698</td>\n",
              "      <td>Spice - Smoked Paprika</td>\n",
              "      <td>189.05</td>\n",
              "      <td>Gourmet &amp; World Food</td>\n",
              "      <td>0.855368</td>\n",
              "      <td>0.921263</td>\n",
              "    </tr>\n",
              "    <tr>\n",
              "      <th>8</th>\n",
              "      <td>813</td>\n",
              "      <td>White Radiance Whip - UV SPF 30</td>\n",
              "      <td>1699.15</td>\n",
              "      <td>Beauty &amp; Hygiene</td>\n",
              "      <td>0.908941</td>\n",
              "      <td>0.993963</td>\n",
              "    </tr>\n",
              "    <tr>\n",
              "      <th>9</th>\n",
              "      <td>395</td>\n",
              "      <td>For Man Eau De Toilette</td>\n",
              "      <td>2415.00</td>\n",
              "      <td>Beauty &amp; Hygiene</td>\n",
              "      <td>0.912085</td>\n",
              "      <td>0.630803</td>\n",
              "    </tr>\n",
              "  </tbody>\n",
              "</table>\n",
              "</div>\n",
              "      <button class=\"colab-df-convert\" onclick=\"convertToInteractive('df-3b798486-550f-488f-adee-6d7297359007')\"\n",
              "              title=\"Convert this dataframe to an interactive table.\"\n",
              "              style=\"display:none;\">\n",
              "        \n",
              "  <svg xmlns=\"http://www.w3.org/2000/svg\" height=\"24px\"viewBox=\"0 0 24 24\"\n",
              "       width=\"24px\">\n",
              "    <path d=\"M0 0h24v24H0V0z\" fill=\"none\"/>\n",
              "    <path d=\"M18.56 5.44l.94 2.06.94-2.06 2.06-.94-2.06-.94-.94-2.06-.94 2.06-2.06.94zm-11 1L8.5 8.5l.94-2.06 2.06-.94-2.06-.94L8.5 2.5l-.94 2.06-2.06.94zm10 10l.94 2.06.94-2.06 2.06-.94-2.06-.94-.94-2.06-.94 2.06-2.06.94z\"/><path d=\"M17.41 7.96l-1.37-1.37c-.4-.4-.92-.59-1.43-.59-.52 0-1.04.2-1.43.59L10.3 9.45l-7.72 7.72c-.78.78-.78 2.05 0 2.83L4 21.41c.39.39.9.59 1.41.59.51 0 1.02-.2 1.41-.59l7.78-7.78 2.81-2.81c.8-.78.8-2.07 0-2.86zM5.41 20L4 18.59l7.72-7.72 1.47 1.35L5.41 20z\"/>\n",
              "  </svg>\n",
              "      </button>\n",
              "      \n",
              "  <style>\n",
              "    .colab-df-container {\n",
              "      display:flex;\n",
              "      flex-wrap:wrap;\n",
              "      gap: 12px;\n",
              "    }\n",
              "\n",
              "    .colab-df-convert {\n",
              "      background-color: #E8F0FE;\n",
              "      border: none;\n",
              "      border-radius: 50%;\n",
              "      cursor: pointer;\n",
              "      display: none;\n",
              "      fill: #1967D2;\n",
              "      height: 32px;\n",
              "      padding: 0 0 0 0;\n",
              "      width: 32px;\n",
              "    }\n",
              "\n",
              "    .colab-df-convert:hover {\n",
              "      background-color: #E2EBFA;\n",
              "      box-shadow: 0px 1px 2px rgba(60, 64, 67, 0.3), 0px 1px 3px 1px rgba(60, 64, 67, 0.15);\n",
              "      fill: #174EA6;\n",
              "    }\n",
              "\n",
              "    [theme=dark] .colab-df-convert {\n",
              "      background-color: #3B4455;\n",
              "      fill: #D2E3FC;\n",
              "    }\n",
              "\n",
              "    [theme=dark] .colab-df-convert:hover {\n",
              "      background-color: #434B5C;\n",
              "      box-shadow: 0px 1px 3px 1px rgba(0, 0, 0, 0.15);\n",
              "      filter: drop-shadow(0px 1px 2px rgba(0, 0, 0, 0.3));\n",
              "      fill: #FFFFFF;\n",
              "    }\n",
              "  </style>\n",
              "\n",
              "      <script>\n",
              "        const buttonEl =\n",
              "          document.querySelector('#df-3b798486-550f-488f-adee-6d7297359007 button.colab-df-convert');\n",
              "        buttonEl.style.display =\n",
              "          google.colab.kernel.accessAllowed ? 'block' : 'none';\n",
              "\n",
              "        async function convertToInteractive(key) {\n",
              "          const element = document.querySelector('#df-3b798486-550f-488f-adee-6d7297359007');\n",
              "          const dataTable =\n",
              "            await google.colab.kernel.invokeFunction('convertToInteractive',\n",
              "                                                     [key], {});\n",
              "          if (!dataTable) return;\n",
              "\n",
              "          const docLinkHtml = 'Like what you see? Visit the ' +\n",
              "            '<a target=\"_blank\" href=https://colab.research.google.com/notebooks/data_table.ipynb>data table notebook</a>'\n",
              "            + ' to learn more about interactive tables.';\n",
              "          element.innerHTML = '';\n",
              "          dataTable['output_type'] = 'display_data';\n",
              "          await google.colab.output.renderOutput(dataTable, element);\n",
              "          const docLink = document.createElement('div');\n",
              "          docLink.innerHTML = docLinkHtml;\n",
              "          element.appendChild(docLink);\n",
              "        }\n",
              "      </script>\n",
              "    </div>\n",
              "  </div>\n",
              "  "
            ]
          },
          "metadata": {},
          "execution_count": 49
        }
      ]
    },
    {
      "cell_type": "markdown",
      "metadata": {
        "id": "XBaRwF0NLHu_"
      },
      "source": [
        "## Combine final dataset"
      ]
    },
    {
      "cell_type": "code",
      "execution_count": null,
      "metadata": {
        "id": "SXTPhfoWW-mO",
        "colab": {
          "base_uri": "https://localhost:8080/",
          "height": 678
        },
        "outputId": "23ee719f-a6e4-4e81-cd5b-648213e395b0"
      },
      "outputs": [
        {
          "output_type": "execute_result",
          "data": {
            "text/plain": [
              "   product_id                                       name  discount_price  \\\n",
              "0         925                      Hair Gel Regular Hold           22.50   \n",
              "1          94                    SPF 15 Sunscreen Lotion          209.30   \n",
              "2         977  Styling Shampoo For Men - Cooling & Style          399.00   \n",
              "3          45                         Plain Green Olives          179.00   \n",
              "4         920                           Hair Dryer HD180         1998.15   \n",
              "5         669                                      Syrup          200.00   \n",
              "6         169    Lavender & Vanilla Handmade Luxury Soap          275.00   \n",
              "7         907                         Sauce - Aglio Olio          290.00   \n",
              "8          25                              Veggie Cutter          195.00   \n",
              "9         734     Lavender Try Me Personal Care Gift Set          850.00   \n",
              "0         276                       Ultimate Choco Berry          950.00   \n",
              "1         778                            Wafer - Vanille          199.00   \n",
              "4          18                             Salted Pumpkin          180.00   \n",
              "5         635                        Black Sliced Olives          180.00   \n",
              "7         698                     Spice - Smoked Paprika          189.05   \n",
              "8         813            White Radiance Whip - UV SPF 30         1699.15   \n",
              "9         395                    For Man Eau De Toilette         2415.00   \n",
              "\n",
              "                 category  clf_ratings  cbf_ratings  \n",
              "0        Beauty & Hygiene     5.000000     3.767328  \n",
              "1        Beauty & Hygiene     5.000000     3.880140  \n",
              "2        Beauty & Hygiene     5.000000     3.979675  \n",
              "3    Gourmet & World Food     4.999412     4.432593  \n",
              "4        Beauty & Hygiene     4.998215     4.849652  \n",
              "5    Gourmet & World Food     4.997217     4.410027  \n",
              "6        Beauty & Hygiene     4.996872     3.941125  \n",
              "7    Gourmet & World Food     4.996029     4.268137  \n",
              "8  Kitchen, Garden & Pets     4.995369     3.732320  \n",
              "9        Beauty & Hygiene     4.994356     4.051660  \n",
              "0  Snacks & Branded Foods     4.901029     4.831398  \n",
              "1    Gourmet & World Food     4.685680     4.411447  \n",
              "4    Gourmet & World Food     4.875881     4.430750  \n",
              "5    Gourmet & World Food     3.813858     4.432304  \n",
              "7    Gourmet & World Food     4.685052     4.421471  \n",
              "8        Beauty & Hygiene     4.975852     4.635763  \n",
              "9        Beauty & Hygiene     3.523211     4.648341  "
            ],
            "text/html": [
              "\n",
              "  <div id=\"df-626ca7dc-ebd1-4710-8aab-e37286e4db2c\">\n",
              "    <div class=\"colab-df-container\">\n",
              "      <div>\n",
              "<style scoped>\n",
              "    .dataframe tbody tr th:only-of-type {\n",
              "        vertical-align: middle;\n",
              "    }\n",
              "\n",
              "    .dataframe tbody tr th {\n",
              "        vertical-align: top;\n",
              "    }\n",
              "\n",
              "    .dataframe thead th {\n",
              "        text-align: right;\n",
              "    }\n",
              "</style>\n",
              "<table border=\"1\" class=\"dataframe\">\n",
              "  <thead>\n",
              "    <tr style=\"text-align: right;\">\n",
              "      <th></th>\n",
              "      <th>product_id</th>\n",
              "      <th>name</th>\n",
              "      <th>discount_price</th>\n",
              "      <th>category</th>\n",
              "      <th>clf_ratings</th>\n",
              "      <th>cbf_ratings</th>\n",
              "    </tr>\n",
              "  </thead>\n",
              "  <tbody>\n",
              "    <tr>\n",
              "      <th>0</th>\n",
              "      <td>925</td>\n",
              "      <td>Hair Gel Regular Hold</td>\n",
              "      <td>22.50</td>\n",
              "      <td>Beauty &amp; Hygiene</td>\n",
              "      <td>5.000000</td>\n",
              "      <td>3.767328</td>\n",
              "    </tr>\n",
              "    <tr>\n",
              "      <th>1</th>\n",
              "      <td>94</td>\n",
              "      <td>SPF 15 Sunscreen Lotion</td>\n",
              "      <td>209.30</td>\n",
              "      <td>Beauty &amp; Hygiene</td>\n",
              "      <td>5.000000</td>\n",
              "      <td>3.880140</td>\n",
              "    </tr>\n",
              "    <tr>\n",
              "      <th>2</th>\n",
              "      <td>977</td>\n",
              "      <td>Styling Shampoo For Men - Cooling &amp; Style</td>\n",
              "      <td>399.00</td>\n",
              "      <td>Beauty &amp; Hygiene</td>\n",
              "      <td>5.000000</td>\n",
              "      <td>3.979675</td>\n",
              "    </tr>\n",
              "    <tr>\n",
              "      <th>3</th>\n",
              "      <td>45</td>\n",
              "      <td>Plain Green Olives</td>\n",
              "      <td>179.00</td>\n",
              "      <td>Gourmet &amp; World Food</td>\n",
              "      <td>4.999412</td>\n",
              "      <td>4.432593</td>\n",
              "    </tr>\n",
              "    <tr>\n",
              "      <th>4</th>\n",
              "      <td>920</td>\n",
              "      <td>Hair Dryer HD180</td>\n",
              "      <td>1998.15</td>\n",
              "      <td>Beauty &amp; Hygiene</td>\n",
              "      <td>4.998215</td>\n",
              "      <td>4.849652</td>\n",
              "    </tr>\n",
              "    <tr>\n",
              "      <th>5</th>\n",
              "      <td>669</td>\n",
              "      <td>Syrup</td>\n",
              "      <td>200.00</td>\n",
              "      <td>Gourmet &amp; World Food</td>\n",
              "      <td>4.997217</td>\n",
              "      <td>4.410027</td>\n",
              "    </tr>\n",
              "    <tr>\n",
              "      <th>6</th>\n",
              "      <td>169</td>\n",
              "      <td>Lavender &amp; Vanilla Handmade Luxury Soap</td>\n",
              "      <td>275.00</td>\n",
              "      <td>Beauty &amp; Hygiene</td>\n",
              "      <td>4.996872</td>\n",
              "      <td>3.941125</td>\n",
              "    </tr>\n",
              "    <tr>\n",
              "      <th>7</th>\n",
              "      <td>907</td>\n",
              "      <td>Sauce - Aglio Olio</td>\n",
              "      <td>290.00</td>\n",
              "      <td>Gourmet &amp; World Food</td>\n",
              "      <td>4.996029</td>\n",
              "      <td>4.268137</td>\n",
              "    </tr>\n",
              "    <tr>\n",
              "      <th>8</th>\n",
              "      <td>25</td>\n",
              "      <td>Veggie Cutter</td>\n",
              "      <td>195.00</td>\n",
              "      <td>Kitchen, Garden &amp; Pets</td>\n",
              "      <td>4.995369</td>\n",
              "      <td>3.732320</td>\n",
              "    </tr>\n",
              "    <tr>\n",
              "      <th>9</th>\n",
              "      <td>734</td>\n",
              "      <td>Lavender Try Me Personal Care Gift Set</td>\n",
              "      <td>850.00</td>\n",
              "      <td>Beauty &amp; Hygiene</td>\n",
              "      <td>4.994356</td>\n",
              "      <td>4.051660</td>\n",
              "    </tr>\n",
              "    <tr>\n",
              "      <th>0</th>\n",
              "      <td>276</td>\n",
              "      <td>Ultimate Choco Berry</td>\n",
              "      <td>950.00</td>\n",
              "      <td>Snacks &amp; Branded Foods</td>\n",
              "      <td>4.901029</td>\n",
              "      <td>4.831398</td>\n",
              "    </tr>\n",
              "    <tr>\n",
              "      <th>1</th>\n",
              "      <td>778</td>\n",
              "      <td>Wafer - Vanille</td>\n",
              "      <td>199.00</td>\n",
              "      <td>Gourmet &amp; World Food</td>\n",
              "      <td>4.685680</td>\n",
              "      <td>4.411447</td>\n",
              "    </tr>\n",
              "    <tr>\n",
              "      <th>4</th>\n",
              "      <td>18</td>\n",
              "      <td>Salted Pumpkin</td>\n",
              "      <td>180.00</td>\n",
              "      <td>Gourmet &amp; World Food</td>\n",
              "      <td>4.875881</td>\n",
              "      <td>4.430750</td>\n",
              "    </tr>\n",
              "    <tr>\n",
              "      <th>5</th>\n",
              "      <td>635</td>\n",
              "      <td>Black Sliced Olives</td>\n",
              "      <td>180.00</td>\n",
              "      <td>Gourmet &amp; World Food</td>\n",
              "      <td>3.813858</td>\n",
              "      <td>4.432304</td>\n",
              "    </tr>\n",
              "    <tr>\n",
              "      <th>7</th>\n",
              "      <td>698</td>\n",
              "      <td>Spice - Smoked Paprika</td>\n",
              "      <td>189.05</td>\n",
              "      <td>Gourmet &amp; World Food</td>\n",
              "      <td>4.685052</td>\n",
              "      <td>4.421471</td>\n",
              "    </tr>\n",
              "    <tr>\n",
              "      <th>8</th>\n",
              "      <td>813</td>\n",
              "      <td>White Radiance Whip - UV SPF 30</td>\n",
              "      <td>1699.15</td>\n",
              "      <td>Beauty &amp; Hygiene</td>\n",
              "      <td>4.975852</td>\n",
              "      <td>4.635763</td>\n",
              "    </tr>\n",
              "    <tr>\n",
              "      <th>9</th>\n",
              "      <td>395</td>\n",
              "      <td>For Man Eau De Toilette</td>\n",
              "      <td>2415.00</td>\n",
              "      <td>Beauty &amp; Hygiene</td>\n",
              "      <td>3.523211</td>\n",
              "      <td>4.648341</td>\n",
              "    </tr>\n",
              "  </tbody>\n",
              "</table>\n",
              "</div>\n",
              "      <button class=\"colab-df-convert\" onclick=\"convertToInteractive('df-626ca7dc-ebd1-4710-8aab-e37286e4db2c')\"\n",
              "              title=\"Convert this dataframe to an interactive table.\"\n",
              "              style=\"display:none;\">\n",
              "        \n",
              "  <svg xmlns=\"http://www.w3.org/2000/svg\" height=\"24px\"viewBox=\"0 0 24 24\"\n",
              "       width=\"24px\">\n",
              "    <path d=\"M0 0h24v24H0V0z\" fill=\"none\"/>\n",
              "    <path d=\"M18.56 5.44l.94 2.06.94-2.06 2.06-.94-2.06-.94-.94-2.06-.94 2.06-2.06.94zm-11 1L8.5 8.5l.94-2.06 2.06-.94-2.06-.94L8.5 2.5l-.94 2.06-2.06.94zm10 10l.94 2.06.94-2.06 2.06-.94-2.06-.94-.94-2.06-.94 2.06-2.06.94z\"/><path d=\"M17.41 7.96l-1.37-1.37c-.4-.4-.92-.59-1.43-.59-.52 0-1.04.2-1.43.59L10.3 9.45l-7.72 7.72c-.78.78-.78 2.05 0 2.83L4 21.41c.39.39.9.59 1.41.59.51 0 1.02-.2 1.41-.59l7.78-7.78 2.81-2.81c.8-.78.8-2.07 0-2.86zM5.41 20L4 18.59l7.72-7.72 1.47 1.35L5.41 20z\"/>\n",
              "  </svg>\n",
              "      </button>\n",
              "      \n",
              "  <style>\n",
              "    .colab-df-container {\n",
              "      display:flex;\n",
              "      flex-wrap:wrap;\n",
              "      gap: 12px;\n",
              "    }\n",
              "\n",
              "    .colab-df-convert {\n",
              "      background-color: #E8F0FE;\n",
              "      border: none;\n",
              "      border-radius: 50%;\n",
              "      cursor: pointer;\n",
              "      display: none;\n",
              "      fill: #1967D2;\n",
              "      height: 32px;\n",
              "      padding: 0 0 0 0;\n",
              "      width: 32px;\n",
              "    }\n",
              "\n",
              "    .colab-df-convert:hover {\n",
              "      background-color: #E2EBFA;\n",
              "      box-shadow: 0px 1px 2px rgba(60, 64, 67, 0.3), 0px 1px 3px 1px rgba(60, 64, 67, 0.15);\n",
              "      fill: #174EA6;\n",
              "    }\n",
              "\n",
              "    [theme=dark] .colab-df-convert {\n",
              "      background-color: #3B4455;\n",
              "      fill: #D2E3FC;\n",
              "    }\n",
              "\n",
              "    [theme=dark] .colab-df-convert:hover {\n",
              "      background-color: #434B5C;\n",
              "      box-shadow: 0px 1px 3px 1px rgba(0, 0, 0, 0.15);\n",
              "      filter: drop-shadow(0px 1px 2px rgba(0, 0, 0, 0.3));\n",
              "      fill: #FFFFFF;\n",
              "    }\n",
              "  </style>\n",
              "\n",
              "      <script>\n",
              "        const buttonEl =\n",
              "          document.querySelector('#df-626ca7dc-ebd1-4710-8aab-e37286e4db2c button.colab-df-convert');\n",
              "        buttonEl.style.display =\n",
              "          google.colab.kernel.accessAllowed ? 'block' : 'none';\n",
              "\n",
              "        async function convertToInteractive(key) {\n",
              "          const element = document.querySelector('#df-626ca7dc-ebd1-4710-8aab-e37286e4db2c');\n",
              "          const dataTable =\n",
              "            await google.colab.kernel.invokeFunction('convertToInteractive',\n",
              "                                                     [key], {});\n",
              "          if (!dataTable) return;\n",
              "\n",
              "          const docLinkHtml = 'Like what you see? Visit the ' +\n",
              "            '<a target=\"_blank\" href=https://colab.research.google.com/notebooks/data_table.ipynb>data table notebook</a>'\n",
              "            + ' to learn more about interactive tables.';\n",
              "          element.innerHTML = '';\n",
              "          dataTable['output_type'] = 'display_data';\n",
              "          await google.colab.output.renderOutput(dataTable, element);\n",
              "          const docLink = document.createElement('div');\n",
              "          docLink.innerHTML = docLinkHtml;\n",
              "          element.appendChild(docLink);\n",
              "        }\n",
              "      </script>\n",
              "    </div>\n",
              "  </div>\n",
              "  "
            ]
          },
          "metadata": {},
          "execution_count": 52
        }
      ],
      "source": [
        "combined = pd.concat([finalclf, finalcbf], axis=0)\n",
        "combined['cbf_ratings'] = combined['cbf_ratings'] * (df['ratings'].max() - df['ratings'].min() ) + df['ratings'].min()\n",
        "combined['cbf_ratings'] = combined['cbf_ratings'].clip(lower=0.0, upper=5.0)\n",
        "combined['clf_ratings'] = combined['clf_ratings'] * (df['ratings'].max() - df['ratings'].min() ) + df['ratings'].min()\n",
        "combined['clf_ratings'] = combined['clf_ratings'].clip(lower=0.0, upper=5.0)\n",
        "combined = combined.drop_duplicates(subset='product_id', keep='first')\n",
        "combined"
      ]
    },
    {
      "cell_type": "markdown",
      "metadata": {
        "id": "_l7VjGSULPVC"
      },
      "source": [
        "## Make the hybrid recommender system"
      ]
    },
    {
      "cell_type": "code",
      "execution_count": null,
      "metadata": {
        "id": "JFIvcSL3eCCf",
        "colab": {
          "base_uri": "https://localhost:8080/"
        },
        "outputId": "6fe5131e-698f-47eb-e9e5-43de8c2ac618"
      },
      "outputs": [
        {
          "output_type": "stream",
          "name": "stdout",
          "text": [
            "[920.0, 276.0, 813.0, 45.0, 669.0, 18.0, 907.0, 698.0, 778.0, 734.0]\n"
          ]
        }
      ],
      "source": [
        "# Hybrid Recommender System\n",
        "def hybrid_recommend(user_id, budget,dataset):\n",
        "\n",
        "    # Calculate the average rating for collaborative recommendations\n",
        "    collaborative_avg_rating = np.mean(dataset['clf_ratings'])\n",
        "\n",
        "    # Calculate the average rating for content-based recommendations\n",
        "    content_based_avg_rating = np.mean(dataset['cbf_ratings'])\n",
        "\n",
        "    # Calculate the final recommendations based on weighted average ratings\n",
        "    dataset['weighted_avg'] = (dataset['clf_ratings'] * collaborative_avg_rating + dataset['cbf_ratings']* content_based_avg_rating) / 2\n",
        "\n",
        "    hybrid_recommendations = dataset[['product_id','weighted_avg','discount_price']].values.tolist()\n",
        "\n",
        "    # Sort the recommendations by rating in descending order\n",
        "    hybrid_recommendations.sort(key=lambda x: x[1], reverse=True)\n",
        "\n",
        "    # Filter the recommendations based on the user's budget\n",
        "    filtered_recommendations = []\n",
        "    total_cost = 0\n",
        "    for product, rating,price in hybrid_recommendations:\n",
        "        product_cost = price\n",
        "        if total_cost + product_cost <= budget:\n",
        "            filtered_recommendations.append(product)\n",
        "            total_cost += product_cost\n",
        "        if len(filtered_recommendations) >= 10:\n",
        "            break\n",
        "\n",
        "    return filtered_recommendations\n",
        "\n",
        "# Example usage\n",
        "user_id = 126093\n",
        "budget = 10000\n",
        "recommendations = hybrid_recommend(user_id, budget,combined)\n",
        "print(recommendations)"
      ]
    },
    {
      "cell_type": "markdown",
      "metadata": {
        "id": "tiOQVUlT6zAL"
      },
      "source": [
        "# Model Deployment "
      ]
    },
    {
      "cell_type": "markdown",
      "source": [
        "## save and load cbfmodel as .h5 file\n"
      ],
      "metadata": {
        "id": "inhIiV54_HDM"
      }
    },
    {
      "cell_type": "code",
      "source": [
        "#download pickle (h5) file\n",
        "model = cbfmodel\n",
        "\n",
        "model.save('cbf_model.h5')"
      ],
      "metadata": {
        "id": "wOLep77sQ31N"
      },
      "execution_count": null,
      "outputs": []
    },
    {
      "cell_type": "code",
      "source": [
        "from tensorflow.keras.models import load_model\n",
        "\n",
        "# Load the model from the .h5 file\n",
        "loaded_cbf_model = load_model('cbf_model.h5')"
      ],
      "metadata": {
        "id": "E_Tr__JkLzyj"
      },
      "execution_count": null,
      "outputs": []
    },
    {
      "cell_type": "markdown",
      "source": [
        "## save and load clfmodel as .h5 file"
      ],
      "metadata": {
        "id": "72BHT-wSAIth"
      }
    },
    {
      "cell_type": "code",
      "source": [
        "#download pickle (h5) file\n",
        "model = clfmodel\n",
        "\n",
        "model.save('clf_model.h5')"
      ],
      "metadata": {
        "id": "Kfzzf0f9AIF4"
      },
      "execution_count": null,
      "outputs": []
    },
    {
      "cell_type": "code",
      "source": [
        "# Load the model from the .h5 file\n",
        "loaded_clf_model = load_model('clf_model.h5')"
      ],
      "metadata": {
        "id": "q-4bMGsWDzRO"
      },
      "execution_count": null,
      "outputs": []
    },
    {
      "cell_type": "markdown",
      "source": [
        "## deploy model"
      ],
      "metadata": {
        "id": "oH1Gp1nPROfb"
      }
    },
    {
      "cell_type": "code",
      "execution_count": null,
      "metadata": {
        "id": "UvN0mqjr_NiT"
      },
      "outputs": [],
      "source": [
        "#load the dataset\n",
        "df = pd.read_csv('/content/drive/MyDrive/final_dataset.csv')\n",
        "df = df.drop([\"Unnamed: 0\"],axis=1)\n",
        "\n",
        "dataset = df.copy()\n",
        "scaler = MinMaxScaler()\n",
        "dataset[[\"actual_price\", \"discount_price\", \"ratings\", \"add_to_cart_order\"]] = scaler.fit_transform(dataset[[\"actual_price\", \"discount_price\", \"ratings\", \"add_to_cart_order\"]])\n",
        "dataset['category_id'] = LabelEncoder().fit_transform(dataset['category'])\n",
        "\n",
        "# get recommendation from collaborative filtering\n",
        "def collaborative_filtering_model(df,dataset, user_id,clfmodel):\n",
        "  # Generate item recommendations for the specific user\n",
        "  num_users = len(dataset['user_id'].unique())\n",
        "  num_items = len(dataset['product_id'].unique())\n",
        "  user_items = np.full((num_items,), user_mapping[user_id])\n",
        "  item_ids = np.arange(num_items)\n",
        "\n",
        "  # Predict ratings for the user-item combinations\n",
        "  predictions = clfmodel.predict([user_items, item_ids]).flatten()\n",
        "\n",
        "  # Create a DataFrame of predictions for the user\n",
        "  recommendations_df = pd.DataFrame({'product_id': item_mapping.keys(), 'rating': predictions})\n",
        "\n",
        "  # Sort the DataFrame by predicted rating in descending order\n",
        "  recommendations_df = recommendations_df.sort_values('rating', ascending=False)\n",
        "\n",
        "  # Select the top 10 recommendations\n",
        "  top_10_recs = recommendations_df.nlargest(10, 'rating')\n",
        "  clfrecs = top_10_recs[['product_id', 'rating']]\n",
        "  clfrecs = clfrecs.rename(columns={'rating': 'clf_ratings'})\n",
        "  clfinfo = pd.merge(clfrecs,df,on='product_id')\n",
        "  clfinfo = clfinfo.drop_duplicates(subset='product_id', keep='first')\n",
        "  clfinfo = clfinfo.drop(['user_id','add_to_cart_order','reordered','actual_price','ratings','brand'],axis=1) \n",
        "  # Identify the index of the column to move\n",
        "  column_index = clfinfo.columns.get_loc('clf_ratings')\n",
        "\n",
        "  # Create a list of column names in the desired order\n",
        "  new_columns = list(clfinfo.columns[:column_index]) + list(clfinfo.columns[column_index+1:]) + ['clf_ratings']\n",
        "\n",
        "  # Reorder the columns in the DataFrame\n",
        "  clfinfo = clfinfo[new_columns]\n",
        "\n",
        "\n",
        "  return clfinfo\n",
        "\n",
        "# get recommendations from content based ratings\n",
        "def content_based_model(df, dataset, user_id, cbfmodel):\n",
        "  # Predict the ratings for all products in the dataset\n",
        "  all_products_data = dataset[dataset['user_id'] != user_id]\n",
        "  X_all = [all_products_data['category_id'], all_products_data[[\"discount_price\", \"reordered\", \"add_to_cart_order\"]]]\n",
        "  predicted_ratings = cbfmodel.predict(X_all).flatten()\n",
        "\n",
        "\n",
        "  # Create a list of tuples containing product ID and predicted rating\n",
        "  product_ratings = list(zip(all_products_data['product_id'], predicted_ratings))\n",
        "\n",
        "  # Sort the product ratings by predicted rating in descending order\n",
        "  product_ratings.sort(key=lambda x: x[1], reverse=True)\n",
        "\n",
        "  # Get the top 10 recommendations without duplicate product IDs\n",
        "  recommended_products = []\n",
        "  recommended_product_ids = set()\n",
        "\n",
        "  for product_id, _ in product_ratings:\n",
        "      if product_id not in recommended_product_ids:\n",
        "          recommended_products.append((product_id, _))\n",
        "          recommended_product_ids.add(product_id)\n",
        "      if len(recommended_products) >= 10:\n",
        "          break\n",
        "\n",
        "  # Filter the original dataset based on the recommended product IDs\n",
        "  top_10_recommendations = all_products_data[all_products_data['product_id'].isin([p[0] for p in recommended_products])]\n",
        "\n",
        "  # Remove duplicate product IDs from the recommendations\n",
        "  top_10_recommendations = top_10_recommendations.drop_duplicates(subset='product_id')\n",
        "\n",
        "  # Keep the top 10 recommendations (if there are more than 10 after removing duplicates)\n",
        "  top_10_recommendations = top_10_recommendations.head(10)\n",
        "\n",
        "  pred_rating = pd.DataFrame(product_ratings)\n",
        "  pred_rating.columns =['product_id','cbf_ratings']\n",
        "  pred_rating = pred_rating.drop_duplicates(subset='product_id', keep='first')\n",
        "  pred_rating['cbf_ratings'] = pred_rating['cbf_ratings'] * (df['ratings'].max() - df['ratings'].min() ) + df['ratings'].min()\n",
        "  pred_rating['cbf_ratings'] = pred_rating['cbf_ratings'].clip(lower=0.0, upper=5.0)\n",
        "  cbfrecs = top_10_recommendations[['product_id', 'name','discount_price','category']]\n",
        "  cbfinfo = pd.merge(cbfrecs, pred_rating, on='product_id')\n",
        "  cbfinfo = cbfinfo.drop_duplicates(subset='product_id', keep='first')\n",
        "  cbfinfo['discount_price'] = cbfinfo['discount_price'] * (df['discount_price'].max()- df['discount_price'].min() ) + df['discount_price'].min()\n",
        "\n",
        "  return cbfinfo , pred_rating\n",
        "\n",
        "\n",
        "# recommendingproducts id\n",
        "def finaldataset(df,dataset,user_id,cbfmodel,clfmodel):\n",
        "  # get final collaborative filtering top 10 result data\n",
        "  clfinfo = collaborative_filtering_model(df,dataset, user_id,clfmodel)\n",
        "  cbfinfo , pred_rating = content_based_model(df, dataset, user_id, cbfmodel)\n",
        "  finalclf =  pd.merge(clfinfo, pred_rating, on='product_id', how='left')\n",
        "\n",
        "  # get final content-based filtering top 10 result data\n",
        "  product_ids = [x for x in cbfinfo['product_id']] \n",
        "  user_ids = np.full(len(product_ids), user_mapping[user_id])\n",
        "  item_ids = np.array([item_mapping[product_id] for product_id in product_ids])\n",
        "  predictions = clfmodel.predict([user_ids, item_ids]).flatten()\n",
        "  user_product_ratings_df = pd.DataFrame({'product_id': product_ids,'clf_ratings': predictions})\n",
        "  finalcbf =  pd.merge(cbfinfo, user_product_ratings_df, on='product_id', how='left')\n",
        "  \n",
        "  # combine the result\n",
        "  combined = pd.concat([finalclf, finalcbf], axis=0)\n",
        "  combined['cbf_ratings'] = combined['cbf_ratings'] * (df['ratings'].max() - df['ratings'].min() ) + df['ratings'].min()\n",
        "  combined['cbf_ratings'] = combined['cbf_ratings'].clip(lower=0.0, upper=5.0)\n",
        "  combined['clf_ratings'] = combined['clf_ratings'] * (df['ratings'].max() - df['ratings'].min() ) + df['ratings'].min()\n",
        "  combined['clf_ratings'] = combined['clf_ratings'].clip(lower=0.0, upper=5.0)\n",
        "  combined = combined.drop_duplicates(subset='product_id', keep='first')\n",
        "\n",
        "  return combined\n",
        "\n",
        "def hybrid_recommend(df,dataset,user_id,cbfmodel,clfmodel,budget):\n",
        "    all_recs = finaldataset(df,dataset,user_id,cbfmodel,clfmodel)\n",
        "\n",
        "    # Calculate the average predicted rating for both recommendations\n",
        "    collaborative_avg_rating = np.mean(all_recs['clf_ratings'])\n",
        "    content_based_avg_rating = np.mean(all_recs['cbf_ratings'])\n",
        "\n",
        "    # Calculate the final recommendations based on weighted average ratings\n",
        "\n",
        "    all_recs['weighted_avg'] = (all_recs['clf_ratings'] * collaborative_avg_rating + all_recs['cbf_ratings']* content_based_avg_rating) / 2\n",
        "    hybrid_recommendations = all_recs[['product_id','weighted_avg','discount_price']].values.tolist()\n",
        "\n",
        "    # Sort the recommendations by rating in descending order\n",
        "    hybrid_recommendations.sort(key=lambda x: x[1], reverse=True)\n",
        "\n",
        "    # Filter the recommendations based on the user's budget\n",
        "    filtered_recommendations = []\n",
        "    total_cost = 0\n",
        "    for product, rating,price in hybrid_recommendations:\n",
        "        product_cost = price\n",
        "        if total_cost + product_cost <= budget:\n",
        "            filtered_recommendations.append(product)\n",
        "            total_cost += product_cost\n",
        "        if len(filtered_recommendations) >= 10:\n",
        "            break\n",
        "\n",
        "    return filtered_recommendations, total_cost\n",
        "\n"
      ]
    },
    {
      "cell_type": "code",
      "source": [
        "# Example usage\n",
        "user_id = 126093\n",
        "budget = 10000\n",
        "recommendations, total_cost = hybrid_recommend(df,dataset,user_id,loaded_cbf_model,loaded_clf_model,budget)\n",
        "print(recommendations)\n",
        "print(total_cost)"
      ],
      "metadata": {
        "colab": {
          "base_uri": "https://localhost:8080/"
        },
        "id": "2Bcn8kijs3U8",
        "outputId": "8e794da4-a5cc-4256-c1fa-f02510017e68"
      },
      "execution_count": null,
      "outputs": [
        {
          "output_type": "stream",
          "name": "stdout",
          "text": [
            "25/25 [==============================] - 0s 1ms/step\n",
            "666/666 [==============================] - 1s 1ms/step\n",
            "1/1 [==============================] - 0s 19ms/step\n",
            "[925.0, 94.0, 977.0, 45.0, 920.0, 669.0, 169.0, 907.0, 25.0, 734.0]\n",
            "4617.95\n"
          ]
        }
      ]
    }
  ],
  "metadata": {
    "accelerator": "GPU",
    "colab": {
      "collapsed_sections": [
        "IGFjjYoFrU0q",
        "Z-oVTn3WsNQW",
        "oqllnwyps3um",
        "Ti4c8jzttCsO",
        "TcYJNyUwu72S",
        "_D8bp74KAJAg",
        "nznG3mA30fng",
        "j8hXv6oF52pF",
        "f4oc4uLD7jRY",
        "shl4VkaSurfq",
        "PrtNVaeDAeyU",
        "IloX0DmUAuD5",
        "-DOzL06cA3kq",
        "mcKp10uKBbvi",
        "ZTTXQTj0u8o7",
        "Y58kRRURvGo_",
        "zBW2U5VOfU9r",
        "Nf5vdYXvfeK4",
        "oEdFoTo9fphK",
        "dZi_7iU-KC4R",
        "BbuVNUzuKOml",
        "x09wnvyFKZmM",
        "iLvmD1WuK3S1",
        "XBaRwF0NLHu_",
        "_l7VjGSULPVC",
        "inhIiV54_HDM",
        "lUaFNcHlRCam",
        "9ngLP74URGVI",
        "oH1Gp1nPROfb",
        "2IV5ULX6ZA5-"
      ],
      "machine_shape": "hm",
      "provenance": [],
      "include_colab_link": true
    },
    "kernelspec": {
      "display_name": "Python 3",
      "name": "python3"
    },
    "language_info": {
      "name": "python"
    }
  },
  "nbformat": 4,
  "nbformat_minor": 0
}